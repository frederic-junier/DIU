{
 "cells": [
  {
   "cell_type": "markdown",
   "metadata": {},
   "source": [
    "# PROGRAMMATION DYNAMIQUE\n",
    "\n",
    "\n",
    "Nous avons vu pour la fonction de calcul de la somme maximale des valeurs d’une branche d’un arbre que la\n",
    "programmation dynamique permet de trouver une solution optimale là où un algorithme glouton ne la trouve pas\n",
    "forcément. La programmation dynamique consiste à résoudre un problème en le décomposant en sous-problèmes,\n",
    "puis à résoudre les sous-problèmes, des plus petits aux plus grands en stockant les résultats intermédiaires et en suivant une règle d’optimalité.\n",
    "\n",
    "La méthode de programmation dynamique, comme la méthode diviser-pour-régner, résout des problèmes en\n",
    "combinant des solutions de sous-problèmes. Les algorithmes diviser-pour-régner partitionnent le problème en\n",
    "sous-problèmes indépendants qu’ils résolvent récursivement, puis combinent leurs solutions pour résoudre le\n",
    "problème initial. Mais la méthode diviser-pour-régner est inefficace si on doit résoudre plusieurs fois le même\n",
    "sous-problème. En programmation dynamique, on se rappelle des sous-problèmes que l’on a résolus et de leurs\n",
    "solutions."
   ]
  },
  {
   "cell_type": "markdown",
   "metadata": {},
   "source": [
    "# Termes de la suite de Fibonacci"
   ]
  },
  {
   "cell_type": "markdown",
   "metadata": {},
   "source": [
    "Rappellez vous de la fonction ci-dessous de calcul du n ème terme de la suite de Fibonacci où un appel récursif avec\n",
    "$n-1$ et $n-2$ entraînait une complexité en $O\\left( \\left(\\frac{1+\\sqrt{5}}{2} \\right)^{n}\\right)$.\n",
    "\n",
    "\n",
    "~~~python\n",
    "def fibonacci (n):\n",
    "    if n == 0 or n == 1:\n",
    "        return n\n",
    "    else:\n",
    "        return fibonacci(n-1) + fibonacci(n-2)\n",
    "~~~"
   ]
  },
  {
   "cell_type": "markdown",
   "metadata": {},
   "source": [
    "Pour calculer le n ème terme on a besoin du n-1 qui lui-même à besoin du n-2 et n-3, qui seront réutilisés pour le n-2\n",
    "du n ème terme, etc. Il y a donc beaucoup de calculs dupliqués qui pourraient être évités. La solution est de ne les\n",
    "calculer que s’ils ne l’ont pas encore été."
   ]
  },
  {
   "cell_type": "code",
   "execution_count": 3,
   "metadata": {},
   "outputs": [],
   "source": [
    "def fibonacci (n):\n",
    "    if n == 0 or n == 1:\n",
    "        return n\n",
    "    else:\n",
    "        return fibonacci(n-1) + fibonacci(n-2)\n",
    "\n",
    "def fiboDyna(n):\n",
    "    \n",
    "    def aux(n , t):\n",
    "        if n <= 1:\n",
    "            return t[n]\n",
    "        if t[n] < 0:\n",
    "            res = aux(n - 1, t ) + aux(n - 2, t )\n",
    "            t[n] = res\n",
    "            return res\n",
    "        return t[n]\n",
    "    \n",
    "    return aux(n, [0,1] + [-1] * n)        "
   ]
  },
  {
   "cell_type": "code",
   "execution_count": 4,
   "metadata": {},
   "outputs": [
    {
     "data": {
      "text/plain": [
       "[True, True, True, True, True, True, True, True, True, True]"
      ]
     },
     "execution_count": 4,
     "metadata": {},
     "output_type": "execute_result"
    }
   ],
   "source": [
    "[fiboDyna(n) == fibonacci(n) for n in range(10)]"
   ]
  },
  {
   "cell_type": "markdown",
   "metadata": {},
   "source": [
    "### Comparaison de performances"
   ]
  },
  {
   "cell_type": "code",
   "execution_count": 5,
   "metadata": {},
   "outputs": [],
   "source": [
    "import timeit"
   ]
  },
  {
   "cell_type": "code",
   "execution_count": 6,
   "metadata": {},
   "outputs": [
    {
     "data": {
      "text/plain": [
       "0.5898530567001217"
      ]
     },
     "execution_count": 6,
     "metadata": {},
     "output_type": "execute_result"
    }
   ],
   "source": [
    "timeit.timeit(lambda : [fibonacci(n) for n in range(30)], number = 10)/10"
   ]
  },
  {
   "cell_type": "code",
   "execution_count": 7,
   "metadata": {},
   "outputs": [
    {
     "data": {
      "text/plain": [
       "0.00021146870003576623"
      ]
     },
     "execution_count": 7,
     "metadata": {},
     "output_type": "execute_result"
    }
   ],
   "source": [
    "timeit.timeit(lambda : [fiboDyna(n) for n in range(30)], number = 10)/10"
   ]
  },
  {
   "cell_type": "markdown",
   "metadata": {},
   "source": [
    "## Rendu de pièces de monnaire"
   ]
  },
  {
   "cell_type": "markdown",
   "metadata": {},
   "source": [
    "Sitographie :\n",
    "    \n",
    "* Voir cet article [https://tryalgo.org/fr/2016/12/11/rendudemonnaie/](https://tryalgo.org/fr/2016/12/11/rendudemonnaie/)\n",
    "* Voir le document d'accompagnement [https://cache.media.eduscol.education.fr/file/NSI/76/4/RA_Lycee_G_NSI_algo-gloutons_1170764.pdf](https://cache.media.eduscol.education.fr/file/NSI/76/4/RA_Lycee_G_NSI_algo-gloutons_1170764.pdf)"
   ]
  },
  {
   "cell_type": "markdown",
   "metadata": {},
   "source": [
    "Nous avons vu précédement un algorithme glouton pour résoudre le problème du rendu de pièces de monnaie. La\n",
    "méthode employée était de toujours choisir la pièce de valeur la plus grande possible (afin de se rapprocher de\n",
    "zéro le plus rapidement possible). Nous avons vu que cet algorithme est efficace mais ne rend pas forcément la\n",
    "solution optimale.\n",
    "\n",
    "~~~python\n",
    "systemeMonetaire = [1,2,5,10,20,50,100,200] # exemple de liste de pièces\n",
    "def renduMonnaie(montant) :\n",
    "    return renduMonnaieRecur(montant,[], len(systemeMonetaire)-1)\n",
    "\n",
    "def renduMonnaieRecur(montant,rendu,indPiece) :\n",
    "    if montant == 0 :\n",
    "        return rendu\n",
    "    while montant >= systemeMonetaire[indPiece]:\n",
    "        montant -= systemeMonetaire[indPiece]\n",
    "        rendu.append(systemeMonetaire[indPiece])\n",
    "    return renduMonnaieRecur(montant,rendu,indPiece-1)\n",
    "~~~"
   ]
  },
  {
   "cell_type": "markdown",
   "metadata": {},
   "source": [
    "![rendu monnaie](rendu-monnaie-dynamique.png)"
   ]
  },
  {
   "cell_type": "markdown",
   "metadata": {},
   "source": [
    "Ecrire une fonction Python qui prend en paramètre le montant à rendre et qui retourne la liste des pièces à rendre\n",
    "suivant le principe de la programmation dynamique. Le système monétaire sera connu et stocké sous la forme\n",
    "d’une liste de valeurs triées par ordre croissant.\n",
    "\n",
    "Indication : Vous pourrez commencer par écrire une fonction qui crée et retourne un tableau à deux dimensions\n",
    "pieces_min tel que pieces_min[i][j] contient le nombre minimal de pièces pour un rendu de j centimes avec des\n",
    "pièces de valeur inférieure ou égale à celle de la i ème plus petite pièce du système monétaire."
   ]
  },
  {
   "cell_type": "code",
   "execution_count": 8,
   "metadata": {},
   "outputs": [],
   "source": [
    "#Glouton\n",
    "\n",
    "systemeMonetaire = [1,2,5,10,20,50,100,200] # exemple de liste de pièces\n",
    "\n",
    "def renduMonnaieGlouton(montant, systemeMonetaire):\n",
    "    return renduMonnaieRecurGlouton(montant,systemeMonetaire, [], len(systemeMonetaire)-1)\n",
    "\n",
    "def renduMonnaieRecurGlouton(montant,systemeMonetaire, rendu,indPiece) :\n",
    "    if montant == 0 :\n",
    "        return rendu\n",
    "    while montant >= systemeMonetaire[indPiece]:\n",
    "        montant -= systemeMonetaire[indPiece]\n",
    "        rendu.append(systemeMonetaire[indPiece])\n",
    "    return renduMonnaieRecurGlouton(montant,systemeMonetaire, rendu,indPiece-1)"
   ]
  },
  {
   "cell_type": "code",
   "execution_count": 9,
   "metadata": {},
   "outputs": [],
   "source": [
    "#Rendu dynamique version itérative\n",
    "\n",
    "def renduMonnaieDynaIter(montant, systeme, verbose = False):\n",
    "    pieces_min = [ [0] * len(systeme) for _ in range(montant + 1)]\n",
    "    for m in range(1, montant + 1):\n",
    "        if m % systeme[0] == 0:\n",
    "            pieces_min[m][0] = m // systeme[0]\n",
    "        else:\n",
    "            pieces_min[m][0] = 0\n",
    "        for indexpiece in range(1, len(systeme), systeme[0]):\n",
    "            if systeme[indexpiece] <= m:\n",
    "                pieces_min[m][indexpiece] = min(1 + pieces_min[m - systeme[indexpiece]][indexpiece], pieces_min[m][indexpiece - 1])\n",
    "            else:\n",
    "                pieces_min[m][indexpiece] = pieces_min[m][indexpiece - 1]\n",
    "    if verbose:\n",
    "        print(pieces_min)\n",
    "    return pieces_min[montant][-1]"
   ]
  },
  {
   "cell_type": "code",
   "execution_count": 10,
   "metadata": {},
   "outputs": [],
   "source": [
    "#Rendu dynamique version itérative avec traçage des pièces rendues\n",
    "\n",
    "def renduMonnaieDynaIterDetail(montant, systeme, verbose = False):\n",
    "    pieces_min = [ [[0, 0] for _ in range(len(systeme))] for _ in range(montant + 1)]\n",
    "    for m in range(1, montant + 1, systeme[0]):\n",
    "        if m % systeme[0] == 0:\n",
    "            pieces_min[m][0] = [m // systeme[0], systeme[0]]\n",
    "        else:\n",
    "            pieces_min[m][0] = [0, systeme[0]]\n",
    "        for indexpiece in range(1, len(systeme)):\n",
    "            if systeme[indexpiece] <= m:\n",
    "                p = m - systeme[indexpiece]\n",
    "                if 1 + pieces_min[p][indexpiece][0] < pieces_min[m][indexpiece - 1][0]:\n",
    "                    #nb minimal de pieces rendues pour un montant m avec des pieces d'index <= indexpiece\n",
    "                    pieces_min[m][indexpiece][0] = 1 + pieces_min[p][indexpiece][0]   \n",
    "                    #valeur de la dernière pièce rendue\n",
    "                    pieces_min[m][indexpiece][1] = systeme[indexpiece]\n",
    "                else:\n",
    "                    pieces_min[m][indexpiece] = pieces_min[m][indexpiece - 1][:]\n",
    "            else:\n",
    "                pieces_min[m][indexpiece] = pieces_min[m][indexpiece - 1][:]\n",
    "    if verbose:\n",
    "        print(pieces_min)\n",
    "    nbpieceMin = pieces_min[montant][-1][0]    \n",
    "    dernierePiece = pieces_min[montant][-1][1]\n",
    "    reste = montant - dernierePiece\n",
    "    rendu = [dernierePiece]\n",
    "    while reste > 0:\n",
    "        dernierePiece = pieces_min[reste][-1][1]\n",
    "        reste = reste - dernierePiece\n",
    "        rendu.append(dernierePiece)\n",
    "    return rendu"
   ]
  },
  {
   "cell_type": "code",
   "execution_count": 11,
   "metadata": {},
   "outputs": [
    {
     "name": "stdout",
     "output_type": "stream",
     "text": [
      "[200, 50, 10, 2, 1]\n",
      "[200, 50, 10, 2, 1]\n"
     ]
    }
   ],
   "source": [
    "systemeMonetaireCanonique = [1,2,5,10,20,50,100,200]  #système canonique, optimal également pour l'algo glouton\n",
    "print(renduMonnaieGlouton(263,systemeMonetaireCanonique))\n",
    "print(renduMonnaieDynaIterDetail(263, systemeMonetaireCanonique))"
   ]
  },
  {
   "cell_type": "code",
   "execution_count": 12,
   "metadata": {},
   "outputs": [
    {
     "name": "stdout",
     "output_type": "stream",
     "text": [
      "[4, 1, 1]\n",
      "[[0, 0, 0], [1, 1, 1], [2, 2, 2], [3, 1, 1], [4, 2, 1], [5, 3, 2], [6, 2, 2]]\n",
      "2\n",
      "[3, 3]\n"
     ]
    }
   ],
   "source": [
    "systemeMonetaireNonCanonique = [1,3, 4]  \n",
    "print(renduMonnaieGlouton(6,systemeMonetaireNonCanonique))\n",
    "print(renduMonnaieDynaIter(6, systemeMonetaireNonCanonique, verbose = True))\n",
    "print(renduMonnaieDynaIterDetail(6, systemeMonetaireNonCanonique))"
   ]
  },
  {
   "cell_type": "code",
   "execution_count": 13,
   "metadata": {},
   "outputs": [
    {
     "name": "stdout",
     "output_type": "stream",
     "text": [
      "[23, 1, 1, 1, 1, 1]\n",
      "[7, 7, 7, 7]\n"
     ]
    }
   ],
   "source": [
    "systemeMonetaireNonCanonique = [1,7, 23]  \n",
    "print(renduMonnaieGlouton(28,systemeMonetaireNonCanonique))\n",
    "print(renduMonnaieDynaIterDetail(28, systemeMonetaireNonCanonique))"
   ]
  },
  {
   "cell_type": "code",
   "execution_count": 14,
   "metadata": {},
   "outputs": [],
   "source": [
    "#rendu de monnaie dynamique version récursive\n",
    "\n",
    "def renduMonnaieRec(setReste, systeme,  nbpieces):\n",
    "    setReste2 = set()\n",
    "    for somme in setReste:\n",
    "        for piece in systeme:\n",
    "            if piece <= somme:\n",
    "                reste = somme - piece\n",
    "                if reste == 0:\n",
    "                    return nbpieces + 1\n",
    "                setReste2.add(somme - piece)\n",
    "    return renduMonnaieRec(setReste2, systeme, nbpieces + 1)          "
   ]
  },
  {
   "cell_type": "code",
   "execution_count": 15,
   "metadata": {},
   "outputs": [
    {
     "data": {
      "text/plain": [
       "5"
      ]
     },
     "execution_count": 15,
     "metadata": {},
     "output_type": "execute_result"
    }
   ],
   "source": [
    "renduMonnaieRec({263}, [1,2,5,10,20,50,100,200], 0)"
   ]
  },
  {
   "cell_type": "code",
   "execution_count": 16,
   "metadata": {},
   "outputs": [
    {
     "data": {
      "text/plain": [
       "4"
      ]
     },
     "execution_count": 16,
     "metadata": {},
     "output_type": "execute_result"
    }
   ],
   "source": [
    "renduMonnaieRec({28}, [1,7, 23], 0)"
   ]
  },
  {
   "cell_type": "code",
   "execution_count": 17,
   "metadata": {},
   "outputs": [
    {
     "data": {
      "text/plain": [
       "2"
      ]
     },
     "execution_count": 17,
     "metadata": {},
     "output_type": "execute_result"
    }
   ],
   "source": [
    "renduMonnaieRec({6}, [1,3, 4], 0)"
   ]
  },
  {
   "cell_type": "markdown",
   "metadata": {},
   "source": [
    "## Le sac  à dos"
   ]
  },
  {
   "cell_type": "markdown",
   "metadata": {},
   "source": [
    "Sitographie :\n",
    "\n",
    "* Voir l'article  de Wikipedia (partie sur la programmation dynamique) : [https://fr.wikipedia.org/wiki/Probl%C3%A8me_du_sac_%C3%A0_dos#Programmation_dynamique](https://fr.wikipedia.org/wiki/Probl%C3%A8me_du_sac_%C3%A0_dos#Programmation_dynamique)\n",
    "* Article plus abordable d'Interstices avec une applet : [https://interstices.info/le-probleme-du-sac-a-dos/](https://interstices.info/le-probleme-du-sac-a-dos/)"
   ]
  },
  {
   "cell_type": "markdown",
   "metadata": {},
   "source": [
    "![sac à dos dynamique](sac_a_dos_dynamique.png)"
   ]
  },
  {
   "cell_type": "code",
   "execution_count": 18,
   "metadata": {},
   "outputs": [],
   "source": [
    "def afficher_tab(tab, message):\n",
    "    print(message)\n",
    "    for ligne in tab:\n",
    "        print(ligne)\n",
    "\n",
    "def sacDosDyna(cap_sac, objet):\n",
    "    nb_objet = len(objet)\n",
    "    #j'ai mis des sentinelles\n",
    "    max_val = [[0] * (cap_sac + 1) for _ in range(nb_objet  + 1)]\n",
    "    optimal = [[0] * (cap_sac + 1) for _ in range(nb_objet  + 1)]\n",
    "    for k in range(1, nb_objet + 1):\n",
    "        for cap in range(1, cap_sac + 1):\n",
    "            valeur = objet[k-1][0] \n",
    "            poids = objet[k-1][1] \n",
    "            if poids <= cap:\n",
    "                max_avant = max_val[k-1][cap]\n",
    "                valeur_avec = max_val[k-1][cap - poids]+ valeur\n",
    "                if max_avant < valeur_avec:\n",
    "                    max_val[k][cap] = valeur_avec\n",
    "                    optimal[k][cap] = 1\n",
    "                else:\n",
    "                     max_val[k][cap] = max_avant\n",
    "    valeur_max = max_val[nb_objet][cap_sac]\n",
    "    liste_objets_max = []\n",
    "    cap = cap_sac\n",
    "    afficher_tab(max_val, \"affichage de max_val\")\n",
    "    afficher_tab(optimal, \"affichage de optimal\")\n",
    "    #décalage d'index entre max_val et objet à causes de sentinelles\n",
    "    index_objet = nb_objet - 1\n",
    "    while index_objet > 0:\n",
    "        while index_objet > 0 and optimal[index_objet][cap] != 1:\n",
    "            index_objet = index_objet - 1\n",
    "        if index_objet > 0:\n",
    "            cap = cap - objet[index_objet - 1][1]\n",
    "            liste_objets_max.append(objet[index_objet - 1])      \n",
    "    return (max_val[nb_objet][cap_sac], liste_objets_max)"
   ]
  },
  {
   "cell_type": "code",
   "execution_count": 19,
   "metadata": {},
   "outputs": [
    {
     "name": "stdout",
     "output_type": "stream",
     "text": [
      "affichage de max_val\n",
      "[0, 0, 0, 0, 0, 0, 0, 0, 0, 0]\n",
      "[0, 0, 0, 0, 0, 6, 6, 6, 6, 6]\n",
      "[0, 0, 3, 3, 3, 6, 6, 9, 9, 9]\n",
      "[0, 0, 3, 3, 6, 6, 6, 9, 9, 12]\n",
      "[0, 0, 3, 3, 6, 6, 9, 9, 9, 12]\n",
      "[0, 1, 3, 4, 6, 7, 9, 10, 10, 12]\n",
      "affichage de optimal\n",
      "[0, 0, 0, 0, 0, 0, 0, 0, 0, 0]\n",
      "[0, 0, 0, 0, 0, 1, 1, 1, 1, 1]\n",
      "[0, 0, 1, 1, 1, 0, 0, 1, 1, 1]\n",
      "[0, 0, 0, 0, 1, 0, 0, 0, 0, 1]\n",
      "[0, 0, 0, 0, 0, 0, 1, 0, 0, 0]\n",
      "[0, 1, 0, 1, 0, 1, 0, 1, 1, 0]\n"
     ]
    },
    {
     "data": {
      "text/plain": [
       "(12, [[3, 2], [3, 2], [6, 5]])"
      ]
     },
     "execution_count": 19,
     "metadata": {},
     "output_type": "execute_result"
    }
   ],
   "source": [
    "sacDosDyna(9, [[6,5], [3,2], [3,2], [3,2], [1,1]])"
   ]
  },
  {
   "cell_type": "code",
   "execution_count": 20,
   "metadata": {},
   "outputs": [
    {
     "name": "stdout",
     "output_type": "stream",
     "text": [
      "affichage de max_val\n",
      "[0, 0, 0, 0, 0, 0, 0, 0, 0, 0, 0, 0, 0]\n",
      "[0, 0, 0, 0, 0, 6, 6, 6, 6, 6, 6, 6, 6]\n",
      "[0, 0, 3, 3, 3, 6, 6, 9, 9, 9, 9, 9, 9]\n",
      "[0, 0, 3, 3, 6, 6, 6, 9, 9, 12, 12, 12, 12]\n",
      "[0, 0, 3, 3, 6, 6, 9, 9, 9, 12, 12, 15, 15]\n",
      "[0, 1, 3, 4, 6, 7, 9, 10, 10, 12, 13, 15, 16]\n",
      "affichage de optimal\n",
      "[0, 0, 0, 0, 0, 0, 0, 0, 0, 0, 0, 0, 0]\n",
      "[0, 0, 0, 0, 0, 1, 1, 1, 1, 1, 1, 1, 1]\n",
      "[0, 0, 1, 1, 1, 0, 0, 1, 1, 1, 1, 1, 1]\n",
      "[0, 0, 0, 0, 1, 0, 0, 0, 0, 1, 1, 1, 1]\n",
      "[0, 0, 0, 0, 0, 0, 1, 0, 0, 0, 0, 1, 1]\n",
      "[0, 1, 0, 1, 0, 1, 0, 1, 1, 0, 1, 0, 1]\n"
     ]
    },
    {
     "data": {
      "text/plain": [
       "(16, [[3, 2], [3, 2], [3, 2], [6, 5]])"
      ]
     },
     "execution_count": 20,
     "metadata": {},
     "output_type": "execute_result"
    }
   ],
   "source": [
    "sacDosDyna(12, [[6,5], [3,2], [3,2], [3,2], [1,1]])"
   ]
  }
 ],
 "metadata": {
  "kernelspec": {
   "display_name": "Python 3",
   "language": "python",
   "name": "python3"
  },
  "language_info": {
   "codemirror_mode": {
    "name": "ipython",
    "version": 3
   },
   "file_extension": ".py",
   "mimetype": "text/x-python",
   "name": "python",
   "nbconvert_exporter": "python",
   "pygments_lexer": "ipython3",
   "version": "3.6.9"
  }
 },
 "nbformat": 4,
 "nbformat_minor": 2
}
