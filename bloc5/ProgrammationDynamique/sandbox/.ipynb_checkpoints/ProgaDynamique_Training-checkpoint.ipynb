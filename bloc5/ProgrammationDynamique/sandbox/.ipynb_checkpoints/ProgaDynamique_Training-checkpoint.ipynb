{
 "cells": [
  {
   "cell_type": "markdown",
   "metadata": {},
   "source": [
    "## Rendu de pièces de monnaie"
   ]
  },
  {
   "cell_type": "code",
   "execution_count": 11,
   "metadata": {},
   "outputs": [],
   "source": [
    "def rendu_monnaie_dyna(montant, systeme):\n",
    "    pieces_min = [ [float('inf')] * (montant + 1)  for j in range(len(systeme))]\n",
    "    for i in range(len(systeme)):\n",
    "        pieces_min[i][0] = 0\n",
    "    for j in range(1, montant + 1): \n",
    "        if j % systeme[0] == 0:\n",
    "            pieces_min[0][j] = j // systeme[0]\n",
    "        for i in range(1, len(systeme)):\n",
    "            if systeme[i] <= j:\n",
    "                pieces_min[i][j] = min(pieces_min[i-1][j], 1 + pieces_min[i][j-systeme[i]])\n",
    "            else:\n",
    "                pieces_min[i][j] = pieces_min[i-1][j]\n",
    "    return (pieces_min, pieces_min[-1][montant])           "
   ]
  },
  {
   "cell_type": "code",
   "execution_count": 7,
   "metadata": {},
   "outputs": [
    {
     "data": {
      "text/plain": [
       "5"
      ]
     },
     "execution_count": 7,
     "metadata": {},
     "output_type": "execute_result"
    }
   ],
   "source": [
    "rendu_monnaie_dyna(263, [1,2,5,10,20,50,100,200])"
   ]
  },
  {
   "cell_type": "code",
   "execution_count": 31,
   "metadata": {},
   "outputs": [],
   "source": [
    "def liste_rendu_monnaie_dyna(montant, systeme):\n",
    "    pieces_min, _ = rendu_monnaie_dyna(montant, systeme)\n",
    "    liste_rendu = []\n",
    "    reste = montant\n",
    "    (i, j) = (len(systeme) - 1, montant)\n",
    "    while reste > 0:\n",
    "        #on prend la plus grosse pièce\n",
    "        if j-systeme[i] >= 0 and 1 + pieces_min[i][j-systeme[i]] < pieces_min[i-1][j]:\n",
    "            (i, j) = (i, j-systeme[i])\n",
    "            reste = reste - systeme[i]\n",
    "            liste_rendu.append(systeme[i])\n",
    "        #on ne prend pas la plus grosse pièce\n",
    "        elif i > 0:\n",
    "            (i, j) = (i - 1, j)  \n",
    "        #il ne reste pas de plus petite pièce on est obligé de la prendre\n",
    "        else:\n",
    "            reste = reste - pieces_min[0][j]\n",
    "            liste_rendu.append(pieces_min[0][j])\n",
    "    return liste_rendu        "
   ]
  },
  {
   "cell_type": "code",
   "execution_count": 30,
   "metadata": {},
   "outputs": [
    {
     "data": {
      "text/plain": [
       "[200, 50, 10, 2, 1]"
      ]
     },
     "execution_count": 30,
     "metadata": {},
     "output_type": "execute_result"
    }
   ],
   "source": [
    "liste_rendu_monnaie_dyna(263, [1,2,5,10,20,50,100,200])"
   ]
  },
  {
   "cell_type": "code",
   "execution_count": 50,
   "metadata": {},
   "outputs": [],
   "source": [
    "def rendu_monnaie_dyna_bfs(montant, systeme):\n",
    "    file = [montant]\n",
    "    nbpieces = 0\n",
    "    while len(file) > 0:\n",
    "        montant = file.pop()\n",
    "        nbpieces += 1\n",
    "        deja_calcule = [False] * (montant + 1)\n",
    "        for i in range(0, len(systeme)):\n",
    "            if systeme[i] <= montant:\n",
    "                reste = montant - systeme[i]\n",
    "                if not deja_calcule[reste]:\n",
    "                    file.append(reste)\n",
    "                    deja_calcule[reste] = True\n",
    "                    if reste == 0:\n",
    "                        return nbpieces\n",
    "    return float('inf') #aucun rendu possible     "
   ]
  },
  {
   "cell_type": "code",
   "execution_count": 51,
   "metadata": {},
   "outputs": [
    {
     "data": {
      "text/plain": [
       "5"
      ]
     },
     "execution_count": 51,
     "metadata": {},
     "output_type": "execute_result"
    }
   ],
   "source": [
    "rendu_monnaie_dyna_bfs(263, [1,2,5,10,20,50,100,200])"
   ]
  },
  {
   "cell_type": "code",
   "execution_count": 57,
   "metadata": {},
   "outputs": [],
   "source": [
    "def liste_rendu_monnaie_dyna_bfs(montant, systeme):\n",
    "    file = [montant]\n",
    "    nbpieces = 0\n",
    "    memo_liste = {m : [] for m in range(montant + 1)}\n",
    "    while len(file) > 0:\n",
    "        montant = file.pop()\n",
    "        nbpieces += 1\n",
    "        deja_calcule = [False] * (montant + 1)\n",
    "        for i in range(0, len(systeme)):\n",
    "            if systeme[i] <= montant:\n",
    "                reste = montant - systeme[i]\n",
    "                if not deja_calcule[reste]:\n",
    "                    file.append(reste)\n",
    "                    deja_calcule[reste] = True\n",
    "                    memo_liste[reste] = memo_liste[montant] + [systeme[i]]\n",
    "                    if reste == 0:\n",
    "                        return (nbpieces, memo_liste[0])\n",
    "    return (float('inf'), []) #aucun rendu possible    "
   ]
  },
  {
   "cell_type": "code",
   "execution_count": 58,
   "metadata": {},
   "outputs": [
    {
     "data": {
      "text/plain": [
       "(5, [200, 50, 10, 2, 1])"
      ]
     },
     "execution_count": 58,
     "metadata": {},
     "output_type": "execute_result"
    }
   ],
   "source": [
    "liste_rendu_monnaie_dyna_bfs(263, [1,2,5,10,20,50,100,200])"
   ]
  },
  {
   "cell_type": "markdown",
   "metadata": {},
   "source": [
    "## Le sac à dos"
   ]
  },
  {
   "cell_type": "code",
   "execution_count": 69,
   "metadata": {},
   "outputs": [],
   "source": [
    "def sac_dos_dyna(capacite_sac, objets):\n",
    "    max_val = [ [0] * (capacite_sac + 1)  for j in range(len(objets) + 1)]\n",
    "    optimal = [ [False] * (capacite_sac + 1)  for j in range(len(objets) + 1)]\n",
    "    for i in range(len(objets)):\n",
    "        max_val[i][0] = 0\n",
    "    for capacite in range(1, capacite_sac + 1): \n",
    "        for i in range(len(objets)): \n",
    "            if objets[i][2] <= capacite:\n",
    "                #on prend l'objet d'index i (ligne i + 1 dans max_val)\n",
    "                if max_val[i][capacite - objets[i][2]] + objets[i][1]  > max_val[i][capacite]:\n",
    "                    max_val[i + 1][capacite] = max_val[i][capacite - objets[i][2]] + objets[i][1]\n",
    "                    optimal[i + 1][capacite] = True\n",
    "                else:\n",
    "                    max_val[i + 1][capacite] = max_val[i][capacite]\n",
    "    return (max_val, optimal)           "
   ]
  },
  {
   "cell_type": "code",
   "execution_count": 70,
   "metadata": {},
   "outputs": [
    {
     "data": {
      "text/plain": [
       "([[0, 0, 0, 0, 0, 0, 0],\n",
       "  [0, 0, 0, 0, 0, 6, 6],\n",
       "  [0, 0, 3, 3, 3, 6, 6],\n",
       "  [0, 0, 3, 3, 6, 6, 6],\n",
       "  [0, 0, 3, 3, 6, 6, 9],\n",
       "  [0, 1, 3, 4, 6, 7, 9]],\n",
       " [[False, False, False, False, False, False, False],\n",
       "  [False, False, False, False, False, True, True],\n",
       "  [False, False, True, True, True, False, False],\n",
       "  [False, False, False, False, True, False, False],\n",
       "  [False, False, False, False, False, False, True],\n",
       "  [False, True, False, True, False, True, False]])"
      ]
     },
     "execution_count": 70,
     "metadata": {},
     "output_type": "execute_result"
    }
   ],
   "source": [
    "sac_dos_dyna(6, [['A', 6, 5], ['B', 3, 2], ['C', 3, 2], ['D', 3, 2], ['E',1,1]] )"
   ]
  },
  {
   "cell_type": "code",
   "execution_count": 75,
   "metadata": {},
   "outputs": [],
   "source": [
    "def liste_objets_sac_dos_dyna(capacite_sac, objets):\n",
    "    max_val, optimal = sac_dos_dyna(capacite_sac, objets)\n",
    "    index_objet = len(objets)\n",
    "    capacite_restante = capacite_sac\n",
    "    choix = []\n",
    "    while index_objet > 0:\n",
    "        if optimal[index_objet][capacite_restante]:\n",
    "            if max_val[index_objet - 1][capacite_restante - objets[index_objet - 1][2]] + objets[index_objet - 1][1]  > max_val[index_objet - 1][capacite_restante]:\n",
    "                choix.append( objets[index_objet - 1][0])\n",
    "                (capacite_restante, index_objet) = (capacite_restante - objets[index_objet - 1][2], index_objet - 1)                \n",
    "        else:\n",
    "            index_objet -= 1    \n",
    "    return choix"
   ]
  },
  {
   "cell_type": "code",
   "execution_count": 76,
   "metadata": {},
   "outputs": [
    {
     "data": {
      "text/plain": [
       "['D', 'C', 'B']"
      ]
     },
     "execution_count": 76,
     "metadata": {},
     "output_type": "execute_result"
    }
   ],
   "source": [
    "liste_objets_sac_dos_dyna(6, [['A', 6, 5], ['B', 3, 2], ['C', 3, 2], ['D', 3, 2], ['E',1,1]] )"
   ]
  }
 ],
 "metadata": {
  "kernelspec": {
   "display_name": "Python 3",
   "language": "python",
   "name": "python3"
  },
  "language_info": {
   "codemirror_mode": {
    "name": "ipython",
    "version": 3
   },
   "file_extension": ".py",
   "mimetype": "text/x-python",
   "name": "python",
   "nbconvert_exporter": "python",
   "pygments_lexer": "ipython3",
   "version": "3.6.9"
  }
 },
 "nbformat": 4,
 "nbformat_minor": 2
}
