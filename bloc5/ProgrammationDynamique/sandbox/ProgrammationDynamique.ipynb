{
 "cells": [
  {
   "cell_type": "markdown",
   "metadata": {},
   "source": [
    "# PROGRAMMATION DYNAMIQUE\n",
    "\n",
    "\n",
    "Nous avons vu pour la fonction de calcul de la somme maximale des valeurs d’une branche d’un arbre que la\n",
    "programmation dynamique permet de trouver une solution optimale là où un algorithme glouton ne la trouve pas\n",
    "forcément. La programmation dynamique consiste à résoudre un problème en le décomposant en sous-problèmes,\n",
    "puis à résoudre les sous-problèmes, des plus petits aux plus grands en stockant les résultats intermédiaires et en suivant une règle d’optimalité.\n",
    "\n",
    "La méthode de programmation dynamique, comme la méthode diviser-pour-régner, résout des problèmes en\n",
    "combinant des solutions de sous-problèmes. Les algorithmes diviser-pour-régner partitionnent le problème en\n",
    "sous-problèmes indépendants qu’ils résolvent récursivement, puis combinent leurs solutions pour résoudre le\n",
    "problème initial. Mais la méthode diviser-pour-régner est inefficace si on doit résoudre plusieurs fois le même\n",
    "sous-problème. En programmation dynamique, on se rappelle des sous-problèmes que l’on a résolus et de leurs\n",
    "solutions.\n",
    "\n",
    "\n",
    "\n",
    "Les algorithmes utilisant le principe de mémoïsation forment un sous-ensemble des algorithmes dit de programmation dynamique. La programmation dynamique consiste à résoudre un problème soit à l'aide d'un algorithme (souvent itératif) ascendant (ou bottom-up) en stockant des données déjà calculées (souvent dans un tableau) et utilise directement la sous-structure optimale du problème, soit à l'aide d'un algorithme (souvent récursif) descendant (ou top-down) qui utilise le principe de mémoïsation de ces données (c-à-d qui teste si on a déjà calculé les données et ne le refait pas le cas échéant)."
   ]
  },
  {
   "cell_type": "markdown",
   "metadata": {},
   "source": [
    "## Notes de la visio du 23/06/2020\n",
    "\n",
    "* La programmation dynamique est une sous-classe du \"Diviser pour régner\".\n",
    "* Différence : on mémorise les solutions des problèmes déjà résolus\n",
    "* On peut donc avoir besoin de stocker dans des tableaux des résultats intermédiaires\n",
    "* Le choix de la programmation dynamique cela peut être celui entre la complexité en temps (proga dynamique) et en espace"
   ]
  },
  {
   "cell_type": "markdown",
   "metadata": {},
   "source": [
    "# Termes de la suite de Fibonacci"
   ]
  },
  {
   "cell_type": "markdown",
   "metadata": {},
   "source": [
    "Rappellez vous de la fonction ci-dessous de calcul du n ème terme de la suite de Fibonacci où un appel récursif avec\n",
    "$n-1$ et $n-2$ entraînait une complexité en $O\\left( \\left(\\frac{1+\\sqrt{5}}{2} \\right)^{n}\\right)$.\n",
    "\n",
    "Le  $O\\left( \\left(\\frac{1+\\sqrt{5}}{2} \\right)^{n}\\right)$ au lieu de $2^{n}$ parce qu'on a un appel à $n-1$ et à $n-2$ et non pas deux appels à $n-1$.\n",
    "\n",
    "\n",
    "~~~python\n",
    "def fibonacci (n):\n",
    "    if n == 0 or n == 1:\n",
    "        return n\n",
    "    else:\n",
    "        return fibonacci(n-1) + fibonacci(n-2)\n",
    "~~~"
   ]
  },
  {
   "cell_type": "markdown",
   "metadata": {},
   "source": [
    "Pour calculer le n ème terme on a besoin du n-1 qui lui-même à besoin du n-2 et n-3, qui seront réutilisés pour le n-2\n",
    "du n ème terme, etc. Il y a donc beaucoup de calculs dupliqués qui pourraient être évités. La solution est de ne les\n",
    "calculer que s’ils ne l’ont pas encore été."
   ]
  },
  {
   "cell_type": "code",
   "execution_count": 4,
   "metadata": {},
   "outputs": [],
   "source": [
    "def fibonacci (n):\n",
    "    if n == 0 or n == 1:\n",
    "        return n\n",
    "    else:\n",
    "        return fibonacci(n-1) + fibonacci(n-2)\n",
    "\n",
    "def fiboDyna(n):\n",
    "    \n",
    "    def aux(n , t):\n",
    "        if n <= 1:\n",
    "            return t[n]\n",
    "        if t[n] < 0:\n",
    "            res = aux(n - 1, t ) + aux(n - 2, t )\n",
    "            t[n] = res\n",
    "            return res\n",
    "        return t[n]\n",
    "    \n",
    "    return aux(n, [0,1] + [-1] * n)    \n",
    "\n",
    "#Approche Bottom-Up\n",
    "def fibonacciDynaIter(n):\n",
    "    tableau= [0] * (n + 1)\n",
    "    tableau[1] = 1\n",
    "    for i in range(2, n + 1):\n",
    "        tableau[i] = tableau[i-1] + tableau[i-2]\n",
    "    return tableau[n]\n",
    "\n",
    "\n",
    "#Approche Top-Down\n",
    "\n",
    "\n",
    "def fibonacciDyna2(n):\n",
    "    #on met None pour repérer qu'on n'a pas encore calculé la valeur\n",
    "    tableau = [None] * (n + 1) \n",
    "    return fibonacciDynaRec2(n ,tableau)\n",
    "\n",
    "\n",
    "def fibonacciDynaRec2(n ,tableau):\n",
    "    #j'ai déjà calculé la valeur\n",
    "    #cette ligne nous dit qu'on ne va pas refaire le calcul\n",
    "    #on n'a jamais calculé deux fois le même élément\n",
    "    #donc complexité en O(n), on voit l'intérêt de la programmation dynamique\n",
    "    if tableau[n] is not None:\n",
    "        return tableau[n]\n",
    "    #je suis dans un cas particulier\n",
    "    if n == 0 or n == 1:\n",
    "        tableau[n] = n\n",
    "    #sinon \n",
    "    else:\n",
    "        tableau[n] = fibonacciDynaRec2(n - 1 ,tableau) + fibonacciDynaRec2(n - 2,tableau)\n",
    "    return tableau[n]\n",
    "\n",
    "\n",
    "#Il existe une version meilleure en complexité en mémoire (pas en temporel)\n",
    "\n",
    "def fibonacci(n):\n",
    "    i = 0 \n",
    "    j = 1\n",
    "    for k in range(n):\n",
    "        temp = i + j\n",
    "        i = j\n",
    "        j = temp\n",
    "    return i\n",
    "\n",
    "\n",
    "#une autre version récursive\n",
    "\n",
    "\n",
    "def fibo(n , last = True):\n",
    "    if n == 0:\n",
    "        res = (0,0)\n",
    "    elif n == 1:\n",
    "        res = (0,1)\n",
    "    else:\n",
    "        (fib1, fib2) = fibo(n - 1 , False)\n",
    "        res =(fib2, fib1 + fib2)\n",
    "    if last:\n",
    "        return res[0]\n",
    "    return res"
   ]
  },
  {
   "cell_type": "code",
   "execution_count": 5,
   "metadata": {},
   "outputs": [
    {
     "data": {
      "text/plain": [
       "[0, 0, 1, 1, 2, 3, 5, 8, 13, 21]"
      ]
     },
     "execution_count": 5,
     "metadata": {},
     "output_type": "execute_result"
    }
   ],
   "source": [
    "[fibo(n) for n in range(10)]"
   ]
  },
  {
   "cell_type": "code",
   "execution_count": 63,
   "metadata": {},
   "outputs": [
    {
     "data": {
      "text/plain": [
       "[True, True, True, True, True, True, True, True, True, True]"
      ]
     },
     "execution_count": 63,
     "metadata": {},
     "output_type": "execute_result"
    }
   ],
   "source": [
    "[fiboDyna(n) == fibonacci(n) for n in range(10)]"
   ]
  },
  {
   "cell_type": "markdown",
   "metadata": {},
   "source": [
    "### Comparaison de performances"
   ]
  },
  {
   "cell_type": "code",
   "execution_count": 64,
   "metadata": {},
   "outputs": [],
   "source": [
    "import timeit"
   ]
  },
  {
   "cell_type": "code",
   "execution_count": 65,
   "metadata": {},
   "outputs": [
    {
     "data": {
      "text/plain": [
       "0.6206117880999955"
      ]
     },
     "execution_count": 65,
     "metadata": {},
     "output_type": "execute_result"
    }
   ],
   "source": [
    "timeit.timeit(lambda : [fibonacci(n) for n in range(30)], number = 10)/10"
   ]
  },
  {
   "cell_type": "code",
   "execution_count": 66,
   "metadata": {},
   "outputs": [
    {
     "data": {
      "text/plain": [
       "0.00020800000020244626"
      ]
     },
     "execution_count": 66,
     "metadata": {},
     "output_type": "execute_result"
    }
   ],
   "source": [
    "timeit.timeit(lambda : [fiboDyna(n) for n in range(30)], number = 10)/10"
   ]
  },
  {
   "cell_type": "markdown",
   "metadata": {},
   "source": [
    "## Rendu de pièces de monnaire"
   ]
  },
  {
   "cell_type": "markdown",
   "metadata": {},
   "source": [
    "Sitographie :\n",
    "    \n",
    "* Voir cet article [https://tryalgo.org/fr/2016/12/11/rendudemonnaie/](https://tryalgo.org/fr/2016/12/11/rendudemonnaie/)\n",
    "* Voir le document d'accompagnement [https://cache.media.eduscol.education.fr/file/NSI/76/4/RA_Lycee_G_NSI_algo-gloutons_1170764.pdf](https://cache.media.eduscol.education.fr/file/NSI/76/4/RA_Lycee_G_NSI_algo-gloutons_1170764.pdf)"
   ]
  },
  {
   "cell_type": "markdown",
   "metadata": {},
   "source": [
    "Nous avons vu précédement un algorithme glouton pour résoudre le problème du rendu de pièces de monnaie. La\n",
    "méthode employée était de toujours choisir la pièce de valeur la plus grande possible (afin de se rapprocher de\n",
    "zéro le plus rapidement possible). Nous avons vu que cet algorithme est efficace mais ne rend pas forcément la\n",
    "solution optimale.\n",
    "\n",
    "~~~python\n",
    "systemeMonetaire = [1,2,5,10,20,50,100,200] # exemple de liste de pièces\n",
    "def renduMonnaie(montant) :\n",
    "    return renduMonnaieRecur(montant,[], len(systemeMonetaire)-1)\n",
    "\n",
    "def renduMonnaieRecur(montant,rendu,indPiece) :\n",
    "    if montant == 0 :\n",
    "        return rendu\n",
    "    while montant >= systemeMonetaire[indPiece]:\n",
    "        montant -= systemeMonetaire[indPiece]\n",
    "        rendu.append(systemeMonetaire[indPiece])\n",
    "    return renduMonnaieRecur(montant,rendu,indPiece-1)\n",
    "~~~"
   ]
  },
  {
   "cell_type": "markdown",
   "metadata": {},
   "source": [
    "## Notes du 23/0/6/2020\n",
    "\n",
    "\n",
    "* Bien de traiter en programmation dynamique les mêmes problèmes que ceux traités en glouton"
   ]
  },
  {
   "cell_type": "markdown",
   "metadata": {},
   "source": [
    "![rendu monnaie](rendu-monnaie-dynamique.png)"
   ]
  },
  {
   "cell_type": "markdown",
   "metadata": {},
   "source": [
    "Ecrire une fonction Python qui prend en paramètre le montant à rendre et qui retourne la liste des pièces à rendre\n",
    "suivant le principe de la programmation dynamique. Le système monétaire sera connu et stocké sous la forme\n",
    "d’une liste de valeurs triées par ordre croissant.\n",
    "\n",
    "Indication : Vous pourrez commencer par écrire une fonction qui crée et retourne un tableau à deux dimensions\n",
    "pieces_min tel que pieces_min[i][j] contient le nombre minimal de pièces pour un rendu de j centimes avec des\n",
    "pièces de valeur inférieure ou égale à celle de la i ème plus petite pièce du système monétaire."
   ]
  },
  {
   "cell_type": "code",
   "execution_count": 15,
   "metadata": {},
   "outputs": [],
   "source": [
    "#Glouton\n",
    "\n",
    "systemeMonetaire = [1,2,5,10,20,50,100,200] # exemple de liste de pièces\n",
    "\n",
    "def renduMonnaieGlouton(montant, systemeMonetaire):\n",
    "    return renduMonnaieRecurGlouton(montant,systemeMonetaire, [], len(systemeMonetaire)-1)\n",
    "\n",
    "def renduMonnaieRecurGlouton(montant,systemeMonetaire, rendu,indPiece) :\n",
    "    if montant == 0 :\n",
    "        return rendu\n",
    "    while montant >= systemeMonetaire[indPiece]:\n",
    "        montant -= systemeMonetaire[indPiece]\n",
    "        rendu.append(systemeMonetaire[indPiece])\n",
    "    return renduMonnaieRecurGlouton(montant,systemeMonetaire, rendu,indPiece-1)"
   ]
  },
  {
   "cell_type": "code",
   "execution_count": 29,
   "metadata": {},
   "outputs": [],
   "source": [
    "## Version de la correction\n",
    "\n",
    "#Solution Bottom-Up\n",
    "#On créé un tableau qui stocke tous les min\n",
    "#pour toutes les configurations possibles\n",
    "\n",
    "\n",
    "def creerTableauPiecesMin(montant):\n",
    "    # n = nombre de pièces différentees\n",
    "    n = len(systemeMonetaire)\n",
    "    # init à l'infini matrice de taille montant (de 0 à montant par pas de 1)\n",
    "    # par n (nombre de pièces min)    \n",
    "    pieces_min = [[float('inf')] * (montant + 1) for _ in range(n)]\n",
    "    for sousMontant in range(montant + 1): #pour tout sous-montant inférieur à montant\n",
    "        if sousMontant % systemeMonetaire[0] == 0: \n",
    "            pieces_min[0][sousMontant] = sousMontant // systemeMonetaire[0]\n",
    "            #alors on peut attteindre le sous-montant avec ces petites pièces\n",
    "    for i in range(1, n): #on parcourt le reste des lignes\n",
    "        for j in range(montant + 1): #on parrcout toutes les colonnes (sous-montants)\n",
    "            pieces_min[i][j] = pieces_min[i - 1][j]\n",
    "            #la solution avec des plus petites pièces est aussi une solution avec une plus grosse\n",
    "            if systemeMonetaire[i] <= j: # si la valeur de la pièce est plus petite\n",
    "                                         #que le sous-montant (ie on peut utiliser la pièce)\n",
    "                if pieces_min[i][j - systemeMonetaire[i]] + 1 < pieces_min[i][j]:\n",
    "                    # si utiliser la pièce i permet de rendre moins de pièces que la solution précédente\n",
    "                    pieces_min[i][j] = pieces_min[i][j] - pieces_min[i][j - systemeMonetaire[i]] + 1 \n",
    "                    # alors on l'utilise\n",
    "    return pieces_min    \n",
    "\n",
    "\n",
    "\n",
    "def renduMonnaireProgDyn(montant):\n",
    "    pices_min = creerTableauPiecesMin(montant)\n",
    "    n = lens(systemeMonetaire)\n",
    "    rendu = []\n",
    "    i = n - 1\n",
    "    while montant > 0:\n",
    "        if montant >= systemeMonetaire[i]:\n",
    "            if pieces_min[i][montant - systemeMonetaire[i]] + 1 == pieces_min[i][montant]:\n",
    "                #si la pièce est optimale\n",
    "                rendu.append(systemeMonetaire[i])  #on ajoute la pièce i à la solution\n",
    "                montant-= systemeMonetaire[i]     #on décrémente le montant\n",
    "                continue\n",
    "        i -= 1\n",
    "    return rendu\n",
    "\n",
    "#on fait un parcours en largeur du graphe précédent\n",
    "\n",
    "def renduMonnaieProgDynArbre(montant):\n",
    "    deja_calcule = [False] * montant #garder trace des montants calculés\n",
    "    file = File([(montant, [])]) #la file du parcours en largeur\n",
    "    while not file.estVide(): #tant que pas tout exploré\n",
    "        (valeur, liste_pieces) = file.traiter() #on traite le premier de la file\n",
    "        for piece in systemeMonetaire: #on calcule les n fils de ce noeud\n",
    "            if valeur == piece: #si on a trouvé la dernière pièce qui donne une valeur à rendre\n",
    "                liste_pieces.append(piece)\n",
    "                return liste_pieces #on retourne la solution\n",
    "            if valeur - piece > 0 and not deja_calcule[valeur - piece]:\n",
    "                #pas encore fini (nouvelle valeur positive et pas deja calculee)    \n",
    "                liste_pieces_tmp. = liste_pieces.copy()\n",
    "                liste_pieces_tmp.append(piece)\n",
    "                file.enfiler(valeur - piece, liste_pieces_tmp)\n",
    "                deja_calcule[valeur-piece] =) True\n",
    "    print('Rendu impossible') #si on arrive là le rendu est impossible\n",
    "                "
   ]
  },
  {
   "cell_type": "code",
   "execution_count": null,
   "metadata": {},
   "outputs": [],
   "source": []
  },
  {
   "cell_type": "code",
   "execution_count": 11,
   "metadata": {},
   "outputs": [],
   "source": [
    "#Rendu dynamique version itérative\n",
    "\n",
    "def renduMonnaieDynaIter(montant, systeme, verbose = False):\n",
    "    pieces_min = [ [float('inf')] * len(systeme) for _ in range(montant + 1)]\n",
    "    for m in range(0, montant + 1):\n",
    "        if m % systeme[0] == 0:\n",
    "            pieces_min[m][0] = m // systeme[0]\n",
    "        else:\n",
    "            pieces_min[m][0] = 0\n",
    "        for indexpiece in range(1, len(systeme), systeme[0]):\n",
    "            if systeme[indexpiece] <= m:\n",
    "                pieces_min[m][indexpiece] = min(1 + pieces_min[m - systeme[indexpiece]][indexpiece], pieces_min[m][indexpiece - 1])\n",
    "            else:\n",
    "                pieces_min[m][indexpiece] = pieces_min[m][indexpiece - 1]\n",
    "    if verbose:\n",
    "        print(pieces_min)\n",
    "    return pieces_min[montant][-1]"
   ]
  },
  {
   "cell_type": "code",
   "execution_count": 12,
   "metadata": {},
   "outputs": [],
   "source": [
    "#Rendu dynamique version itérative avec traçage des pièces rendues\n",
    "\n",
    "def renduMonnaieDynaIterDetail(montant, systeme, verbose = False):\n",
    "    \"\"\"Une version Bottom -> Top\"\"\"\n",
    "    pieces_min = [ [[float('inf'), 0] for _ in range(len(systeme))] for _ in range(montant + 1)]\n",
    "    for m in range(0, montant + 1, systeme[0]):\n",
    "        if m % systeme[0] == 0:\n",
    "            pieces_min[m][0] = [m // systeme[0], systeme[0]]\n",
    "        else:\n",
    "            pieces_min[m][0] = [0, systeme[0]]\n",
    "        for indexpiece in range(1, len(systeme)):\n",
    "            if systeme[indexpiece] <= m:\n",
    "                p = m - systeme[indexpiece]\n",
    "                if 1 + pieces_min[p][indexpiece][0] < pieces_min[m][indexpiece - 1][0]:\n",
    "                    #nb minimal de pieces rendues pour un montant m avec des pieces d'index <= indexpiece\n",
    "                    pieces_min[m][indexpiece][0] = 1 + pieces_min[p][indexpiece][0]   \n",
    "                    #valeur de la dernière pièce rendue\n",
    "                    pieces_min[m][indexpiece][1] = systeme[indexpiece]\n",
    "                else:\n",
    "                    pieces_min[m][indexpiece] = pieces_min[m][indexpiece - 1]\n",
    "            else:\n",
    "                pieces_min[m][indexpiece] = pieces_min[m][indexpiece - 1]\n",
    "    if verbose:\n",
    "        print(pieces_min)\n",
    "    nbpieceMin = pieces_min[montant][-1][0]    \n",
    "    dernierePiece = pieces_min[montant][-1][1]\n",
    "    reste = montant - dernierePiece\n",
    "    rendu = [dernierePiece]\n",
    "    while reste > 0:\n",
    "        dernierePiece = pieces_min[reste][-1][1]\n",
    "        reste = reste - dernierePiece\n",
    "        rendu.append(dernierePiece)\n",
    "    return rendu"
   ]
  },
  {
   "cell_type": "code",
   "execution_count": 16,
   "metadata": {},
   "outputs": [
    {
     "name": "stdout",
     "output_type": "stream",
     "text": [
      "[200, 50, 10, 2, 1]\n",
      "[200, 50, 10, 2, 1]\n"
     ]
    }
   ],
   "source": [
    "systemeMonetaireCanonique = [1,2,5,10,20,50,100,200]  #système canonique, optimal également pour l'algo glouton\n",
    "print(renduMonnaieGlouton(263,systemeMonetaireCanonique))\n",
    "print(renduMonnaieDynaIterDetail(263, systemeMonetaireCanonique))"
   ]
  },
  {
   "cell_type": "code",
   "execution_count": 17,
   "metadata": {},
   "outputs": [
    {
     "name": "stdout",
     "output_type": "stream",
     "text": [
      "[4, 1, 1]\n",
      "[[0, 0, 0], [1, 1, 1], [2, 2, 2], [3, 1, 1], [4, 2, 1], [5, 3, 2], [6, 2, 2]]\n",
      "2\n",
      "[3, 3]\n"
     ]
    }
   ],
   "source": [
    "systemeMonetaireNonCanonique = [1,3, 4]  \n",
    "print(renduMonnaieGlouton(6,systemeMonetaireNonCanonique))\n",
    "print(renduMonnaieDynaIter(6, systemeMonetaireNonCanonique, verbose = True))\n",
    "print(renduMonnaieDynaIterDetail(6, systemeMonetaireNonCanonique))"
   ]
  },
  {
   "cell_type": "code",
   "execution_count": 18,
   "metadata": {},
   "outputs": [
    {
     "name": "stdout",
     "output_type": "stream",
     "text": [
      "[23, 1, 1, 1, 1, 1]\n",
      "[7, 7, 7, 7]\n"
     ]
    }
   ],
   "source": [
    "systemeMonetaireNonCanonique = [1,7, 23]  \n",
    "print(renduMonnaieGlouton(28,systemeMonetaireNonCanonique))\n",
    "print(renduMonnaieDynaIterDetail(28, systemeMonetaireNonCanonique))"
   ]
  },
  {
   "cell_type": "code",
   "execution_count": 19,
   "metadata": {},
   "outputs": [],
   "source": [
    "#Décorateur pour compter les appels\n",
    "\n",
    "def counter(f):\n",
    "\n",
    "    def wrap(*args, **kwargs):\n",
    "        wrap.compteur += 1\n",
    "        rep = f(*args, **kwargs)         \n",
    "        return rep\n",
    "    \n",
    "    #compteur attaché dans la 'closure' de  la fonction wrap comme attribut\n",
    "    #c'est plus facile pour y accéder de l'extérieur\n",
    "    wrap.compteur = 0    \n",
    "    return wrap\n",
    "    "
   ]
  },
  {
   "cell_type": "code",
   "execution_count": 20,
   "metadata": {},
   "outputs": [],
   "source": [
    "#rendu de monnaie version récursive (mais pas dynamique)\n",
    "\n",
    "def renduMonnaieRecWrapped(setReste, systeme,  nbpieces):\n",
    "    \n",
    "    @counter\n",
    "    def renduMonnaieRec(setReste, systeme,  nbpieces):\n",
    "        setReste2 = set()\n",
    "        for somme in setReste:\n",
    "            for piece in systeme:\n",
    "                renduMonnaieRec.tourBoucle += 1\n",
    "                if piece <= somme:\n",
    "                    reste = somme - piece\n",
    "                    if reste == 0:\n",
    "                        return nbpieces + 1\n",
    "                    setReste2.add(somme - piece)\n",
    "        return renduMonnaieRec(setReste2, systeme, nbpieces + 1)\n",
    "    \n",
    "    renduMonnaieRec.tourBoucle = 0\n",
    "    rep = renduMonnaieRec(setReste, systeme,  nbpieces)\n",
    "    print(f\"{renduMonnaieRec.compteur} appels récusifs et {renduMonnaieRec.tourBoucle} tours de boucles\")\n",
    "    return rep"
   ]
  },
  {
   "cell_type": "code",
   "execution_count": 21,
   "metadata": {},
   "outputs": [
    {
     "name": "stdout",
     "output_type": "stream",
     "text": [
      "5 appels récusifs et 1081 tours de boucles\n"
     ]
    },
    {
     "data": {
      "text/plain": [
       "5"
      ]
     },
     "execution_count": 21,
     "metadata": {},
     "output_type": "execute_result"
    }
   ],
   "source": [
    "renduMonnaieRecWrapped({263}, [1,2,5,10,20,50,100,200], 0)"
   ]
  },
  {
   "cell_type": "code",
   "execution_count": 22,
   "metadata": {},
   "outputs": [
    {
     "name": "stdout",
     "output_type": "stream",
     "text": [
      "4 appels récusifs et 29 tours de boucles\n"
     ]
    },
    {
     "data": {
      "text/plain": [
       "4"
      ]
     },
     "execution_count": 22,
     "metadata": {},
     "output_type": "execute_result"
    }
   ],
   "source": [
    "renduMonnaieRecWrapped({28}, [1,7, 23], 0)"
   ]
  },
  {
   "cell_type": "code",
   "execution_count": 17,
   "metadata": {},
   "outputs": [
    {
     "name": "stdout",
     "output_type": "stream",
     "text": [
      "2 appels récusifs et 8 tours de boucles\n"
     ]
    },
    {
     "data": {
      "text/plain": [
       "2"
      ]
     },
     "execution_count": 17,
     "metadata": {},
     "output_type": "execute_result"
    }
   ],
   "source": [
    "renduMonnaieRecWrapped({6}, [1,3, 4], 0)"
   ]
  },
  {
   "cell_type": "code",
   "execution_count": 18,
   "metadata": {},
   "outputs": [
    {
     "name": "stdout",
     "output_type": "stream",
     "text": [
      "16 appels récusifs et 1960 tours de boucles\n"
     ]
    },
    {
     "data": {
      "text/plain": [
       "16"
      ]
     },
     "execution_count": 18,
     "metadata": {},
     "output_type": "execute_result"
    }
   ],
   "source": [
    "renduMonnaieRecWrapped({280}, [1,7, 23], 0)"
   ]
  },
  {
   "cell_type": "code",
   "execution_count": 37,
   "metadata": {},
   "outputs": [],
   "source": [
    "def renduMonnaieDynaRec(somme, systeme):\n",
    "    \n",
    "    \"\"\"Une version Top-> Bottom, dynamique récursive, avec liste des pièces du rendu\"\"\"\n",
    "    \n",
    "    memo = [[(float('inf'), None, None) for _ in range(len(systeme))] for _ in range(somme + 1)]\n",
    "    #memo[montant][indexpiece] contiendra le nb de pieces minimal calculé,\n",
    "    #la somme restante et le plus grand index de piece utilisé pour le rendu\n",
    "  \n",
    "    @counter\n",
    "    def aux(somme, indexpiece):\n",
    "        \"\"\"Complexite spatiale en O(montant * len(systeme)) la même que pour la version Bottom -> Top\"\"\"        \n",
    "        if somme == 0:\n",
    "            return (0, None, None)\n",
    "        if memo[somme][indexpiece][0] != float('inf'):\n",
    "            return memo[somme][indexpiece]\n",
    "        if indexpiece == 0:\n",
    "            if somme % systeme[0] == 0:\n",
    "                q = somme // systeme[0]\n",
    "                memo[somme][indexpiece] = (q, 0, 0)\n",
    "                return (q, 0, 0)\n",
    "            memo[somme][indexpiece] = (0, None,None)\n",
    "            return (0, None, None)   \n",
    "        v1, m1, i1 = aux(somme, indexpiece - 1)\n",
    "        if systeme[indexpiece] <= somme:\n",
    "            v2, m2, i2 = aux(somme - systeme[indexpiece], indexpiece)\n",
    "            v = v2 + 1\n",
    "            if v < v1:                \n",
    "                memo[somme][indexpiece] = (v, somme - systeme[indexpiece], indexpiece)\n",
    "                return (v, somme - systeme[indexpiece], indexpiece)\n",
    "        memo[somme][indexpiece] = v1, m1, i1\n",
    "        return (v1, m1, i1)\n",
    "    \n",
    "   \n",
    "    \n",
    "    #print(memo)\n",
    "    indexpiece = len(systeme) - 1\n",
    "    aux(somme, indexpiece)\n",
    "    print(f\"{aux.compteur} appels récursifs\")\n",
    "    print(memo[somme][indexpiece])\n",
    "    nbpiecemin, reste, indexpiece= memo[somme][indexpiece]\n",
    "    dernierepiece = somme - reste\n",
    "    rendu = []\n",
    "    rendu.append(dernierepiece)\n",
    "    somme = reste\n",
    "    while somme > 0:\n",
    "        _, reste, indexpiece= memo[somme][indexpiece]\n",
    "        dernierepiece = somme - reste\n",
    "        rendu.append(dernierepiece)\n",
    "        somme = reste     \n",
    "    return nbpiecemin, rendu"
   ]
  },
  {
   "cell_type": "code",
   "execution_count": 38,
   "metadata": {},
   "outputs": [
    {
     "name": "stdout",
     "output_type": "stream",
     "text": [
      "747 appels récursifs\n",
      "(5, 63, 7)\n"
     ]
    },
    {
     "data": {
      "text/plain": [
       "(5, [200, 50, 10, 2, 1])"
      ]
     },
     "execution_count": 38,
     "metadata": {},
     "output_type": "execute_result"
    }
   ],
   "source": [
    "renduMonnaieDynaRec(263, [1,2,5,10,20,50,100,200])"
   ]
  },
  {
   "cell_type": "code",
   "execution_count": 80,
   "metadata": {
    "scrolled": true
   },
   "outputs": [
    {
     "name": "stdout",
     "output_type": "stream",
     "text": [
      "9 appels récursifs\n"
     ]
    },
    {
     "data": {
      "text/plain": [
       "(2, [3, 3])"
      ]
     },
     "execution_count": 80,
     "metadata": {},
     "output_type": "execute_result"
    }
   ],
   "source": [
    "renduMonnaieDynaRec(6, [1,3, 4])"
   ]
  },
  {
   "cell_type": "code",
   "execution_count": 81,
   "metadata": {},
   "outputs": [
    {
     "name": "stdout",
     "output_type": "stream",
     "text": [
      "13 appels récursifs\n"
     ]
    },
    {
     "data": {
      "text/plain": [
       "(4, [7, 7, 7, 7])"
      ]
     },
     "execution_count": 81,
     "metadata": {},
     "output_type": "execute_result"
    }
   ],
   "source": [
    "renduMonnaieDynaRec(28, [1,7, 23])"
   ]
  },
  {
   "cell_type": "code",
   "execution_count": 82,
   "metadata": {},
   "outputs": [
    {
     "name": "stdout",
     "output_type": "stream",
     "text": [
      "448 appels récursifs\n"
     ]
    },
    {
     "data": {
      "text/plain": [
       "(16, [23, 23, 23, 23, 23, 23, 23, 23, 23, 23, 23, 23, 4])"
      ]
     },
     "execution_count": 82,
     "metadata": {},
     "output_type": "execute_result"
    }
   ],
   "source": [
    "renduMonnaieDynaRec(280, [1,7, 23])"
   ]
  },
  {
   "cell_type": "code",
   "execution_count": 83,
   "metadata": {},
   "outputs": [
    {
     "name": "stdout",
     "output_type": "stream",
     "text": [
      "Rendu min pour 263 avec systeme=[1, 2, 5, 10, 20, 50, 100, 200] en 5 pièces\n",
      "1725 appels récursifs et somme * len(systeme) = 2104\n",
      "Rendu min pour 280 avec systeme=[1, 7, 23] en 16 pièces\n",
      "813 appels récursifs et somme * len(systeme) = 840\n",
      "Rendu min pour 280 avec systeme=[1, 7, 23] en 4 pièces\n",
      "57 appels récursifs et somme * len(systeme) = 84\n",
      "Rendu min pour 6 avec systeme=[1, 3, 4] en 2 pièces\n",
      "14 appels récursifs et somme * len(systeme) = 18\n"
     ]
    }
   ],
   "source": [
    "@counter\n",
    "def renduMonnaieRecurDynaBrigitte(montant,mem):\n",
    "    \"\"\"Complexité spatiale en O(montant)\"\"\"\n",
    "    if montant==0:\n",
    "        return 0\n",
    "    elif mem[montant]>0:\n",
    "        return mem[montant]\n",
    "    else:\n",
    "        nbPieces = montant//systemeMonetaire[0]\n",
    "        for piece in systemeMonetaire :\n",
    "            if piece <= montant :\n",
    "                nb = 1 + renduMonnaieRecurDynaBrigitte(montant-piece,mem)\n",
    "                if nb < nbPieces :\n",
    "                    nbPieces = nb \n",
    "        mem[montant] = nbPieces\n",
    "    return mem[montant]\n",
    "\n",
    "systemeMonetaire = [1,2,5,10,20,50,100,200]\n",
    "print(f\"Rendu min pour 263 avec systeme={systemeMonetaire} en {renduMonnaieRecurDynaBrigitte(263, [0] * (263+1))} pièces\")\n",
    "print(f\"{renduMonnaieRecurDynaBrigitte.compteur} appels récursifs et somme * len(systeme) = {263 * len(systemeMonetaire)}\")\n",
    "renduMonnaieRecurDynaBrigitte.compteur = 0\n",
    "systemeMonetaire = [1,7, 23]\n",
    "print(f\"Rendu min pour 280 avec systeme={systemeMonetaire} en {renduMonnaieRecurDynaBrigitte(280, [0] * (280+1))} pièces\")\n",
    "print(f\"{renduMonnaieRecurDynaBrigitte.compteur} appels récursifs et somme * len(systeme) = {280 * len(systemeMonetaire)}\")\n",
    "renduMonnaieRecurDynaBrigitte.compteur = 0\n",
    "print(f\"Rendu min pour 280 avec systeme={systemeMonetaire} en {renduMonnaieRecurDynaBrigitte(28, [0] * (28+1))} pièces\")\n",
    "print(f\"{renduMonnaieRecurDynaBrigitte.compteur} appels récursifs et somme * len(systeme) = {28 * len(systemeMonetaire)}\")\n",
    "renduMonnaieRecurDynaBrigitte.compteur = 0\n",
    "systemeMonetaire = [1,3, 4]\n",
    "print(f\"Rendu min pour 6 avec systeme={systemeMonetaire} en {renduMonnaieRecurDynaBrigitte(6, [0] * (6+1))} pièces\")\n",
    "print(f\"{renduMonnaieRecurDynaBrigitte.compteur} appels récursifs et somme * len(systeme) = {6 * len(systemeMonetaire)}\")"
   ]
  },
  {
   "cell_type": "markdown",
   "metadata": {},
   "source": [
    "## Le sac  à dos"
   ]
  },
  {
   "cell_type": "markdown",
   "metadata": {},
   "source": [
    "Sitographie :\n",
    "\n",
    "* Voir l'article  de Wikipedia (partie sur la programmation dynamique) : [https://fr.wikipedia.org/wiki/Probl%C3%A8me_du_sac_%C3%A0_dos#Programmation_dynamique](https://fr.wikipedia.org/wiki/Probl%C3%A8me_du_sac_%C3%A0_dos#Programmation_dynamique)\n",
    "* Article plus abordable d'Interstices avec une applet : [https://interstices.info/le-probleme-du-sac-a-dos/](https://interstices.info/le-probleme-du-sac-a-dos/)"
   ]
  },
  {
   "cell_type": "markdown",
   "metadata": {},
   "source": [
    "![sac à dos dynamique](sac_a_dos_dynamique.png)"
   ]
  },
  {
   "cell_type": "markdown",
   "metadata": {},
   "source": [
    "## Correction\n",
    "\n",
    "\n",
    "![solution](sac-a-dos-solution.png)\n",
    "\n",
    "\n",
    "Ici on peut initialiser à 0 car on recherche un maximum et que les valeurs qu'on cherche à optimiser sont positives."
   ]
  },
  {
   "cell_type": "markdown",
   "metadata": {},
   "source": [
    "__A propos de la complexité du sac à dos en programmation dynamique :__ \n",
    "\n",
    "De la même manière que sur le problème du rendu de monnaie, la complexité est en O(nombreObjets × capacité).\n",
    "Attention, il ne faut pas conclure à une complexité linéaire par rapport à la capacité du sac. Le nombre de valeurs de W est\n",
    "en effet log 2 W (si codé en binaire) et on a évidement $W = 2^{\\log_{2}(W)}$ donc la complexité est exponentielle par rapport à la\n",
    "taille de W. Elle est toutefois toujours meilleure que l’approche naive en $2^{n}$\n",
    "\n",
    "\n",
    "* Explication de Timothée Pecatte :\n",
    "\n",
    "> en fait ce qui se passe avec les objets\n",
    "c'est que chaque objet nécessite log(W) + log(G) bits (où G est le gain maximal que peut donner un objet)'est que chaque objet nécessite log(W) + log(G) bits (où G est le gain maximal que peut donner un objet)\n",
    "donc coder les objets prends m*(log(W) + log(G)) bits, donc ici le paramètre pertinent c'est bien \"m\" (fois des bidules)\n",
    "alors que pour coder W qui fait partie du problème, on utilise seulement log(W) bits, donc ici le paramètre pertinent c'est log(W)\n",
    "au final, la taille de l'entrée, c'est n = log(W) + m*(log(W) + log(G))\n",
    "et la question c'est donc : quel est le nombre d'étape T(n) d'étapes de calcul effectués par l'algo ?\n",
    "ce que j'aime bien avec cet exemple, c'est qu'il n'y a pas de meilleur algo entre le naïf et la prog dyn car ils ne sont pas comparables en terme de complexité\n",
    "avec peu d'objet et une grande capacité, ça sera l'algo naïf le plus efficace\n",
    "mais dès qu'on a un peu plus d'objet et une capacité pas trop grande, c'est la prog dyn qui l'emporte\n",
    "(ce phénomène arrive régulièrement dès qu'on a plusieurs paramètres pertinents indépendants qui conditionnent la taille de l'entrée)"
   ]
  },
  {
   "cell_type": "code",
   "execution_count": 84,
   "metadata": {},
   "outputs": [],
   "source": [
    "def afficher_tab(tab, message):\n",
    "    print(message)\n",
    "    for ligne in tab:\n",
    "        print(ligne)\n",
    "\n",
    "def sacDosDyna(cap_sac, objet):\n",
    "    nb_objet = len(objet)\n",
    "    #j'ai mis des sentinelles\n",
    "    max_val = [[0] * (cap_sac + 1) for _ in range(nb_objet  + 1)]\n",
    "    optimal = [[0] * (cap_sac + 1) for _ in range(nb_objet  + 1)]\n",
    "    for k in range(1, nb_objet + 1):\n",
    "        for cap in range(1, cap_sac + 1):\n",
    "            valeur = objet[k-1][0] \n",
    "            poids = objet[k-1][1] \n",
    "            if poids <= cap:\n",
    "                max_avant = max_val[k-1][cap]\n",
    "                valeur_avec = max_val[k-1][cap - poids]+ valeur\n",
    "                if max_avant < valeur_avec:\n",
    "                    max_val[k][cap] = valeur_avec\n",
    "                    optimal[k][cap] = 1\n",
    "                else:\n",
    "                     max_val[k][cap] = max_avant\n",
    "    valeur_max = max_val[nb_objet][cap_sac]\n",
    "    liste_objets_max = []\n",
    "    cap = cap_sac\n",
    "    afficher_tab(max_val, \"affichage de max_val\")\n",
    "    afficher_tab(optimal, \"affichage de optimal\")\n",
    "    #décalage d'index entre max_val et objet à causes de sentinelles\n",
    "    index_objet = nb_objet - 1\n",
    "    while index_objet > 0:\n",
    "        while index_objet > 0 and optimal[index_objet][cap] != 1:\n",
    "            index_objet = index_objet - 1\n",
    "        if index_objet > 0:\n",
    "            cap = cap - objet[index_objet - 1][1]\n",
    "            liste_objets_max.append(objet[index_objet - 1])      \n",
    "    return (max_val[nb_objet][cap_sac], liste_objets_max)"
   ]
  },
  {
   "cell_type": "code",
   "execution_count": 85,
   "metadata": {},
   "outputs": [
    {
     "name": "stdout",
     "output_type": "stream",
     "text": [
      "affichage de max_val\n",
      "[0, 0, 0, 0, 0, 0, 0, 0, 0, 0]\n",
      "[0, 0, 0, 0, 0, 6, 6, 6, 6, 6]\n",
      "[0, 0, 3, 3, 3, 6, 6, 9, 9, 9]\n",
      "[0, 0, 3, 3, 6, 6, 6, 9, 9, 12]\n",
      "[0, 0, 3, 3, 6, 6, 9, 9, 9, 12]\n",
      "[0, 1, 3, 4, 6, 7, 9, 10, 10, 12]\n",
      "affichage de optimal\n",
      "[0, 0, 0, 0, 0, 0, 0, 0, 0, 0]\n",
      "[0, 0, 0, 0, 0, 1, 1, 1, 1, 1]\n",
      "[0, 0, 1, 1, 1, 0, 0, 1, 1, 1]\n",
      "[0, 0, 0, 0, 1, 0, 0, 0, 0, 1]\n",
      "[0, 0, 0, 0, 0, 0, 1, 0, 0, 0]\n",
      "[0, 1, 0, 1, 0, 1, 0, 1, 1, 0]\n"
     ]
    },
    {
     "data": {
      "text/plain": [
       "(12, [[3, 2], [3, 2], [6, 5]])"
      ]
     },
     "execution_count": 85,
     "metadata": {},
     "output_type": "execute_result"
    }
   ],
   "source": [
    "sacDosDyna(9, [[6,5], [3,2], [3,2], [3,2], [1,1]])"
   ]
  },
  {
   "cell_type": "code",
   "execution_count": 86,
   "metadata": {},
   "outputs": [
    {
     "name": "stdout",
     "output_type": "stream",
     "text": [
      "affichage de max_val\n",
      "[0, 0, 0, 0, 0, 0, 0, 0, 0, 0, 0, 0, 0]\n",
      "[0, 0, 0, 0, 0, 6, 6, 6, 6, 6, 6, 6, 6]\n",
      "[0, 0, 3, 3, 3, 6, 6, 9, 9, 9, 9, 9, 9]\n",
      "[0, 0, 3, 3, 6, 6, 6, 9, 9, 12, 12, 12, 12]\n",
      "[0, 0, 3, 3, 6, 6, 9, 9, 9, 12, 12, 15, 15]\n",
      "[0, 1, 3, 4, 6, 7, 9, 10, 10, 12, 13, 15, 16]\n",
      "affichage de optimal\n",
      "[0, 0, 0, 0, 0, 0, 0, 0, 0, 0, 0, 0, 0]\n",
      "[0, 0, 0, 0, 0, 1, 1, 1, 1, 1, 1, 1, 1]\n",
      "[0, 0, 1, 1, 1, 0, 0, 1, 1, 1, 1, 1, 1]\n",
      "[0, 0, 0, 0, 1, 0, 0, 0, 0, 1, 1, 1, 1]\n",
      "[0, 0, 0, 0, 0, 0, 1, 0, 0, 0, 0, 1, 1]\n",
      "[0, 1, 0, 1, 0, 1, 0, 1, 1, 0, 1, 0, 1]\n"
     ]
    },
    {
     "data": {
      "text/plain": [
       "(16, [[3, 2], [3, 2], [3, 2], [6, 5]])"
      ]
     },
     "execution_count": 86,
     "metadata": {},
     "output_type": "execute_result"
    }
   ],
   "source": [
    "sacDosDyna(12, [[6,5], [3,2], [3,2], [3,2], [1,1]])"
   ]
  }
 ],
 "metadata": {
  "kernelspec": {
   "display_name": "Python 3",
   "language": "python",
   "name": "python3"
  },
  "language_info": {
   "codemirror_mode": {
    "name": "ipython",
    "version": 3
   },
   "file_extension": ".py",
   "mimetype": "text/x-python",
   "name": "python",
   "nbconvert_exporter": "python",
   "pygments_lexer": "ipython3",
   "version": "3.6.9"
  }
 },
 "nbformat": 4,
 "nbformat_minor": 2
}
