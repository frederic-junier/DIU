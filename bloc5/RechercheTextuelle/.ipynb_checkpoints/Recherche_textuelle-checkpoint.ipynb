{
 "cells": [
  {
   "cell_type": "markdown",
   "metadata": {},
   "source": [
    "## Recherche naive par fenêtre glissante"
   ]
  },
  {
   "cell_type": "code",
   "execution_count": 28,
   "metadata": {},
   "outputs": [],
   "source": [
    "def correspondance_motif(texte, motif,i):\n",
    "    \"\"\"Recherche la correspondance de motif dans texte\n",
    "    à partir de la position i\"\"\"\n",
    "    if i + len(motif) > len(texte):\n",
    "        return False\n",
    "    for j in range(0, len(motif)):\n",
    "        if motif[j] != texte[i + j]:\n",
    "            return False\n",
    "    return True\n",
    "\n",
    "def recherche_motif_naive(texte, motif):\n",
    "    \"\"\"Retourne la position où le motif a été trouvé par fenetre glissante\n",
    "    ou -1 si le motif ne se trouve pas dans le texte\n",
    "    Si n = len(texte) et m = len(motif), la complexité est en O((n-m)*m)\"\"\"\n",
    "    for i in range(len(texte) - len(motif) + 1):\n",
    "        if correspondance_motif(texte, motif,i):\n",
    "            return i\n",
    "    return -1"
   ]
  },
  {
   "cell_type": "markdown",
   "metadata": {},
   "source": [
    "## Algorithme de Boyer-Moore"
   ]
  },
  {
   "cell_type": "markdown",
   "metadata": {},
   "source": [
    "Sitographie :\n",
    "    \n",
    "* [https://en.wikipedia.org/wiki/Boyer%E2%80%93Moore_string-search_algorithm](https://en.wikipedia.org/wiki/Boyer%E2%80%93Moore_string-search_algorithm)\n",
    "* [http://whocouldthat.be/visualizing-string-matching/](http://whocouldthat.be/visualizing-string-matching/)"
   ]
  },
  {
   "cell_type": "markdown",
   "metadata": {},
   "source": [
    "### Règle du mauvais caractère"
   ]
  },
  {
   "cell_type": "code",
   "execution_count": 29,
   "metadata": {},
   "outputs": [],
   "source": [
    "def mauvais_caractere(motif, alphabet):\n",
    "    \"\"\"Retourne un dictionnaire avec pour chaque caractère de l'alphabet, le nombre de décalage \n",
    "    à partir de la fin du motif avant de trouver ce caractère\n",
    "    On ne compte pas la dernière lettre du motif et le décalage vaut m = len(motif)\"\n",
    "    si on ne trouve pas le caractère\"\"\"\n",
    "    m = len(motif)\n",
    "    #mc = [0] * len(alphabet)  \n",
    "    mc = {c : 0 for c in alphabet} #j préfère utiliser un dictionnaire\n",
    "    for c in alphabet:\n",
    "        k = 1\n",
    "        while k < m and c != motif[m - 1 - k]:\n",
    "            k = k + 1\n",
    "        mc[c] = k\n",
    "    return mc"
   ]
  },
  {
   "cell_type": "code",
   "execution_count": 30,
   "metadata": {},
   "outputs": [
    {
     "data": {
      "text/plain": [
       "{'A': 1, 'C': 6, 'G': 2, 'T': 8}"
      ]
     },
     "execution_count": 30,
     "metadata": {},
     "output_type": "execute_result"
    }
   ],
   "source": [
    "mauvais_caractere('GCAGAGAG', 'ACGT')"
   ]
  },
  {
   "cell_type": "code",
   "execution_count": 31,
   "metadata": {},
   "outputs": [],
   "source": [
    "def correspondance_suffixe(motif, i, j):\n",
    "    m = len(motif)\n",
    "    if motif[j] != motif[i]:\n",
    "        d = 1\n",
    "        while  i + d < m and motif[j + d] == motif[i + d]:\n",
    "            d += 1\n",
    "        return i + d == m\n",
    "    return False\n",
    "        \n",
    "\n",
    "def comparaison_prefixe_suffixe(debut_suffixe, motif):\n",
    "    index_prefixe = 0\n",
    "    index_suffixe = debut_suffixe\n",
    "    m = len(motif)\n",
    "    while index_suffixe < m and motif[index_suffixe] == motif[index_prefixe]:\n",
    "        index_prefixe += 1\n",
    "        index_suffixe += 1\n",
    "    return index_suffixe == m\n",
    "    \n",
    "def bon_suffixe(motif):\n",
    "    m = len(motif)\n",
    "    bs = [0] * m   \n",
    "    for i in range(m - 1, -1, -1):        \n",
    "        j = i - 1        \n",
    "        while j >= 0 and not correspondance_suffixe(motif, i, j):            \n",
    "            j = j - 1   \n",
    "        if j >= 0:  #second cas du bon suffixe : recherche du début d'un suffixe/préfixe \n",
    "            bs[i] = i - j           \n",
    "        else:  # premier cas du bon suffixe : recherche du \n",
    "            p = i  + 1\n",
    "            while p < m and not comparaison_prefixe_suffixe(p, motif):\n",
    "                p = p + 1\n",
    "            bs[i] = p\n",
    "    return bs"
   ]
  },
  {
   "cell_type": "code",
   "execution_count": 32,
   "metadata": {},
   "outputs": [
    {
     "data": {
      "text/plain": [
       "[7, 7, 7, 2, 7, 4, 7, 1]"
      ]
     },
     "execution_count": 32,
     "metadata": {},
     "output_type": "execute_result"
    }
   ],
   "source": [
    "bon_suffixe('GCAGAGAG')"
   ]
  },
  {
   "cell_type": "code",
   "execution_count": 33,
   "metadata": {},
   "outputs": [
    {
     "data": {
      "text/plain": [
       "[2, 2, 4, 4, 1]"
      ]
     },
     "execution_count": 33,
     "metadata": {},
     "output_type": "execute_result"
    }
   ],
   "source": [
    "bon_suffixe('ABABA')"
   ]
  },
  {
   "cell_type": "code",
   "execution_count": 34,
   "metadata": {},
   "outputs": [
    {
     "data": {
      "text/plain": [
       "[1, 2, 3]"
      ]
     },
     "execution_count": 34,
     "metadata": {},
     "output_type": "execute_result"
    }
   ],
   "source": [
    "bon_suffixe('AAA')"
   ]
  },
  {
   "cell_type": "code",
   "execution_count": 35,
   "metadata": {},
   "outputs": [],
   "source": [
    "def boyer_moore(texte, motif, alphabet):\n",
    "    #initialisation des longueurs\n",
    "    n = len(texte)\n",
    "    m = len(motif)\n",
    "    #pré-traitement du motif\n",
    "    bs = bon_suffixe(motif)\n",
    "    mc = mauvais_caractere(motif, alphabet)\n",
    "    print(bs, mc)\n",
    "    #recherche du motif  dans le texte\n",
    "    i = 0 #indice dans le texte\n",
    "    while i <= n - m:\n",
    "        j = m - 1  #on lit le motif de droite à gauche\n",
    "        while j >= 0 and motif[j] == texte[i+j]:\n",
    "            j = j - 1\n",
    "        if j < 0:\n",
    "            print(f\"Motif trouvé en {i}\")\n",
    "            #décalage du motif\n",
    "            i = i + bs[0]\n",
    "        else:\n",
    "            #décalage du motif\n",
    "            i = i + max(bs[j], mc[texte[i+j]] + j - m + 1)\n",
    "        "
   ]
  },
  {
   "cell_type": "code",
   "execution_count": 36,
   "metadata": {},
   "outputs": [
    {
     "name": "stdout",
     "output_type": "stream",
     "text": [
      "[7, 7, 7, 2, 7, 4, 7, 1] {'A': 1, 'C': 6, 'G': 2, 'T': 8}\n",
      "Motif trouvé en 5\n"
     ]
    }
   ],
   "source": [
    "texte = \"GCATCGCAGAGAGTATACAGTACG\"\n",
    "motif = \"GCAGAGAG\"\n",
    "alphabet = \"ACGT\"\n",
    "boyer_moore(texte, motif, alphabet)"
   ]
  },
  {
   "cell_type": "code",
   "execution_count": 37,
   "metadata": {},
   "outputs": [
    {
     "name": "stdout",
     "output_type": "stream",
     "text": [
      "[7, 7, 7, 2, 7, 4, 7, 1] {'A': 1, 'C': 6, 'G': 2, 'T': 8}\n",
      "Motif trouvé en 5\n"
     ]
    }
   ],
   "source": [
    "T = \"GCATCGCAGAGAGTATACAGTACG\"\n",
    "M = \"GCAGAGAG\"\n",
    "alphabet = \"ACGT\"\n",
    "boyer_moore(T, M, alphabet)"
   ]
  },
  {
   "cell_type": "code",
   "execution_count": 38,
   "metadata": {},
   "outputs": [
    {
     "data": {
      "text/plain": [
       "[7, 7, 7, 2, 7, 4, 7, 1]"
      ]
     },
     "execution_count": 38,
     "metadata": {},
     "output_type": "execute_result"
    }
   ],
   "source": [
    "bon_suffixe(M)"
   ]
  },
  {
   "cell_type": "code",
   "execution_count": 39,
   "metadata": {},
   "outputs": [
    {
     "name": "stdout",
     "output_type": "stream",
     "text": [
      "[2, 2, 4, 4, 1] {'A': 2, 'B': 1, 'C': 5}\n",
      "Motif trouvé en 2\n"
     ]
    }
   ],
   "source": [
    "T='CBABABA'\n",
    "M='ABABA'\n",
    "alphabet = \"ABC\"\n",
    "boyer_moore(T, M, alphabet)"
   ]
  }
 ],
 "metadata": {
  "kernelspec": {
   "display_name": "Python 3",
   "language": "python",
   "name": "python3"
  },
  "language_info": {
   "codemirror_mode": {
    "name": "ipython",
    "version": 3
   },
   "file_extension": ".py",
   "mimetype": "text/x-python",
   "name": "python",
   "nbconvert_exporter": "python",
   "pygments_lexer": "ipython3",
   "version": "3.6.9"
  }
 },
 "nbformat": 4,
 "nbformat_minor": 2
}
