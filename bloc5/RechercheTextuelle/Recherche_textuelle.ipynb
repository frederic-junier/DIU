{
 "cells": [
  {
   "cell_type": "markdown",
   "metadata": {},
   "source": [
    "## Recherche naive par fenêtre glissante"
   ]
  },
  {
   "cell_type": "code",
   "execution_count": 28,
   "metadata": {},
   "outputs": [],
   "source": [
    "def correspondance_motif(texte, motif,i):\n",
    "    \"\"\"Recherche la correspondance de motif dans texte\n",
    "    à partir de la position i\"\"\"\n",
    "    if i + len(motif) > len(texte):\n",
    "        return False\n",
    "    for j in range(0, len(motif)):\n",
    "        if motif[j] != texte[i + j]:\n",
    "            return False\n",
    "    return True\n",
    "\n",
    "def recherche_motif_naive(texte, motif):\n",
    "    \"\"\"Retourne la position où le motif a été trouvé par fenetre glissante\n",
    "    ou -1 si le motif ne se trouve pas dans le texte\n",
    "    Si n = len(texte) et m = len(motif), la complexité est en O((n-m)*m)\"\"\"\n",
    "    for i in range(len(texte) - len(motif) + 1):\n",
    "        if correspondance_motif(texte, motif,i):\n",
    "            return i\n",
    "    return -1"
   ]
  },
  {
   "cell_type": "markdown",
   "metadata": {},
   "source": [
    "## Algorithme de Boyer-Moore"
   ]
  },
  {
   "cell_type": "markdown",
   "metadata": {},
   "source": [
    "Sitographie :\n",
    "    \n",
    "* [https://en.wikipedia.org/wiki/Boyer%E2%80%93Moore_string-search_algorithm](https://en.wikipedia.org/wiki/Boyer%E2%80%93Moore_string-search_algorithm)\n",
    "* [http://whocouldthat.be/visualizing-string-matching/](http://whocouldthat.be/visualizing-string-matching/)"
   ]
  },
  {
   "cell_type": "markdown",
   "metadata": {},
   "source": [
    "### Règle du mauvais caractère"
   ]
  },
  {
   "cell_type": "code",
   "execution_count": 29,
   "metadata": {},
   "outputs": [],
   "source": [
    "def mauvais_caractere(motif, alphabet):\n",
    "    \"\"\"Retourne un dictionnaire avec pour chaque caractère de l'alphabet, le nombre de décalage \n",
    "    à partir de la fin du motif avant de trouver ce caractère\n",
    "    On ne compte pas la dernière lettre du motif et le décalage vaut m = len(motif)\"\n",
    "    si on ne trouve pas le caractère\"\"\"\n",
    "    m = len(motif)\n",
    "    #mc = [0] * len(alphabet)  \n",
    "    mc = {c : 0 for c in alphabet} #j préfère utiliser un dictionnaire\n",
    "    for c in alphabet:\n",
    "        k = 1\n",
    "        while k < m and c != motif[m - 1 - k]:\n",
    "            k = k + 1\n",
    "        mc[c] = k\n",
    "    return mc"
   ]
  },
  {
   "cell_type": "code",
   "execution_count": 30,
   "metadata": {},
   "outputs": [
    {
     "data": {
      "text/plain": [
       "{'A': 1, 'C': 6, 'G': 2, 'T': 8}"
      ]
     },
     "execution_count": 30,
     "metadata": {},
     "output_type": "execute_result"
    }
   ],
   "source": [
    "mauvais_caractere('GCAGAGAG', 'ACGT')"
   ]
  },
  {
   "cell_type": "code",
   "execution_count": 31,
   "metadata": {},
   "outputs": [],
   "source": [
    "def correspondance_suffixe(motif, i, j):\n",
    "    m = len(motif)\n",
    "    if motif[j] != motif[i]:\n",
    "        d = 1\n",
    "        while  i + d < m and motif[j + d] == motif[i + d]:\n",
    "            d += 1\n",
    "        return i + d == m\n",
    "    return False\n",
    "        \n",
    "\n",
    "def comparaison_prefixe_suffixe(debut_suffixe, motif):\n",
    "    index_prefixe = 0\n",
    "    index_suffixe = debut_suffixe\n",
    "    m = len(motif)\n",
    "    while index_suffixe < m and motif[index_suffixe] == motif[index_prefixe]:\n",
    "        index_prefixe += 1\n",
    "        index_suffixe += 1\n",
    "    return index_suffixe == m\n",
    "    \n",
    "def bon_suffixe(motif):\n",
    "    m = len(motif)\n",
    "    bs = [0] * m   \n",
    "    for i in range(m - 1, -1, -1):        \n",
    "        j = i - 1        \n",
    "        while j >= 0 and not correspondance_suffixe(motif, i, j):            \n",
    "            j = j - 1   \n",
    "        if j >= 0:  #second cas du bon suffixe : recherche du début d'un suffixe/préfixe \n",
    "            bs[i] = i - j           \n",
    "        else:  # premier cas du bon suffixe : recherche du \n",
    "            p = i  + 1\n",
    "            while p < m and not comparaison_prefixe_suffixe(p, motif):\n",
    "                p = p + 1\n",
    "            bs[i] = p\n",
    "    return bs"
   ]
  },
  {
   "cell_type": "code",
   "execution_count": 32,
   "metadata": {},
   "outputs": [
    {
     "data": {
      "text/plain": [
       "[7, 7, 7, 2, 7, 4, 7, 1]"
      ]
     },
     "execution_count": 32,
     "metadata": {},
     "output_type": "execute_result"
    }
   ],
   "source": [
    "bon_suffixe('GCAGAGAG')"
   ]
  },
  {
   "cell_type": "code",
   "execution_count": 33,
   "metadata": {},
   "outputs": [
    {
     "data": {
      "text/plain": [
       "[2, 2, 4, 4, 1]"
      ]
     },
     "execution_count": 33,
     "metadata": {},
     "output_type": "execute_result"
    }
   ],
   "source": [
    "bon_suffixe('ABABA')"
   ]
  },
  {
   "cell_type": "code",
   "execution_count": 34,
   "metadata": {},
   "outputs": [
    {
     "data": {
      "text/plain": [
       "[1, 2, 3]"
      ]
     },
     "execution_count": 34,
     "metadata": {},
     "output_type": "execute_result"
    }
   ],
   "source": [
    "bon_suffixe('AAA')"
   ]
  },
  {
   "cell_type": "code",
   "execution_count": 35,
   "metadata": {},
   "outputs": [],
   "source": [
    "def boyer_moore(texte, motif, alphabet):\n",
    "    #initialisation des longueurs\n",
    "    n = len(texte)\n",
    "    m = len(motif)\n",
    "    #pré-traitement du motif\n",
    "    bs = bon_suffixe(motif)\n",
    "    mc = mauvais_caractere(motif, alphabet)\n",
    "    print(bs, mc)\n",
    "    #recherche du motif  dans le texte\n",
    "    i = 0 #indice dans le texte\n",
    "    while i <= n - m:\n",
    "        j = m - 1  #on lit le motif de droite à gauche\n",
    "        while j >= 0 and motif[j] == texte[i+j]:\n",
    "            j = j - 1\n",
    "        if j < 0:\n",
    "            print(f\"Motif trouvé en {i}\")\n",
    "            #décalage du motif\n",
    "            i = i + bs[0]\n",
    "        else:\n",
    "            #décalage du motif\n",
    "            i = i + max(bs[j], mc[texte[i+j]] + j - m + 1)\n",
    "        "
   ]
  },
  {
   "cell_type": "code",
   "execution_count": 36,
   "metadata": {},
   "outputs": [
    {
     "name": "stdout",
     "output_type": "stream",
     "text": [
      "[7, 7, 7, 2, 7, 4, 7, 1] {'A': 1, 'C': 6, 'G': 2, 'T': 8}\n",
      "Motif trouvé en 5\n"
     ]
    }
   ],
   "source": [
    "texte = \"GCATCGCAGAGAGTATACAGTACG\"\n",
    "motif = \"GCAGAGAG\"\n",
    "alphabet = \"ACGT\"\n",
    "boyer_moore(texte, motif, alphabet)"
   ]
  },
  {
   "cell_type": "code",
   "execution_count": 37,
   "metadata": {},
   "outputs": [
    {
     "name": "stdout",
     "output_type": "stream",
     "text": [
      "[7, 7, 7, 2, 7, 4, 7, 1] {'A': 1, 'C': 6, 'G': 2, 'T': 8}\n",
      "Motif trouvé en 5\n"
     ]
    }
   ],
   "source": [
    "T = \"GCATCGCAGAGAGTATACAGTACG\"\n",
    "M = \"GCAGAGAG\"\n",
    "alphabet = \"ACGT\"\n",
    "boyer_moore(T, M, alphabet)"
   ]
  },
  {
   "cell_type": "code",
   "execution_count": 38,
   "metadata": {},
   "outputs": [
    {
     "data": {
      "text/plain": [
       "[7, 7, 7, 2, 7, 4, 7, 1]"
      ]
     },
     "execution_count": 38,
     "metadata": {},
     "output_type": "execute_result"
    }
   ],
   "source": [
    "bon_suffixe(M)"
   ]
  },
  {
   "cell_type": "code",
   "execution_count": 65,
   "metadata": {},
   "outputs": [
    {
     "name": "stdout",
     "output_type": "stream",
     "text": [
      "Mauvais caractère :  {'A': 2, 'B': 1, 'C': 5}\n",
      "Bon suffixe :  [2, 2, 4, 4, 1]\n",
      "Recherche de ABABA dans CBABABA avec Boyer-Moore\n",
      "[2, 2, 4, 4, 1] {'A': 2, 'C': 5, 'B': 1}\n",
      "Motif trouvé en 2\n"
     ]
    }
   ],
   "source": [
    "T='CBABABA'\n",
    "M='ABABA'\n",
    "alphabet = \"ACB\"\n",
    "print(\"Mauvais caractère : \", mauvais_caractere(M, 'ABC'))\n",
    "print(\"Bon suffixe : \", bon_suffixe(M))\n",
    "print(f\"Recherche de {M} dans {T} avec Boyer-Moore\")\n",
    "boyer_moore(T, M, alphabet)"
   ]
  },
  {
   "cell_type": "markdown",
   "metadata": {},
   "source": [
    "# Version de Julien Velcin"
   ]
  },
  {
   "cell_type": "code",
   "execution_count": 41,
   "metadata": {},
   "outputs": [],
   "source": [
    "T = \"GCATCGCAGAGAGTATACAGTACG\"\n",
    "M = \"GCAGAGAG\"\n",
    "#M = \"CCGGTGAA\"\n",
    "#T = \"AAAAAAAAAAAAAAAAAAAA\"\n",
    "#M = \"AAAAAA\"\n",
    "#T = \"AAAAAAAAAAAAAAAAAAAA\"\n",
    "#M = \"ACGT\"\n",
    "#M = \"ACGCA\"\n",
    "\n",
    "n = len(T)\n",
    "m = len(M)"
   ]
  },
  {
   "cell_type": "code",
   "execution_count": 42,
   "metadata": {},
   "outputs": [
    {
     "name": "stdout",
     "output_type": "stream",
     "text": [
      "motif trouvé en 5\n"
     ]
    }
   ],
   "source": [
    "\n",
    "\n",
    "for i in range(n-m+1):\n",
    "    for j in range(m):\n",
    "        if T[i+j] != M[j]: # on s'arrête dès qu'on voit une différence (mismatch)\n",
    "            break\n",
    "    if (j == (m-1)): # critère d'arrêt à (j == (m-1)) car j n'est pas incrémenté à la fin\n",
    "        print(\"motif trouvé en \" + str(i))\n",
    "\n"
   ]
  },
  {
   "cell_type": "code",
   "execution_count": 43,
   "metadata": {},
   "outputs": [
    {
     "name": "stdout",
     "output_type": "stream",
     "text": [
      "motif trouvé en 5\n",
      "Nombre total de comparaisons : 30\n"
     ]
    }
   ],
   "source": [
    "\n",
    "\n",
    "nb_comp = 0 # nombre total de comparaisons\n",
    "i = 0\n",
    "while (i <= (n-m)):\n",
    "    j = 0\n",
    "    while (j < m) and (T[i+j] == M[j]): # on incrémente tant que c'est identique\n",
    "        nb_comp += 1\n",
    "        j = j + 1\n",
    "    if (j == m): # on remarque que le critère d'arrêt est (j == m) ici\n",
    "        print(\"motif trouvé en \" + str(i))\n",
    "    else:\n",
    "        nb_comp += 1 # pour ne pas oublier de compter les échecs de comparaison (mismatch)\n",
    "    i = i + 1\n",
    "print(\"Nombre total de comparaisons : \" + str(nb_comp))\n",
    "\n"
   ]
  },
  {
   "cell_type": "markdown",
   "metadata": {},
   "source": [
    "## Heuristique du Mauvais Caractère"
   ]
  },
  {
   "cell_type": "code",
   "execution_count": 46,
   "metadata": {},
   "outputs": [],
   "source": [
    "symboles = [\"A\", \"C\", \"G\", \"T\"] # c'est l'alphabet\n",
    "    \n",
    "# calcul préalable de MC\n",
    "MC = {}\n",
    "for s in symboles: # on initialise à m par défaut (caractère introuvable dans le motif)\n",
    "    MC[s] = m\n",
    "for i in range(m-1): \n",
    "    MC[M[i]] = m-i-1"
   ]
  },
  {
   "cell_type": "code",
   "execution_count": 45,
   "metadata": {},
   "outputs": [
    {
     "data": {
      "text/plain": [
       "{'A': 1, 'C': 6, 'G': 2, 'T': 8}"
      ]
     },
     "execution_count": 45,
     "metadata": {},
     "output_type": "execute_result"
    }
   ],
   "source": [
    "MC"
   ]
  },
  {
   "cell_type": "code",
   "execution_count": 47,
   "metadata": {},
   "outputs": [
    {
     "name": "stdout",
     "output_type": "stream",
     "text": [
      "Position : 0\n",
      "Position : 1\n",
      "Position : 5\n",
      "motif trouvé en 5\n",
      "Position : 6\n",
      "Position : 14\n",
      "Position : 15\n",
      "Nombre total de comparaisons : 15\n"
     ]
    }
   ],
   "source": [
    "\n",
    "\n",
    "import numpy as np\n",
    "\n",
    "nb_comp = 0 # nombre total de comparaisons\n",
    "i = 0\n",
    "while (i <= (n-m)):\n",
    "    print(\"Position : \" + str(i))    \n",
    "    j = m - 1 # on commence par la fin du motif\n",
    "    while (j >= 0) and (T[i+j] == M[j]): # on incrémente tant que c'est identique\n",
    "        #print(\"comp de \" + str(i+j) + \" et \" + str(j))\n",
    "        nb_comp += 1\n",
    "        j = j - 1\n",
    "    if (j >= 0):\n",
    "        nb_comp += 1\n",
    "        i = i + np.max([1, MC[T[i+j]] + j - m + 1])\n",
    "    else: # on remarque que le critère d'arrêt est à présent (j < 0)\n",
    "        print(\"motif trouvé en \" + str(i))\n",
    "        i = i + 1\n",
    "        \n",
    "print(\"Nombre total de comparaisons : \" + str(nb_comp))\n",
    "\n"
   ]
  },
  {
   "cell_type": "markdown",
   "metadata": {},
   "source": [
    "## Heuristique du Bon Suffixe (BS)"
   ]
  },
  {
   "cell_type": "code",
   "execution_count": 49,
   "metadata": {},
   "outputs": [
    {
     "name": "stdout",
     "output_type": "stream",
     "text": [
      "à l'index 6 : sous-motif G trouvé en 0\n",
      "à l'index 5 : sous-motif AG trouvé en 2\n",
      "à l'index 3 : sous-motif AGAG trouvé en 2\n"
     ]
    }
   ],
   "source": [
    "\n",
    "\n",
    "# calcul préalable de BS\n",
    "# (attention, il s'agit probablement de l'implémentation la moins efficace\n",
    "# mais peut-être la plus claire)\n",
    "\n",
    "# calcul du plus grand préfixe qui est également suffixe (mais pas M tout entier)\n",
    "i = m-1\n",
    "while i > 0 and (M[i:m] == M[0:m-i]):\n",
    "    # on vérifie que la fin (entre i et (m-1)) est identique au début (entre 0 et m-i)\n",
    "    i = i - 1\n",
    "\n",
    "BS = [i+1] * m\n",
    "BS[m-1] = 1 # cas particulier pour le dernier symbole de M\n",
    "# recherche du prochain motif le plus à droite\n",
    "i = m - 2\n",
    "while (i >= 0):\n",
    "    # motif à rechercher\n",
    "    MM = M[i+1:m]\n",
    "    l_MM = len(MM)\n",
    "    k = i\n",
    "    # on cherche le motif \"à rebours\"\n",
    "    while (k>=0):\n",
    "        if (M[k:k+l_MM] == MM) and ((k==0) or (M[k-1]!=M[i])):\n",
    "            print(\"à l'index \" + str(i) + \" : sous-motif \" + MM + \" trouvé en \" + str(k))\n",
    "            BS[i] = i - k + 1\n",
    "            break;\n",
    "        k = k - 1\n",
    "    i = i - 1\n",
    "\n"
   ]
  },
  {
   "cell_type": "code",
   "execution_count": 50,
   "metadata": {},
   "outputs": [
    {
     "data": {
      "text/plain": [
       "[7, 7, 7, 2, 7, 4, 7, 1]"
      ]
     },
     "execution_count": 50,
     "metadata": {},
     "output_type": "execute_result"
    }
   ],
   "source": [
    "BS"
   ]
  },
  {
   "cell_type": "code",
   "execution_count": 51,
   "metadata": {},
   "outputs": [
    {
     "name": "stdout",
     "output_type": "stream",
     "text": [
      "Position : 0\n",
      "Position : 1\n",
      "Position : 5\n",
      "motif trouvé en 5\n",
      "Position : 12\n",
      "Position : 16\n",
      "Nombre total de comparaisons : 17\n"
     ]
    }
   ],
   "source": [
    "import numpy as np\n",
    "\n",
    "nb_comp = 0 # nombre total de comparaisons\n",
    "i = 0\n",
    "while (i <= (n-m)):\n",
    "    print(\"Position : \" + str(i))\n",
    "    j = m - 1 # on commence par la fin du motif\n",
    "    while (j >= 0) and (T[i+j] == M[j]): # on incrémente tant que c'est identique\n",
    "        nb_comp += 1\n",
    "        j = j - 1\n",
    "    if (j >= 0):\n",
    "        nb_comp += 1        \n",
    "        i = i + BS[j]\n",
    "    else:\n",
    "        print(\"motif trouvé en \" + str(i))\n",
    "        i = i + BS[0]\n",
    "\n",
    "print(\"Nombre total de comparaisons : \" + str(nb_comp))"
   ]
  },
  {
   "cell_type": "markdown",
   "metadata": {},
   "source": [
    "## Boyer-Moore : mettre tout ça ensemble"
   ]
  },
  {
   "cell_type": "code",
   "execution_count": 52,
   "metadata": {},
   "outputs": [
    {
     "name": "stdout",
     "output_type": "stream",
     "text": [
      "Position : 0\n",
      "Position : 1\n",
      "Position : 5\n",
      "motif trouvé en 5\n",
      "Position : 12\n",
      "Position : 16\n",
      "Nombre total de comparaisons : 17\n"
     ]
    }
   ],
   "source": [
    "import numpy as np\n",
    "\n",
    "nb_comp = 0 # nombre total de comparaisons\n",
    "i = 0\n",
    "while (i <= (n-m)):\n",
    "    print(\"Position : \" + str(i))\n",
    "    j = m - 1 # on commence par la fin du motif\n",
    "    while (j >= 0) and (T[i+j] == M[j]): # on incrémente tant que c'est identique\n",
    "        nb_comp += 1\n",
    "        j = j - 1\n",
    "    if (j >= 0):\n",
    "        nb_comp += 1 \n",
    "        i = i + np.max([BS[j], MC[T[i+j]] + j - m + 1])        \n",
    "    else: \n",
    "        print(\"motif trouvé en \" + str(i))\n",
    "        i = i + BS[0]\n",
    "print(\"Nombre total de comparaisons : \" + str(nb_comp))"
   ]
  },
  {
   "cell_type": "markdown",
   "metadata": {},
   "source": [
    "## Contre-Exemple illustrant la mauvais implémentation du Bon Préfixe"
   ]
  },
  {
   "cell_type": "code",
   "execution_count": 59,
   "metadata": {},
   "outputs": [
    {
     "name": "stdout",
     "output_type": "stream",
     "text": [
      "Position : 0\n",
      "{'A': 2, 'C': 5, 'B': 1}\n",
      "[4, 2, 4, 4, 1]\n",
      "Nombre total de comparaisons : 5\n"
     ]
    }
   ],
   "source": [
    "T='CBABABA'\n",
    "M='ABABA'\n",
    "\n",
    "n = len(T)\n",
    "m = len(M)\n",
    "\n",
    "symboles = [\"A\", \"C\", \"B\"] # c'est l'alphabet\n",
    "    \n",
    "# calcul préalable de MC\n",
    "MC = {}\n",
    "for s in symboles: # on initialise à m par défaut (caractère introuvable dans le motif)\n",
    "    MC[s] = m\n",
    "for i in range(m-1): \n",
    "    MC[M[i]] = m-i-1\n",
    "    \n",
    "\n",
    "# calcul préalable de BS\n",
    "# (attention, il s'agit probablement de l'implémentation la moins efficace\n",
    "# mais peut-être la plus claire)\n",
    "\n",
    "# calcul du plus grand préfixe qui est également suffixe (mais pas M tout entier)\n",
    "i = m-1\n",
    "while i > 0 and (M[i:m] == M[0:m-i]):\n",
    "    # on vérifie que la fin (entre i et (m-1)) est identique au début (entre 0 et m-i)\n",
    "    i = i - 1\n",
    "\n",
    "BS = [i+1] * m\n",
    "BS[m-1] = 1 # cas particulier pour le dernier symbole de M\n",
    "# recherche du prochain motif le plus à droite\n",
    "i = m - 2\n",
    "while (i >= 0):\n",
    "    # motif à rechercher\n",
    "    MM = M[i+1:m]\n",
    "    l_MM = len(MM)\n",
    "    k = i\n",
    "    # on cherche le motif \"à rebours\"\n",
    "    while (k>=0):\n",
    "        if (M[k:k+l_MM] == MM) and ((k==0) or (M[k-1]!=M[i])):\n",
    "            #print(\"à l'index \" + str(i) + \" : sous-motif \" + MM + \" trouvé en \" + str(k))\n",
    "            BS[i] = i - k + 1\n",
    "            break;\n",
    "        k = k - 1\n",
    "    i = i - 1\n",
    "    \n",
    "nb_comp = 0 # nombre total de comparaisons\n",
    "i = 0\n",
    "while (i <= (n-m)):\n",
    "    print(\"Position : \" + str(i))\n",
    "    j = m - 1 # on commence par la fin du motif\n",
    "    while (j >= 0) and (T[i+j] == M[j]): # on incrémente tant que c'est identique\n",
    "        nb_comp += 1\n",
    "        j = j - 1\n",
    "    if (j >= 0):\n",
    "        nb_comp += 1 \n",
    "        i = i + np.max([BS[j], MC[T[i+j]] + j - m + 1])        \n",
    "    else: \n",
    "        print(\"motif trouvé en \" + str(i))\n",
    "        i = i + BS[0]\n",
    "print(MC)\n",
    "print(BS)\n",
    "print(\"Nombre total de comparaisons : \" + str(nb_comp))"
   ]
  }
 ],
 "metadata": {
  "kernelspec": {
   "display_name": "Python 3",
   "language": "python",
   "name": "python3"
  },
  "language_info": {
   "codemirror_mode": {
    "name": "ipython",
    "version": 3
   },
   "file_extension": ".py",
   "mimetype": "text/x-python",
   "name": "python",
   "nbconvert_exporter": "python",
   "pygments_lexer": "ipython3",
   "version": "3.6.9"
  }
 },
 "nbformat": 4,
 "nbformat_minor": 2
}
