{
 "cells": [
  {
   "cell_type": "markdown",
   "metadata": {},
   "source": [
    "## Recherche naive par fenêtre glissante"
   ]
  },
  {
   "cell_type": "code",
   "execution_count": 41,
   "metadata": {},
   "outputs": [],
   "source": [
    "def correspondance_motif(texte, motif,i):\n",
    "    \"\"\"Recherche la correspondance de motif dans texte\n",
    "    à partir de la position i\"\"\"\n",
    "    if i + len(motif) > len(texte):\n",
    "        return False\n",
    "    for j in range(0, len(motif)):\n",
    "        if motif[j] != texte[i + j]:\n",
    "            return False\n",
    "    return True\n",
    "\n",
    "def recherche_motif_naive(texte, motif):\n",
    "    \"\"\"Retourne la position où le motif a été trouvé par fenetre glissante\n",
    "    ou -1 si le motif ne se trouve pas dans le texte\n",
    "    Si n = len(texte) et m = len(motif), la complexité est en O((n-m)*m)\"\"\"\n",
    "    for i in range(len(texte) - len(motif) + 1):\n",
    "        if correspondance_motif(texte, motif,i):\n",
    "            return i\n",
    "    return -1"
   ]
  },
  {
   "cell_type": "markdown",
   "metadata": {},
   "source": [
    "## Algorithme de Boyer-Moore"
   ]
  },
  {
   "cell_type": "markdown",
   "metadata": {},
   "source": [
    "### Règle du mauvais caractère"
   ]
  },
  {
   "cell_type": "code",
   "execution_count": 42,
   "metadata": {},
   "outputs": [],
   "source": [
    "def mauvais_caractere(motif, alphabet):\n",
    "    \"\"\"Retourne un dictionnaire avec pour chaque caractère de l'alphabet, le nombre de décalage \n",
    "    à partir de la fin du motif avant de trouver ce caractère\n",
    "    On ne compte pas la dernière lettre du motif et le décalage vaut m = len(motif)\"\n",
    "    si on ne trouve pas le caractère\"\"\"\n",
    "    m = len(motif)\n",
    "    #mc = [0] * len(alphabet)  \n",
    "    mc = {c : 0 for c in alphabet} #j préfère utiliser un dictionnaire\n",
    "    for i in range(len(alphabet)):\n",
    "        c = alphabet[i]\n",
    "        k = 1\n",
    "        while k < m and c != motif[m - 1 - k]:\n",
    "            k = k + 1\n",
    "        mc[i] = k\n",
    "    return mc"
   ]
  },
  {
   "cell_type": "code",
   "execution_count": 43,
   "metadata": {},
   "outputs": [
    {
     "data": {
      "text/plain": [
       "{'A': 0, 'C': 0, 'G': 0, 'T': 0, 0: 1, 1: 6, 2: 2, 3: 8}"
      ]
     },
     "execution_count": 43,
     "metadata": {},
     "output_type": "execute_result"
    }
   ],
   "source": [
    "mauvais_caractere('GCAGAGAG', 'ACGT')"
   ]
  },
  {
   "cell_type": "code",
   "execution_count": 44,
   "metadata": {},
   "outputs": [],
   "source": [
    "def correspondance_suffixe(motif, i, j):\n",
    "    m = len(motif)\n",
    "    if motif[j] != motif[i]:\n",
    "        d = 1\n",
    "        while  i + d < m and motif[j + d] == motif[i + d]:\n",
    "            d += 1\n",
    "        return i + d == m\n",
    "    return False\n",
    "        \n",
    "\n",
    "\n",
    "def bon_suffixe(motif):\n",
    "    m = len(motif)\n",
    "    bs = [0] * m\n",
    "    bs[m-1] = 1\n",
    "    #second cas : recherche du plus long préfixe qui est aussi un suffixe\n",
    "    p = m - 1\n",
    "    while motif[p] == motif[m - 1 - p]:\n",
    "        p = p - 1\n",
    "    p =  p  + 1\n",
    "    for i in range(m - 2, 0, -1):        \n",
    "        j = i - 1        \n",
    "        while j >= 0 and not correspondance_suffixe(motif, i, j):            \n",
    "            j = j - 1   \n",
    "        if j < 0:\n",
    "            bs[i] = p\n",
    "        else:\n",
    "            bs[i] = i - j\n",
    "    bs[0] = p\n",
    "    return bs"
   ]
  },
  {
   "cell_type": "code",
   "execution_count": 45,
   "metadata": {},
   "outputs": [
    {
     "data": {
      "text/plain": [
       "[7, 7, 7, 2, 7, 4, 7, 1]"
      ]
     },
     "execution_count": 45,
     "metadata": {},
     "output_type": "execute_result"
    }
   ],
   "source": [
    "bon_suffixe('GCAGAGAG')"
   ]
  },
  {
   "cell_type": "code",
   "execution_count": 46,
   "metadata": {},
   "outputs": [],
   "source": [
    "def boyer_moore(texte, motif, alphabet):\n",
    "    #initialisation des longueurs\n",
    "    n = len(texte)\n",
    "    m = len(motif)\n",
    "    #pré-traitement du motif\n",
    "    bs = bon_suffixe(motif)\n",
    "    mc = mauvais_caractere(motif, alphabet)\n",
    "    print(bs, mc)\n",
    "    #recherche du motif  dans le texte\n",
    "    i = 0 #indice dans le texte\n",
    "    while i <= n - m:\n",
    "        j = m - 1  #on lit le motif de droite à gauche\n",
    "        while j >= 0 and motif[j] == texte[i+j]:\n",
    "            j = j - 1\n",
    "        if j < 0:\n",
    "            print(f\"Motif trouvé en {i}\")\n",
    "            #décalage du motif\n",
    "            i = i + bs[0]\n",
    "        else:\n",
    "            #décalage du motif\n",
    "            i = i + max(bs[j], mc[texte[i+j]] + j - m + 1)\n",
    "        "
   ]
  },
  {
   "cell_type": "code",
   "execution_count": 47,
   "metadata": {},
   "outputs": [
    {
     "name": "stdout",
     "output_type": "stream",
     "text": [
      "[7, 7, 7, 2, 7, 4, 7, 1] {'A': 0, 'C': 0, 'G': 0, 'T': 0, 0: 1, 1: 6, 2: 2, 3: 8}\n",
      "Motif trouvé en 5\n"
     ]
    }
   ],
   "source": [
    "texte = \"GCATCGCAGAGAGTATACAGTACG\"\n",
    "motif = \"GCAGAGAG\"\n",
    "alphabet = \"ACGT\"\n",
    "boyer_moore(texte, motif, alphabet)"
   ]
  }
 ],
 "metadata": {
  "kernelspec": {
   "display_name": "Python 3",
   "language": "python",
   "name": "python3"
  },
  "language_info": {
   "codemirror_mode": {
    "name": "ipython",
    "version": 3
   },
   "file_extension": ".py",
   "mimetype": "text/x-python",
   "name": "python",
   "nbconvert_exporter": "python",
   "pygments_lexer": "ipython3",
   "version": "3.6.9"
  }
 },
 "nbformat": 4,
 "nbformat_minor": 2
}
