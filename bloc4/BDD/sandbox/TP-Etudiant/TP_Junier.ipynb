{
 "cells": [
  {
   "cell_type": "code",
   "execution_count": 1,
   "metadata": {},
   "outputs": [],
   "source": [
    "%reload_ext sql\n",
    "%config SqlMagic.displaycon = False\n",
    "%config SqlMagic.autolimit = 100"
   ]
  },
  {
   "cell_type": "markdown",
   "metadata": {},
   "source": [
    "### %sql sqlite:///base-etudiant.db"
   ]
  },
  {
   "cell_type": "markdown",
   "metadata": {},
   "source": [
    "# Exercice 1:\n",
    "\n",
    "Donner tous les noms des étudiants."
   ]
  },
  {
   "cell_type": "code",
   "execution_count": 18,
   "metadata": {
    "scrolled": true
   },
   "outputs": [
    {
     "name": "stdout",
     "output_type": "stream",
     "text": [
      "Done.\n"
     ]
    },
    {
     "data": {
      "text/html": [
       "<table>\n",
       "    <tr>\n",
       "        <th>NomEt</th>\n",
       "    </tr>\n",
       "    <tr>\n",
       "        <td>Armand A.</td>\n",
       "    </tr>\n",
       "    <tr>\n",
       "        <td>Berthe B.</td>\n",
       "    </tr>\n",
       "    <tr>\n",
       "        <td>Cendrine C.</td>\n",
       "    </tr>\n",
       "    <tr>\n",
       "        <td>David D.</td>\n",
       "    </tr>\n",
       "    <tr>\n",
       "        <td>Erwan E.</td>\n",
       "    </tr>\n",
       "    <tr>\n",
       "        <td>Fabien F.</td>\n",
       "    </tr>\n",
       "    <tr>\n",
       "        <td>Gerald G.</td>\n",
       "    </tr>\n",
       "    <tr>\n",
       "        <td>Herbert H.</td>\n",
       "    </tr>\n",
       "    <tr>\n",
       "        <td>Jacques J.</td>\n",
       "    </tr>\n",
       "</table>"
      ],
      "text/plain": [
       "[('Armand A.',),\n",
       " ('Berthe B.',),\n",
       " ('Cendrine C.',),\n",
       " ('David D.',),\n",
       " ('Erwan E.',),\n",
       " ('Fabien F.',),\n",
       " ('Gerald G.',),\n",
       " ('Herbert H.',),\n",
       " ('Jacques J.',)]"
      ]
     },
     "execution_count": 18,
     "metadata": {},
     "output_type": "execute_result"
    }
   ],
   "source": [
    "%%sql\n",
    "\n",
    "SELECT NomEt FROM Etudiant;"
   ]
  },
  {
   "cell_type": "code",
   "execution_count": 17,
   "metadata": {},
   "outputs": [
    {
     "name": "stdout",
     "output_type": "stream",
     "text": [
      "Done.\n"
     ]
    },
    {
     "data": {
      "text/html": [
       "<table>\n",
       "    <tr>\n",
       "        <th>type</th>\n",
       "        <th>name</th>\n",
       "        <th>tbl_name</th>\n",
       "        <th>rootpage</th>\n",
       "        <th>sql</th>\n",
       "    </tr>\n",
       "    <tr>\n",
       "        <td>table</td>\n",
       "        <td>Etudiant</td>\n",
       "        <td>Etudiant</td>\n",
       "        <td>2</td>\n",
       "        <td>CREATE TABLE Etudiant (<br>       NumEt INTEGER PRIMARY KEY,<br>       NomEt VARCHAR2(255),<br>       Adresse VARCHAR2(1000)<br>)</td>\n",
       "    </tr>\n",
       "    <tr>\n",
       "        <td>table</td>\n",
       "        <td>Enseignant</td>\n",
       "        <td>Enseignant</td>\n",
       "        <td>3</td>\n",
       "        <td>CREATE TABLE Enseignant (<br>       NumEns INTEGER PRIMARY KEY,<br>       NomEns VARCHAR2(255)<br>)</td>\n",
       "    </tr>\n",
       "    <tr>\n",
       "        <td>table</td>\n",
       "        <td>UE</td>\n",
       "        <td>UE</td>\n",
       "        <td>4</td>\n",
       "        <td>CREATE TABLE UE (<br>       NumUE INTEGER PRIMARY KEY,<br>       Titre VARCHAR2(255),<br>       HCours FLOAT,<br>       HTD FLOAT,<br>       HTP FLOAT<br>)</td>\n",
       "    </tr>\n",
       "    <tr>\n",
       "        <td>table</td>\n",
       "        <td>Enseigne</td>\n",
       "        <td>Enseigne</td>\n",
       "        <td>5</td>\n",
       "        <td>CREATE TABLE Enseigne (<br>       NumEns INTEGER REFERENCES Enseignant(NumEns),<br>       NumUE INTEGER REFERENCES UE(NumUE),<br>       NCours INTEGER,<br>       NTD INTEGER,<br>       NTP INTEGER,<br>       PRIMARY KEY (NumEns,NumUE)<br>)</td>\n",
       "    </tr>\n",
       "    <tr>\n",
       "        <td>index</td>\n",
       "        <td>sqlite_autoindex_Enseigne_1</td>\n",
       "        <td>Enseigne</td>\n",
       "        <td>6</td>\n",
       "        <td>None</td>\n",
       "    </tr>\n",
       "    <tr>\n",
       "        <td>table</td>\n",
       "        <td>Inscrit</td>\n",
       "        <td>Inscrit</td>\n",
       "        <td>7</td>\n",
       "        <td>CREATE TABLE Inscrit (<br>       NumEt INTEGER REFERENCES Etudiant(NumEt),<br>       NumUE INTEGER REFERENCES UE(NumUE),<br>       PRIMARY KEY (NumEt,NumUE)<br>)</td>\n",
       "    </tr>\n",
       "    <tr>\n",
       "        <td>index</td>\n",
       "        <td>sqlite_autoindex_Inscrit_1</td>\n",
       "        <td>Inscrit</td>\n",
       "        <td>8</td>\n",
       "        <td>None</td>\n",
       "    </tr>\n",
       "</table>"
      ],
      "text/plain": [
       "[('table', 'Etudiant', 'Etudiant', 2, 'CREATE TABLE Etudiant (\\n       NumEt INTEGER PRIMARY KEY,\\n       NomEt VARCHAR2(255),\\n       Adresse VARCHAR2(1000)\\n)'),\n",
       " ('table', 'Enseignant', 'Enseignant', 3, 'CREATE TABLE Enseignant (\\n       NumEns INTEGER PRIMARY KEY,\\n       NomEns VARCHAR2(255)\\n)'),\n",
       " ('table', 'UE', 'UE', 4, 'CREATE TABLE UE (\\n       NumUE INTEGER PRIMARY KEY,\\n       Titre VARCHAR2(255),\\n       HCours FLOAT,\\n       HTD FLOAT,\\n       HTP FLOAT\\n)'),\n",
       " ('table', 'Enseigne', 'Enseigne', 5, 'CREATE TABLE Enseigne (\\n       NumEns INTEGER REFERENCES Enseignant(NumEns),\\n       NumUE INTEGER REFERENCES UE(NumUE),\\n       NCours INTEGER,\\n       NTD INTEGER,\\n       NTP INTEGER,\\n       PRIMARY KEY (NumEns,NumUE)\\n)'),\n",
       " ('index', 'sqlite_autoindex_Enseigne_1', 'Enseigne', 6, None),\n",
       " ('table', 'Inscrit', 'Inscrit', 7, 'CREATE TABLE Inscrit (\\n       NumEt INTEGER REFERENCES Etudiant(NumEt),\\n       NumUE INTEGER REFERENCES UE(NumUE),\\n       PRIMARY KEY (NumEt,NumUE)\\n)'),\n",
       " ('index', 'sqlite_autoindex_Inscrit_1', 'Inscrit', 8, None)]"
      ]
     },
     "execution_count": 17,
     "metadata": {},
     "output_type": "execute_result"
    }
   ],
   "source": [
    "%%sql \n",
    "SELECT *\n",
    "FROM sqlite_master"
   ]
  },
  {
   "cell_type": "code",
   "execution_count": 6,
   "metadata": {},
   "outputs": [
    {
     "name": "stdout",
     "output_type": "stream",
     "text": [
      "Done.\n"
     ]
    },
    {
     "data": {
      "text/html": [
       "<table>\n",
       "    <tr>\n",
       "        <th>name</th>\n",
       "    </tr>\n",
       "    <tr>\n",
       "        <td>Etudiant</td>\n",
       "    </tr>\n",
       "    <tr>\n",
       "        <td>Enseignant</td>\n",
       "    </tr>\n",
       "    <tr>\n",
       "        <td>UE</td>\n",
       "    </tr>\n",
       "    <tr>\n",
       "        <td>Enseigne</td>\n",
       "    </tr>\n",
       "    <tr>\n",
       "        <td>Inscrit</td>\n",
       "    </tr>\n",
       "</table>"
      ],
      "text/plain": [
       "[('Etudiant',), ('Enseignant',), ('UE',), ('Enseigne',), ('Inscrit',)]"
      ]
     },
     "execution_count": 6,
     "metadata": {},
     "output_type": "execute_result"
    }
   ],
   "source": [
    "%%sql\n",
    "\n",
    "SELECT name \n",
    "FROM sqlite_master\n",
    "WHERE type = 'table'"
   ]
  },
  {
   "cell_type": "code",
   "execution_count": 13,
   "metadata": {},
   "outputs": [
    {
     "name": "stdout",
     "output_type": "stream",
     "text": [
      "Done.\n"
     ]
    },
    {
     "data": {
      "text/html": [
       "<table>\n",
       "    <tr>\n",
       "        <th>sql</th>\n",
       "    </tr>\n",
       "    <tr>\n",
       "        <td>CREATE TABLE Etudiant (<br>       NumEt INTEGER PRIMARY KEY,<br>       NomEt VARCHAR2(255),<br>       Adresse VARCHAR2(1000)<br>)</td>\n",
       "    </tr>\n",
       "</table>"
      ],
      "text/plain": [
       "[('CREATE TABLE Etudiant (\\n       NumEt INTEGER PRIMARY KEY,\\n       NomEt VARCHAR2(255),\\n       Adresse VARCHAR2(1000)\\n)',)]"
      ]
     },
     "execution_count": 13,
     "metadata": {},
     "output_type": "execute_result"
    }
   ],
   "source": [
    "%%sql\n",
    "\n",
    "SELECT sql \n",
    "FROM sqlite_master\n",
    "WHERE name = 'Etudiant';"
   ]
  },
  {
   "cell_type": "code",
   "execution_count": 9,
   "metadata": {},
   "outputs": [
    {
     "name": "stdout",
     "output_type": "stream",
     "text": [
      "Done.\n"
     ]
    },
    {
     "data": {
      "text/html": [
       "<table>\n",
       "    <tr>\n",
       "        <th>sql</th>\n",
       "    </tr>\n",
       "    <tr>\n",
       "        <td>CREATE TABLE Enseignant (<br>       NumEns INTEGER PRIMARY KEY,<br>       NomEns VARCHAR2(255)<br>)</td>\n",
       "    </tr>\n",
       "</table>"
      ],
      "text/plain": [
       "[('CREATE TABLE Enseignant (\\n       NumEns INTEGER PRIMARY KEY,\\n       NomEns VARCHAR2(255)\\n)',)]"
      ]
     },
     "execution_count": 9,
     "metadata": {},
     "output_type": "execute_result"
    }
   ],
   "source": [
    "%%sql\n",
    "\n",
    "SELECT sql \n",
    "FROM sqlite_master\n",
    "WHERE name = 'Enseignant';"
   ]
  },
  {
   "cell_type": "code",
   "execution_count": 14,
   "metadata": {},
   "outputs": [
    {
     "name": "stdout",
     "output_type": "stream",
     "text": [
      "Done.\n"
     ]
    },
    {
     "data": {
      "text/html": [
       "<table>\n",
       "    <tr>\n",
       "        <th>sql</th>\n",
       "    </tr>\n",
       "    <tr>\n",
       "        <td>CREATE TABLE UE (<br>       NumUE INTEGER PRIMARY KEY,<br>       Titre VARCHAR2(255),<br>       HCours FLOAT,<br>       HTD FLOAT,<br>       HTP FLOAT<br>)</td>\n",
       "    </tr>\n",
       "</table>"
      ],
      "text/plain": [
       "[('CREATE TABLE UE (\\n       NumUE INTEGER PRIMARY KEY,\\n       Titre VARCHAR2(255),\\n       HCours FLOAT,\\n       HTD FLOAT,\\n       HTP FLOAT\\n)',)]"
      ]
     },
     "execution_count": 14,
     "metadata": {},
     "output_type": "execute_result"
    }
   ],
   "source": [
    "%%sql\n",
    "\n",
    "SELECT sql \n",
    "FROM sqlite_master\n",
    "WHERE name = 'UE';"
   ]
  },
  {
   "cell_type": "code",
   "execution_count": 15,
   "metadata": {},
   "outputs": [
    {
     "name": "stdout",
     "output_type": "stream",
     "text": [
      "Done.\n"
     ]
    },
    {
     "data": {
      "text/html": [
       "<table>\n",
       "    <tr>\n",
       "        <th>sql</th>\n",
       "    </tr>\n",
       "    <tr>\n",
       "        <td>CREATE TABLE Enseigne (<br>       NumEns INTEGER REFERENCES Enseignant(NumEns),<br>       NumUE INTEGER REFERENCES UE(NumUE),<br>       NCours INTEGER,<br>       NTD INTEGER,<br>       NTP INTEGER,<br>       PRIMARY KEY (NumEns,NumUE)<br>)</td>\n",
       "    </tr>\n",
       "</table>"
      ],
      "text/plain": [
       "[('CREATE TABLE Enseigne (\\n       NumEns INTEGER REFERENCES Enseignant(NumEns),\\n       NumUE INTEGER REFERENCES UE(NumUE),\\n       NCours INTEGER,\\n       NTD INTEGER,\\n       NTP INTEGER,\\n       PRIMARY KEY (NumEns,NumUE)\\n)',)]"
      ]
     },
     "execution_count": 15,
     "metadata": {},
     "output_type": "execute_result"
    }
   ],
   "source": [
    "%%sql\n",
    "\n",
    "SELECT sql \n",
    "FROM sqlite_master\n",
    "WHERE name = 'Enseigne';"
   ]
  },
  {
   "cell_type": "code",
   "execution_count": 16,
   "metadata": {},
   "outputs": [
    {
     "name": "stdout",
     "output_type": "stream",
     "text": [
      "Done.\n"
     ]
    },
    {
     "data": {
      "text/html": [
       "<table>\n",
       "    <tr>\n",
       "        <th>sql</th>\n",
       "    </tr>\n",
       "    <tr>\n",
       "        <td>CREATE TABLE Inscrit (<br>       NumEt INTEGER REFERENCES Etudiant(NumEt),<br>       NumUE INTEGER REFERENCES UE(NumUE),<br>       PRIMARY KEY (NumEt,NumUE)<br>)</td>\n",
       "    </tr>\n",
       "</table>"
      ],
      "text/plain": [
       "[('CREATE TABLE Inscrit (\\n       NumEt INTEGER REFERENCES Etudiant(NumEt),\\n       NumUE INTEGER REFERENCES UE(NumUE),\\n       PRIMARY KEY (NumEt,NumUE)\\n)',)]"
      ]
     },
     "execution_count": 16,
     "metadata": {},
     "output_type": "execute_result"
    }
   ],
   "source": [
    "%%sql\n",
    "\n",
    "SELECT sql \n",
    "FROM sqlite_master\n",
    "WHERE name = 'Inscrit';"
   ]
  },
  {
   "cell_type": "markdown",
   "metadata": {},
   "source": [
    "![Base étudiant](base_etudiant.png)"
   ]
  },
  {
   "cell_type": "markdown",
   "metadata": {},
   "source": [
    "## Exercice 2\n",
    "\n",
    "Donner les titre des UEs dans l’ordre alphabétique"
   ]
  },
  {
   "cell_type": "code",
   "execution_count": 19,
   "metadata": {},
   "outputs": [
    {
     "name": "stdout",
     "output_type": "stream",
     "text": [
      "Done.\n"
     ]
    },
    {
     "data": {
      "text/html": [
       "<table>\n",
       "    <tr>\n",
       "        <th>Titre</th>\n",
       "    </tr>\n",
       "    <tr>\n",
       "        <td>Algebre</td>\n",
       "    </tr>\n",
       "    <tr>\n",
       "        <td>Algorithmique</td>\n",
       "    </tr>\n",
       "    <tr>\n",
       "        <td>Analyse</td>\n",
       "    </tr>\n",
       "    <tr>\n",
       "        <td>Bases de donnes</td>\n",
       "    </tr>\n",
       "    <tr>\n",
       "        <td>Programmation</td>\n",
       "    </tr>\n",
       "    <tr>\n",
       "        <td>Reseaux</td>\n",
       "    </tr>\n",
       "</table>"
      ],
      "text/plain": [
       "[('Algebre',),\n",
       " ('Algorithmique',),\n",
       " ('Analyse',),\n",
       " ('Bases de donnes',),\n",
       " ('Programmation',),\n",
       " ('Reseaux',)]"
      ]
     },
     "execution_count": 19,
     "metadata": {},
     "output_type": "execute_result"
    }
   ],
   "source": [
    "%%sql\n",
    "\n",
    "SELECT Titre \n",
    "FROM UE \n",
    "ORDER BY Titre ASC;"
   ]
  },
  {
   "cell_type": "markdown",
   "metadata": {},
   "source": [
    "## Exercice 3:\n",
    "    \n",
    "Donner le titre des UEs dont le nombre d’heures total (cours, td et cm) par groupe est au moins\n",
    "46"
   ]
  },
  {
   "cell_type": "code",
   "execution_count": 20,
   "metadata": {},
   "outputs": [
    {
     "name": "stdout",
     "output_type": "stream",
     "text": [
      "Done.\n"
     ]
    },
    {
     "data": {
      "text/html": [
       "<table>\n",
       "    <tr>\n",
       "        <th>Titre</th>\n",
       "    </tr>\n",
       "    <tr>\n",
       "        <td>Algorithmique</td>\n",
       "    </tr>\n",
       "    <tr>\n",
       "        <td>Bases de donnes</td>\n",
       "    </tr>\n",
       "</table>"
      ],
      "text/plain": [
       "[('Algorithmique',), ('Bases de donnes',)]"
      ]
     },
     "execution_count": 20,
     "metadata": {},
     "output_type": "execute_result"
    }
   ],
   "source": [
    "%%sql\n",
    "\n",
    "SELECT Titre \n",
    "FROM UE \n",
    "WHERE HCours + HTD + HTP >= 46;"
   ]
  },
  {
   "cell_type": "markdown",
   "metadata": {},
   "source": [
    "## Exercice 4:\n",
    "    \n",
    "Donner les noms des étudiants qui ont ’Albert A.’ comme enseignant."
   ]
  },
  {
   "cell_type": "code",
   "execution_count": 25,
   "metadata": {},
   "outputs": [
    {
     "name": "stdout",
     "output_type": "stream",
     "text": [
      "Done.\n"
     ]
    },
    {
     "data": {
      "text/html": [
       "<table>\n",
       "    <tr>\n",
       "        <th>NomEt</th>\n",
       "    </tr>\n",
       "    <tr>\n",
       "        <td>David D.</td>\n",
       "    </tr>\n",
       "    <tr>\n",
       "        <td>Gerald G.</td>\n",
       "    </tr>\n",
       "    <tr>\n",
       "        <td>Jacques J.</td>\n",
       "    </tr>\n",
       "</table>"
      ],
      "text/plain": [
       "[('David D.',), ('Gerald G.',), ('Jacques J.',)]"
      ]
     },
     "execution_count": 25,
     "metadata": {},
     "output_type": "execute_result"
    }
   ],
   "source": [
    "%%sql\n",
    "\n",
    "SELECT DISTINCT NomEt\n",
    "FROM \n",
    "Etudiant JOIN Inscrit\n",
    "ON Etudiant.NumET = Inscrit.NumEt\n",
    "JOIN UE\n",
    "ON Inscrit.NumUE = UE.NumUE\n",
    "JOIN Enseigne\n",
    "ON UE.NumUE = Enseigne.NumUE\n",
    "JOIN Enseignant\n",
    "ON Enseigne.NumEns = Enseignant.NumEns\n",
    "WHERE NomEns = \"Albert A.\"\n",
    ";"
   ]
  },
  {
   "cell_type": "markdown",
   "metadata": {},
   "source": [
    "## Exercice 5:\n",
    "    \n",
    "Donner les titres des cours ayant au moins un étudiant inscrit et dont le nombre d’heures de\n",
    "TD est au moins 18."
   ]
  },
  {
   "cell_type": "code",
   "execution_count": 34,
   "metadata": {},
   "outputs": [
    {
     "name": "stdout",
     "output_type": "stream",
     "text": [
      "Done.\n"
     ]
    },
    {
     "data": {
      "text/html": [
       "<table>\n",
       "    <tr>\n",
       "        <th>Titre</th>\n",
       "        <th>HTD</th>\n",
       "    </tr>\n",
       "    <tr>\n",
       "        <td>Algebre</td>\n",
       "        <td>25.0</td>\n",
       "    </tr>\n",
       "    <tr>\n",
       "        <td>Analyse</td>\n",
       "        <td>25.0</td>\n",
       "    </tr>\n",
       "    <tr>\n",
       "        <td>Bases de donnes</td>\n",
       "        <td>18.0</td>\n",
       "    </tr>\n",
       "</table>"
      ],
      "text/plain": [
       "[('Algebre', 25.0), ('Analyse', 25.0), ('Bases de donnes', 18.0)]"
      ]
     },
     "execution_count": 34,
     "metadata": {},
     "output_type": "execute_result"
    }
   ],
   "source": [
    "%%sql\n",
    "\n",
    "SELECT  Titre, HTD\n",
    "FROM \n",
    "Etudiant JOIN Inscrit\n",
    "ON Etudiant.NumET = Inscrit.NumEt\n",
    "JOIN UE\n",
    "ON Inscrit.NumUE = UE.NumUE\n",
    "WHERE HTD >= 18\n",
    "GROUP BY Titre\n",
    ";"
   ]
  },
  {
   "cell_type": "markdown",
   "metadata": {},
   "source": [
    "## Exercice 6:\n",
    "    \n",
    "Donner les noms des enseignants qui enseignent dans la même UE que ’Albert A.’ (sauf Albert\n",
    "A. lui-même)."
   ]
  },
  {
   "cell_type": "code",
   "execution_count": 39,
   "metadata": {},
   "outputs": [
    {
     "name": "stdout",
     "output_type": "stream",
     "text": [
      "Done.\n"
     ]
    },
    {
     "data": {
      "text/html": [
       "<table>\n",
       "    <tr>\n",
       "        <th>NomEns</th>\n",
       "    </tr>\n",
       "    <tr>\n",
       "        <td>Bertrand B.</td>\n",
       "    </tr>\n",
       "</table>"
      ],
      "text/plain": [
       "[('Bertrand B.',)]"
      ]
     },
     "execution_count": 39,
     "metadata": {},
     "output_type": "execute_result"
    }
   ],
   "source": [
    "%%sql\n",
    "\n",
    "SELECT \n",
    "    DISTINCT NomEns\n",
    "    FROM \n",
    "    UE JOIN Enseigne \n",
    "    ON UE.NumUE = Enseigne.NumUE\n",
    "    JOIN Enseignant \n",
    "    ON Enseigne.NumEns = Enseignant.NumEns\n",
    "    WHERE NomEns != \"Albert A.\" \n",
    "    AND Titre IN (    \n",
    "            SELECT \n",
    "                Titre\n",
    "                FROM \n",
    "                UE JOIN Enseigne\n",
    "                ON UE.NumUE = Enseigne.NumUE\n",
    "                JOIN Enseignant\n",
    "                ON Enseigne.NumEns = Enseignant.NumEns\n",
    "                WHERE NomEns = \"Albert A.\"\n",
    "                );"
   ]
  },
  {
   "cell_type": "markdown",
   "metadata": {},
   "source": [
    "Plutot : "
   ]
  },
  {
   "cell_type": "code",
   "execution_count": 18,
   "metadata": {},
   "outputs": [
    {
     "name": "stdout",
     "output_type": "stream",
     "text": [
      "Done.\n"
     ]
    },
    {
     "data": {
      "text/html": [
       "<table>\n",
       "    <tr>\n",
       "        <th>NomEns</th>\n",
       "    </tr>\n",
       "    <tr>\n",
       "        <td>Bertrand B.</td>\n",
       "    </tr>\n",
       "</table>"
      ],
      "text/plain": [
       "[('Bertrand B.',)]"
      ]
     },
     "execution_count": 18,
     "metadata": {},
     "output_type": "execute_result"
    }
   ],
   "source": [
    "%%sql\n",
    "\n",
    "SELECT \n",
    "    DISTINCT NomEns\n",
    "    FROM Enseigne \n",
    "    JOIN Enseignant \n",
    "    ON Enseigne.NumEns = Enseignant.NumEns\n",
    "    WHERE NomEns != \"Albert A.\" \n",
    "    AND NumUE IN (    \n",
    "            SELECT \n",
    "                NumUE\n",
    "                FROM Enseigne \n",
    "                JOIN Enseignant \n",
    "                ON Enseigne.NumEns = Enseignant.NumEns\n",
    "                WHERE NomEns = \"Albert A.\"\n",
    "                );"
   ]
  },
  {
   "cell_type": "code",
   "execution_count": 17,
   "metadata": {},
   "outputs": [
    {
     "name": "stdout",
     "output_type": "stream",
     "text": [
      "Done.\n"
     ]
    },
    {
     "data": {
      "text/html": [
       "<table>\n",
       "    <tr>\n",
       "        <th>NomEns</th>\n",
       "    </tr>\n",
       "    <tr>\n",
       "        <td>Bertrand B.</td>\n",
       "    </tr>\n",
       "</table>"
      ],
      "text/plain": [
       "[('Bertrand B.',)]"
      ]
     },
     "execution_count": 17,
     "metadata": {},
     "output_type": "execute_result"
    }
   ],
   "source": [
    "%%sql\n",
    "\n",
    "SELECT DISTINCT Ens2.NomEns\n",
    "FROM Enseigne AS E1\n",
    "JOIN Enseigne AS E2\n",
    "ON E2.NumUE = E1.NumUE\n",
    "JOIN Enseignant AS Ens1\n",
    "ON E1.NumEns = Ens1.NumEns\n",
    "JOIN Enseignant AS Ens2\n",
    "ON E2.NumEns = Ens2.NumEns\n",
    "WHERE Ens1.NomEns = \"Albert A.\" AND E1.NumEns <> E2.NumEns ;"
   ]
  },
  {
   "cell_type": "code",
   "execution_count": 36,
   "metadata": {},
   "outputs": [
    {
     "name": "stdout",
     "output_type": "stream",
     "text": [
      "Done.\n"
     ]
    },
    {
     "data": {
      "text/html": [
       "<table>\n",
       "    <tr>\n",
       "        <th>NomEns</th>\n",
       "        <th>Titre</th>\n",
       "    </tr>\n",
       "    <tr>\n",
       "        <td>Albert A.</td>\n",
       "        <td>Analyse</td>\n",
       "    </tr>\n",
       "    <tr>\n",
       "        <td>Albert A.</td>\n",
       "        <td>Algebre</td>\n",
       "    </tr>\n",
       "    <tr>\n",
       "        <td>Bertrand B.</td>\n",
       "        <td>Analyse</td>\n",
       "    </tr>\n",
       "    <tr>\n",
       "        <td>Bertrand B.</td>\n",
       "        <td>Algebre</td>\n",
       "    </tr>\n",
       "    <tr>\n",
       "        <td>Carine C.</td>\n",
       "        <td>Programmation</td>\n",
       "    </tr>\n",
       "    <tr>\n",
       "        <td>Carine C.</td>\n",
       "        <td>Algorithmique</td>\n",
       "    </tr>\n",
       "    <tr>\n",
       "        <td>Carine C.</td>\n",
       "        <td>Bases de donnes</td>\n",
       "    </tr>\n",
       "    <tr>\n",
       "        <td>David D.</td>\n",
       "        <td>Programmation</td>\n",
       "    </tr>\n",
       "    <tr>\n",
       "        <td>David D.</td>\n",
       "        <td>Algorithmique</td>\n",
       "    </tr>\n",
       "    <tr>\n",
       "        <td>David D.</td>\n",
       "        <td>Bases de donnes</td>\n",
       "    </tr>\n",
       "    <tr>\n",
       "        <td>Edgar E.</td>\n",
       "        <td>Programmation</td>\n",
       "    </tr>\n",
       "    <tr>\n",
       "        <td>Edgar E.</td>\n",
       "        <td>Algorithmique</td>\n",
       "    </tr>\n",
       "    <tr>\n",
       "        <td>Edgar E.</td>\n",
       "        <td>Bases de donnes</td>\n",
       "    </tr>\n",
       "</table>"
      ],
      "text/plain": [
       "[('Albert A.', 'Analyse'),\n",
       " ('Albert A.', 'Algebre'),\n",
       " ('Bertrand B.', 'Analyse'),\n",
       " ('Bertrand B.', 'Algebre'),\n",
       " ('Carine C.', 'Programmation'),\n",
       " ('Carine C.', 'Algorithmique'),\n",
       " ('Carine C.', 'Bases de donnes'),\n",
       " ('David D.', 'Programmation'),\n",
       " ('David D.', 'Algorithmique'),\n",
       " ('David D.', 'Bases de donnes'),\n",
       " ('Edgar E.', 'Programmation'),\n",
       " ('Edgar E.', 'Algorithmique'),\n",
       " ('Edgar E.', 'Bases de donnes')]"
      ]
     },
     "execution_count": 36,
     "metadata": {},
     "output_type": "execute_result"
    }
   ],
   "source": [
    "%%sql\n",
    "\n",
    "SELECT \n",
    "NomEns, Titre\n",
    "FROM \n",
    "UE\n",
    "JOIN Enseigne\n",
    "ON UE.NumUE = Enseigne.NumUE\n",
    "JOIN Enseignant\n",
    "ON Enseigne.NumEns = Enseignant.NumEns\n",
    ";"
   ]
  },
  {
   "cell_type": "markdown",
   "metadata": {},
   "source": [
    "## Exercice 7:\n",
    "\n",
    "Donner le nombre total d’heures de cours/TD/TP dispensées à l’université. On nommera\n",
    "TOTAL_HEURES ce nombre."
   ]
  },
  {
   "cell_type": "code",
   "execution_count": 4,
   "metadata": {},
   "outputs": [
    {
     "name": "stdout",
     "output_type": "stream",
     "text": [
      "Done.\n"
     ]
    },
    {
     "data": {
      "text/html": [
       "<table>\n",
       "    <tr>\n",
       "        <th>TOTAL_HEURES</th>\n",
       "    </tr>\n",
       "    <tr>\n",
       "        <td>436.0</td>\n",
       "    </tr>\n",
       "</table>"
      ],
      "text/plain": [
       "[(436.0,)]"
      ]
     },
     "execution_count": 4,
     "metadata": {},
     "output_type": "execute_result"
    }
   ],
   "source": [
    "%%sql\n",
    "\n",
    "SELECT \n",
    "SUM(HCours * NCours + HTD * NTD + HTP * NTP) AS TOTAL_HEURES\n",
    "FROM \n",
    "UE\n",
    "JOIN Enseigne\n",
    "ON UE.NumUE = Enseigne.NumUE\n",
    ";"
   ]
  },
  {
   "cell_type": "code",
   "execution_count": 21,
   "metadata": {},
   "outputs": [
    {
     "name": "stdout",
     "output_type": "stream",
     "text": [
      "Done.\n"
     ]
    },
    {
     "data": {
      "text/html": [
       "<table>\n",
       "    <tr>\n",
       "        <th>NumUE</th>\n",
       "        <th>TOTAL_HEURES</th>\n",
       "    </tr>\n",
       "    <tr>\n",
       "        <td>1</td>\n",
       "        <td>70.0</td>\n",
       "    </tr>\n",
       "    <tr>\n",
       "        <td>2</td>\n",
       "        <td>70.0</td>\n",
       "    </tr>\n",
       "    <tr>\n",
       "        <td>3</td>\n",
       "        <td>75.0</td>\n",
       "    </tr>\n",
       "    <tr>\n",
       "        <td>4</td>\n",
       "        <td>95.0</td>\n",
       "    </tr>\n",
       "    <tr>\n",
       "        <td>5</td>\n",
       "        <td>126.0</td>\n",
       "    </tr>\n",
       "    <tr>\n",
       "        <td>6</td>\n",
       "        <td>0</td>\n",
       "    </tr>\n",
       "</table>"
      ],
      "text/plain": [
       "[(1, 70.0), (2, 70.0), (3, 75.0), (4, 95.0), (5, 126.0), (6, 0)]"
      ]
     },
     "execution_count": 21,
     "metadata": {},
     "output_type": "execute_result"
    }
   ],
   "source": [
    "%%sql\n",
    "\n",
    "SELECT \n",
    "UE.NumUE, SUM(HCours * NCours + HTD * NTD + HTP * NTP) AS TOTAL_HEURES\n",
    "FROM \n",
    "UE\n",
    "JOIN Enseigne\n",
    "ON UE.NumUE = Enseigne.NumUE\n",
    "GROUP BY UE.NumUE\n",
    "UNION\n",
    "SELECT NumUE, 0\n",
    "FROM UE\n",
    "EXCEPT\n",
    "SELECT DISTINCT NumUE, 0\n",
    "FROM Enseigne\n",
    ";"
   ]
  },
  {
   "cell_type": "markdown",
   "metadata": {},
   "source": [
    "Avec LEFT OUTER JOIN (https://www.w3schools.com/sql/sql_join_left.asp) +  COALESCE (https://www.w3schools.com/sql/sql_isnull.asp) pour transformer le NULL en 0"
   ]
  },
  {
   "cell_type": "code",
   "execution_count": 9,
   "metadata": {},
   "outputs": [
    {
     "name": "stdout",
     "output_type": "stream",
     "text": [
      "Done.\n"
     ]
    },
    {
     "data": {
      "text/html": [
       "<table>\n",
       "    <tr>\n",
       "        <th>NumUE</th>\n",
       "        <th>TOTAL_HEURES</th>\n",
       "    </tr>\n",
       "    <tr>\n",
       "        <td>1</td>\n",
       "        <td>70.0</td>\n",
       "    </tr>\n",
       "    <tr>\n",
       "        <td>2</td>\n",
       "        <td>70.0</td>\n",
       "    </tr>\n",
       "    <tr>\n",
       "        <td>3</td>\n",
       "        <td>75.0</td>\n",
       "    </tr>\n",
       "    <tr>\n",
       "        <td>4</td>\n",
       "        <td>95.0</td>\n",
       "    </tr>\n",
       "    <tr>\n",
       "        <td>5</td>\n",
       "        <td>126.0</td>\n",
       "    </tr>\n",
       "    <tr>\n",
       "        <td>6</td>\n",
       "        <td>0</td>\n",
       "    </tr>\n",
       "</table>"
      ],
      "text/plain": [
       "[(1, 70.0), (2, 70.0), (3, 75.0), (4, 95.0), (5, 126.0), (6, 0)]"
      ]
     },
     "execution_count": 9,
     "metadata": {},
     "output_type": "execute_result"
    }
   ],
   "source": [
    "%%sql\n",
    "\n",
    "SELECT \n",
    "UE.NumUE, COALESCE(SUM(HCours * NCours + HTD * NTD + HTP * NTP), 0) AS TOTAL_HEURES\n",
    "FROM \n",
    "UE\n",
    "LEFT OUTER JOIN Enseigne\n",
    "ON UE.NumUE = Enseigne.NumUE\n",
    "GROUP BY UE.NumUE\n",
    ";"
   ]
  },
  {
   "cell_type": "markdown",
   "metadata": {},
   "source": [
    "## Exercice 8:\n",
    "\n",
    "Donner le nombre d’UE n’ayant pas de TP (on appellera NB_UES l’attribut donnant ce résultat)."
   ]
  },
  {
   "cell_type": "code",
   "execution_count": 20,
   "metadata": {},
   "outputs": [
    {
     "name": "stdout",
     "output_type": "stream",
     "text": [
      "Done.\n"
     ]
    },
    {
     "data": {
      "text/html": [
       "<table>\n",
       "    <tr>\n",
       "        <th>COUNT(*)</th>\n",
       "    </tr>\n",
       "    <tr>\n",
       "        <td>2</td>\n",
       "    </tr>\n",
       "</table>"
      ],
      "text/plain": [
       "[(2,)]"
      ]
     },
     "execution_count": 20,
     "metadata": {},
     "output_type": "execute_result"
    }
   ],
   "source": [
    "%%sql\n",
    "\n",
    "SELECT\n",
    "COUNT(*) \n",
    "FROM\n",
    "UE\n",
    "WHERE HTP = 0\n",
    ";"
   ]
  },
  {
   "cell_type": "code",
   "execution_count": 19,
   "metadata": {},
   "outputs": [
    {
     "name": "stdout",
     "output_type": "stream",
     "text": [
      "Done.\n"
     ]
    },
    {
     "data": {
      "text/html": [
       "<table>\n",
       "    <tr>\n",
       "        <th>COUNT(*)</th>\n",
       "    </tr>\n",
       "    <tr>\n",
       "        <td>2</td>\n",
       "    </tr>\n",
       "</table>"
      ],
      "text/plain": [
       "[(2,)]"
      ]
     },
     "execution_count": 19,
     "metadata": {},
     "output_type": "execute_result"
    }
   ],
   "source": [
    "%%sql\n",
    "\n",
    "SELECT\n",
    "COUNT(*) \n",
    "FROM\n",
    "(SELECT \n",
    "UE.NumUE\n",
    "FROM \n",
    "UE JOIN Enseigne\n",
    "ON UE.NumUE = Enseigne.NumUE\n",
    "GROUP BY UE.NumUE\n",
    "HAVING SUM(HTP * NTP) = 0\n",
    " )\n",
    ";"
   ]
  },
  {
   "cell_type": "markdown",
   "metadata": {},
   "source": [
    "Plutot la requête ci-dessous"
   ]
  },
  {
   "cell_type": "code",
   "execution_count": 12,
   "metadata": {},
   "outputs": [
    {
     "name": "stdout",
     "output_type": "stream",
     "text": [
      "Done.\n"
     ]
    },
    {
     "data": {
      "text/html": [
       "<table>\n",
       "    <tr>\n",
       "        <th>COUNT(*)</th>\n",
       "    </tr>\n",
       "    <tr>\n",
       "        <td>3</td>\n",
       "    </tr>\n",
       "</table>"
      ],
      "text/plain": [
       "[(3,)]"
      ]
     },
     "execution_count": 12,
     "metadata": {},
     "output_type": "execute_result"
    }
   ],
   "source": [
    "%%sql\n",
    "\n",
    "SELECT \n",
    "    COUNT(*)\n",
    "    FROM(\n",
    "        SELECT  Titre\n",
    "        FROM  UE\n",
    "        \n",
    "        EXCEPT\n",
    "        \n",
    "        SELECT  Titre\n",
    "        FROM UE JOIN Enseigne\n",
    "        ON UE.NumUE = Enseigne.NumUE\n",
    "        GROUP BY UE.NumUE\n",
    "        HAVING SUM(HTP * NTP) > 0\n",
    "    );\n"
   ]
  },
  {
   "cell_type": "markdown",
   "metadata": {},
   "source": [
    "## Exercice 9:\n",
    "    \n",
    "Donner le nombre d’étudiants qui suivent le cours d’Analyse (on appellera NB_ETUDIANTS\n",
    "l’attribut donnant ce nombre)."
   ]
  },
  {
   "cell_type": "code",
   "execution_count": 63,
   "metadata": {
    "scrolled": true
   },
   "outputs": [
    {
     "name": "stdout",
     "output_type": "stream",
     "text": [
      "Done.\n"
     ]
    },
    {
     "data": {
      "text/html": [
       "<table>\n",
       "    <tr>\n",
       "        <th>NB_ETUDIANTS</th>\n",
       "    </tr>\n",
       "    <tr>\n",
       "        <td>3</td>\n",
       "    </tr>\n",
       "</table>"
      ],
      "text/plain": [
       "[(3,)]"
      ]
     },
     "execution_count": 63,
     "metadata": {},
     "output_type": "execute_result"
    }
   ],
   "source": [
    "%%sql\n",
    "\n",
    "SELECT COUNT(*) AS NB_ETUDIANTS\n",
    "FROM \n",
    "Etudiant JOIN Inscrit\n",
    "ON Etudiant.NumET = Inscrit.NumEt\n",
    "JOIN UE\n",
    "ON Inscrit.NumUE = UE.NumUE\n",
    "WHERE Titre = \"Analyse\"\n",
    ";"
   ]
  },
  {
   "cell_type": "markdown",
   "metadata": {},
   "source": [
    "## Exercice 10\n",
    "\n",
    "Donner la moyenne du nombre d’heures de cours, de TD et de TP par UE. On appelera MOY_COURS\n",
    "la moyenne des heures, MOY_TD celle des TD et MOY_TP celle des TPs."
   ]
  },
  {
   "cell_type": "code",
   "execution_count": 48,
   "metadata": {},
   "outputs": [
    {
     "name": "stdout",
     "output_type": "stream",
     "text": [
      "Done.\n"
     ]
    },
    {
     "data": {
      "text/html": [
       "<table>\n",
       "    <tr>\n",
       "        <th>MOY_COURS</th>\n",
       "        <th>MOY_TD</th>\n",
       "        <th>MOY_TP</th>\n",
       "    </tr>\n",
       "    <tr>\n",
       "        <td>16.5</td>\n",
       "        <td>16.333333333333332</td>\n",
       "        <td>8.333333333333334</td>\n",
       "    </tr>\n",
       "</table>"
      ],
      "text/plain": [
       "[(16.5, 16.333333333333332, 8.333333333333334)]"
      ]
     },
     "execution_count": 48,
     "metadata": {},
     "output_type": "execute_result"
    }
   ],
   "source": [
    "%%sql\n",
    "\n",
    "SELECT\n",
    "AVG(HCours) AS MOY_COURS, AVG(HTD) AS  MOY_TD, AVG(HTP) AS MOY_TP\n",
    "FROM  UE ;"
   ]
  },
  {
   "cell_type": "code",
   "execution_count": 11,
   "metadata": {},
   "outputs": [
    {
     "name": "stdout",
     "output_type": "stream",
     "text": [
      "Done.\n"
     ]
    },
    {
     "data": {
      "text/html": [
       "<table>\n",
       "    <tr>\n",
       "        <th>MOY_COURS</th>\n",
       "        <th>MOY_TD</th>\n",
       "        <th>MOY_TP</th>\n",
       "    </tr>\n",
       "    <tr>\n",
       "        <td>16.5</td>\n",
       "        <td>19.6</td>\n",
       "        <td>12.5</td>\n",
       "    </tr>\n",
       "</table>"
      ],
      "text/plain": [
       "[(16.5, 19.6, 12.5)]"
      ]
     },
     "execution_count": 11,
     "metadata": {},
     "output_type": "execute_result"
    }
   ],
   "source": [
    "%%sql\n",
    "\n",
    "SELECT\n",
    "SUM(HCours)/(SELECT COUNT(*) FROM UE WHERE HCours <> 0) AS MOY_COURS, \n",
    "SUM(HTD)/(SELECT COUNT(*) FROM UE WHERE HTD <> 0) AS   MOY_TD, \n",
    "SUM(HTP)/(SELECT COUNT(*) FROM UE WHERE HTP <> 0)AS   MOY_TP\n",
    "FROM\n",
    "UE ;"
   ]
  },
  {
   "cell_type": "code",
   "execution_count": 13,
   "metadata": {},
   "outputs": [
    {
     "name": "stdout",
     "output_type": "stream",
     "text": [
      "Done.\n"
     ]
    },
    {
     "data": {
      "text/html": [
       "<table>\n",
       "    <tr>\n",
       "        <th>NumUE</th>\n",
       "        <th>Titre</th>\n",
       "        <th>HCours</th>\n",
       "        <th>HTD</th>\n",
       "        <th>HTP</th>\n",
       "    </tr>\n",
       "    <tr>\n",
       "        <td>1</td>\n",
       "        <td>Analyse</td>\n",
       "        <td>20.0</td>\n",
       "        <td>25.0</td>\n",
       "        <td>0.0</td>\n",
       "    </tr>\n",
       "    <tr>\n",
       "        <td>2</td>\n",
       "        <td>Algebre</td>\n",
       "        <td>20.0</td>\n",
       "        <td>25.0</td>\n",
       "        <td>0.0</td>\n",
       "    </tr>\n",
       "    <tr>\n",
       "        <td>3</td>\n",
       "        <td>Programmation</td>\n",
       "        <td>15.0</td>\n",
       "        <td>15.0</td>\n",
       "        <td>15.0</td>\n",
       "    </tr>\n",
       "    <tr>\n",
       "        <td>4</td>\n",
       "        <td>Algorithmique</td>\n",
       "        <td>20.0</td>\n",
       "        <td>15.0</td>\n",
       "        <td>15.0</td>\n",
       "    </tr>\n",
       "    <tr>\n",
       "        <td>5</td>\n",
       "        <td>Bases de donnes</td>\n",
       "        <td>18.0</td>\n",
       "        <td>18.0</td>\n",
       "        <td>18.0</td>\n",
       "    </tr>\n",
       "    <tr>\n",
       "        <td>6</td>\n",
       "        <td>Reseaux</td>\n",
       "        <td>6.0</td>\n",
       "        <td>0.0</td>\n",
       "        <td>2.0</td>\n",
       "    </tr>\n",
       "</table>"
      ],
      "text/plain": [
       "[(1, 'Analyse', 20.0, 25.0, 0.0),\n",
       " (2, 'Algebre', 20.0, 25.0, 0.0),\n",
       " (3, 'Programmation', 15.0, 15.0, 15.0),\n",
       " (4, 'Algorithmique', 20.0, 15.0, 15.0),\n",
       " (5, 'Bases de donnes', 18.0, 18.0, 18.0),\n",
       " (6, 'Reseaux', 6.0, 0.0, 2.0)]"
      ]
     },
     "execution_count": 13,
     "metadata": {},
     "output_type": "execute_result"
    }
   ],
   "source": [
    "%%sql\n",
    "\n",
    "SELECT *\n",
    "FROM UE;"
   ]
  },
  {
   "cell_type": "markdown",
   "metadata": {},
   "source": [
    "## Exercice 11:\n",
    "\n",
    "Donner pour chaque étudiant le nombre total d’heures qu’il suit. On donnera dans le résultat\n",
    "le numéro de l’étudiant ainsi qu’un attribut HEURES qui indiquera son nombre d’heures."
   ]
  },
  {
   "cell_type": "code",
   "execution_count": 15,
   "metadata": {},
   "outputs": [
    {
     "name": "stdout",
     "output_type": "stream",
     "text": [
      "Done.\n"
     ]
    },
    {
     "data": {
      "text/html": [
       "<table>\n",
       "    <tr>\n",
       "        <th>NumEt</th>\n",
       "        <th>HEURES</th>\n",
       "    </tr>\n",
       "    <tr>\n",
       "        <td>1117</td>\n",
       "        <td>185.0</td>\n",
       "    </tr>\n",
       "    <tr>\n",
       "        <td>1111</td>\n",
       "        <td>149.0</td>\n",
       "    </tr>\n",
       "    <tr>\n",
       "        <td>1114</td>\n",
       "        <td>143.0</td>\n",
       "    </tr>\n",
       "    <tr>\n",
       "        <td>1119</td>\n",
       "        <td>135.0</td>\n",
       "    </tr>\n",
       "    <tr>\n",
       "        <td>1112</td>\n",
       "        <td>104.0</td>\n",
       "    </tr>\n",
       "    <tr>\n",
       "        <td>1116</td>\n",
       "        <td>62.0</td>\n",
       "    </tr>\n",
       "    <tr>\n",
       "        <td>1118</td>\n",
       "        <td>62.0</td>\n",
       "    </tr>\n",
       "    <tr>\n",
       "        <td>1115</td>\n",
       "        <td>50.0</td>\n",
       "    </tr>\n",
       "</table>"
      ],
      "text/plain": [
       "[(1117, 185.0),\n",
       " (1111, 149.0),\n",
       " (1114, 143.0),\n",
       " (1119, 135.0),\n",
       " (1112, 104.0),\n",
       " (1116, 62.0),\n",
       " (1118, 62.0),\n",
       " (1115, 50.0)]"
      ]
     },
     "execution_count": 15,
     "metadata": {},
     "output_type": "execute_result"
    }
   ],
   "source": [
    "%%sql\n",
    "\n",
    "SELECT Etudiant.NumEt, SUM(HTP + HTD + HCours) AS HEURES\n",
    "    FROM  Etudiant JOIN Inscrit\n",
    "    ON Etudiant.NumET = Inscrit.NumEt\n",
    "    JOIN UE\n",
    "    ON Inscrit.NumUE = UE.NumUE              \n",
    "    GROUP BY Etudiant.NumEt\n",
    "    ORDER BY HEURES DESC\n",
    ";"
   ]
  },
  {
   "cell_type": "markdown",
   "metadata": {},
   "source": [
    "Plutot la requête suivante"
   ]
  },
  {
   "cell_type": "code",
   "execution_count": 16,
   "metadata": {},
   "outputs": [
    {
     "name": "stdout",
     "output_type": "stream",
     "text": [
      "Done.\n"
     ]
    },
    {
     "data": {
      "text/html": [
       "<table>\n",
       "    <tr>\n",
       "        <th>NumEt</th>\n",
       "        <th>HEURES</th>\n",
       "    </tr>\n",
       "    <tr>\n",
       "        <td>1117</td>\n",
       "        <td>185.0</td>\n",
       "    </tr>\n",
       "    <tr>\n",
       "        <td>1111</td>\n",
       "        <td>149.0</td>\n",
       "    </tr>\n",
       "    <tr>\n",
       "        <td>1114</td>\n",
       "        <td>135.0</td>\n",
       "    </tr>\n",
       "    <tr>\n",
       "        <td>1119</td>\n",
       "        <td>135.0</td>\n",
       "    </tr>\n",
       "    <tr>\n",
       "        <td>1112</td>\n",
       "        <td>104.0</td>\n",
       "    </tr>\n",
       "    <tr>\n",
       "        <td>1116</td>\n",
       "        <td>54.0</td>\n",
       "    </tr>\n",
       "    <tr>\n",
       "        <td>1118</td>\n",
       "        <td>54.0</td>\n",
       "    </tr>\n",
       "    <tr>\n",
       "        <td>1115</td>\n",
       "        <td>50.0</td>\n",
       "    </tr>\n",
       "</table>"
      ],
      "text/plain": [
       "[(1117, 185.0),\n",
       " (1111, 149.0),\n",
       " (1114, 135.0),\n",
       " (1119, 135.0),\n",
       " (1112, 104.0),\n",
       " (1116, 54.0),\n",
       " (1118, 54.0),\n",
       " (1115, 50.0)]"
      ]
     },
     "execution_count": 16,
     "metadata": {},
     "output_type": "execute_result"
    }
   ],
   "source": [
    "%%sql\n",
    "\n",
    "SELECT NumEt, SUM(HTP + HTD + HCours) AS HEURES\n",
    "    FROM  (\n",
    "            SELECT UE.NumUE, Etudiant.NumEt, HTP,  HTD, HCours  \n",
    "                    Etudiant JOIN Inscrit\n",
    "                    ON Etudiant.NumET = Inscrit.NumEt\n",
    "                    JOIN UE\n",
    "                    ON Inscrit.NumUE = UE.NumUE\n",
    "                    JOIN Enseigne\n",
    "                    ON UE.NumUE = Enseigne.NumUE\n",
    "                WHERE NCours+ NTD + NTP != 0\n",
    "                GROUP BY Etudiant.NumEt, UE.NumUE\n",
    "        )\n",
    "    GROUP BY NumEt\n",
    "    ORDER BY HEURES DESC\n",
    ";"
   ]
  },
  {
   "cell_type": "markdown",
   "metadata": {},
   "source": [
    "## Exercice 12:\n",
    "    \n",
    "Donner les numéros des enseignants qui effectuent plus de 17 heures de cours magistraux.\n",
    "Attention, ici une clause HAVING est nécessaire."
   ]
  },
  {
   "cell_type": "code",
   "execution_count": 49,
   "metadata": {},
   "outputs": [
    {
     "name": "stdout",
     "output_type": "stream",
     "text": [
      "Done.\n"
     ]
    },
    {
     "data": {
      "text/html": [
       "<table>\n",
       "    <tr>\n",
       "        <th>NumEns</th>\n",
       "        <th>NomEns</th>\n",
       "        <th>HEURES_COURS</th>\n",
       "    </tr>\n",
       "    <tr>\n",
       "        <td>111</td>\n",
       "        <td>Albert A.</td>\n",
       "        <td>40.0</td>\n",
       "    </tr>\n",
       "    <tr>\n",
       "        <td>112</td>\n",
       "        <td>Bertrand B.</td>\n",
       "        <td>40.0</td>\n",
       "    </tr>\n",
       "    <tr>\n",
       "        <td>114</td>\n",
       "        <td>David D.</td>\n",
       "        <td>53.0</td>\n",
       "    </tr>\n",
       "    <tr>\n",
       "        <td>115</td>\n",
       "        <td>Edgar E.</td>\n",
       "        <td>53.0</td>\n",
       "    </tr>\n",
       "</table>"
      ],
      "text/plain": [
       "[(111, 'Albert A.', 40.0),\n",
       " (112, 'Bertrand B.', 40.0),\n",
       " (114, 'David D.', 53.0),\n",
       " (115, 'Edgar E.', 53.0)]"
      ]
     },
     "execution_count": 49,
     "metadata": {},
     "output_type": "execute_result"
    }
   ],
   "source": [
    "%%sql\n",
    "\n",
    "SELECT \n",
    "Enseignant.NumEns,NomEns, SUM(HCours) AS HEURES_COURS\n",
    "FROM \n",
    "UE\n",
    "JOIN Enseigne\n",
    "ON UE.NumUE = Enseigne.NumUE\n",
    "JOIN Enseignant\n",
    "ON Enseigne.NumEns = Enseignant.NumEns\n",
    "GROUP BY Enseignant.NumEns\n",
    "HAVING SUM(HCours * NCours) > 17\n",
    ";"
   ]
  },
  {
   "cell_type": "code",
   "execution_count": 48,
   "metadata": {},
   "outputs": [
    {
     "name": "stdout",
     "output_type": "stream",
     "text": [
      "Done.\n"
     ]
    },
    {
     "data": {
      "text/html": [
       "<table>\n",
       "    <tr>\n",
       "        <th>NumUE</th>\n",
       "        <th>Titre</th>\n",
       "        <th>HCours</th>\n",
       "        <th>HTD</th>\n",
       "        <th>HTP</th>\n",
       "        <th>NumEns</th>\n",
       "        <th>NumUE_1</th>\n",
       "        <th>NCours</th>\n",
       "        <th>NTD</th>\n",
       "        <th>NTP</th>\n",
       "        <th>NumEns_1</th>\n",
       "        <th>NomEns</th>\n",
       "    </tr>\n",
       "    <tr>\n",
       "        <td>1</td>\n",
       "        <td>Analyse</td>\n",
       "        <td>20.0</td>\n",
       "        <td>25.0</td>\n",
       "        <td>0.0</td>\n",
       "        <td>111</td>\n",
       "        <td>1</td>\n",
       "        <td>1</td>\n",
       "        <td>1</td>\n",
       "        <td>0</td>\n",
       "        <td>111</td>\n",
       "        <td>Albert A.</td>\n",
       "    </tr>\n",
       "    <tr>\n",
       "        <td>2</td>\n",
       "        <td>Algebre</td>\n",
       "        <td>20.0</td>\n",
       "        <td>25.0</td>\n",
       "        <td>0.0</td>\n",
       "        <td>111</td>\n",
       "        <td>2</td>\n",
       "        <td>0</td>\n",
       "        <td>1</td>\n",
       "        <td>0</td>\n",
       "        <td>111</td>\n",
       "        <td>Albert A.</td>\n",
       "    </tr>\n",
       "    <tr>\n",
       "        <td>1</td>\n",
       "        <td>Analyse</td>\n",
       "        <td>20.0</td>\n",
       "        <td>25.0</td>\n",
       "        <td>0.0</td>\n",
       "        <td>112</td>\n",
       "        <td>1</td>\n",
       "        <td>0</td>\n",
       "        <td>1</td>\n",
       "        <td>0</td>\n",
       "        <td>112</td>\n",
       "        <td>Bertrand B.</td>\n",
       "    </tr>\n",
       "    <tr>\n",
       "        <td>2</td>\n",
       "        <td>Algebre</td>\n",
       "        <td>20.0</td>\n",
       "        <td>25.0</td>\n",
       "        <td>0.0</td>\n",
       "        <td>112</td>\n",
       "        <td>2</td>\n",
       "        <td>1</td>\n",
       "        <td>1</td>\n",
       "        <td>0</td>\n",
       "        <td>112</td>\n",
       "        <td>Bertrand B.</td>\n",
       "    </tr>\n",
       "    <tr>\n",
       "        <td>3</td>\n",
       "        <td>Programmation</td>\n",
       "        <td>15.0</td>\n",
       "        <td>15.0</td>\n",
       "        <td>15.0</td>\n",
       "        <td>113</td>\n",
       "        <td>3</td>\n",
       "        <td>1</td>\n",
       "        <td>1</td>\n",
       "        <td>1</td>\n",
       "        <td>113</td>\n",
       "        <td>Carine C.</td>\n",
       "    </tr>\n",
       "    <tr>\n",
       "        <td>4</td>\n",
       "        <td>Algorithmique</td>\n",
       "        <td>20.0</td>\n",
       "        <td>15.0</td>\n",
       "        <td>15.0</td>\n",
       "        <td>114</td>\n",
       "        <td>4</td>\n",
       "        <td>1</td>\n",
       "        <td>1</td>\n",
       "        <td>1</td>\n",
       "        <td>114</td>\n",
       "        <td>David D.</td>\n",
       "    </tr>\n",
       "    <tr>\n",
       "        <td>5</td>\n",
       "        <td>Bases de donnes</td>\n",
       "        <td>18.0</td>\n",
       "        <td>18.0</td>\n",
       "        <td>18.0</td>\n",
       "        <td>115</td>\n",
       "        <td>5</td>\n",
       "        <td>1</td>\n",
       "        <td>1</td>\n",
       "        <td>1</td>\n",
       "        <td>115</td>\n",
       "        <td>Edgar E.</td>\n",
       "    </tr>\n",
       "    <tr>\n",
       "        <td>4</td>\n",
       "        <td>Algorithmique</td>\n",
       "        <td>20.0</td>\n",
       "        <td>15.0</td>\n",
       "        <td>15.0</td>\n",
       "        <td>113</td>\n",
       "        <td>4</td>\n",
       "        <td>0</td>\n",
       "        <td>0</td>\n",
       "        <td>1</td>\n",
       "        <td>113</td>\n",
       "        <td>Carine C.</td>\n",
       "    </tr>\n",
       "    <tr>\n",
       "        <td>5</td>\n",
       "        <td>Bases de donnes</td>\n",
       "        <td>18.0</td>\n",
       "        <td>18.0</td>\n",
       "        <td>18.0</td>\n",
       "        <td>113</td>\n",
       "        <td>5</td>\n",
       "        <td>0</td>\n",
       "        <td>1</td>\n",
       "        <td>1</td>\n",
       "        <td>113</td>\n",
       "        <td>Carine C.</td>\n",
       "    </tr>\n",
       "    <tr>\n",
       "        <td>3</td>\n",
       "        <td>Programmation</td>\n",
       "        <td>15.0</td>\n",
       "        <td>15.0</td>\n",
       "        <td>15.0</td>\n",
       "        <td>114</td>\n",
       "        <td>3</td>\n",
       "        <td>0</td>\n",
       "        <td>0</td>\n",
       "        <td>1</td>\n",
       "        <td>114</td>\n",
       "        <td>David D.</td>\n",
       "    </tr>\n",
       "    <tr>\n",
       "        <td>5</td>\n",
       "        <td>Bases de donnes</td>\n",
       "        <td>18.0</td>\n",
       "        <td>18.0</td>\n",
       "        <td>18.0</td>\n",
       "        <td>114</td>\n",
       "        <td>5</td>\n",
       "        <td>0</td>\n",
       "        <td>1</td>\n",
       "        <td>1</td>\n",
       "        <td>114</td>\n",
       "        <td>David D.</td>\n",
       "    </tr>\n",
       "    <tr>\n",
       "        <td>3</td>\n",
       "        <td>Programmation</td>\n",
       "        <td>15.0</td>\n",
       "        <td>15.0</td>\n",
       "        <td>15.0</td>\n",
       "        <td>115</td>\n",
       "        <td>3</td>\n",
       "        <td>0</td>\n",
       "        <td>0</td>\n",
       "        <td>1</td>\n",
       "        <td>115</td>\n",
       "        <td>Edgar E.</td>\n",
       "    </tr>\n",
       "    <tr>\n",
       "        <td>4</td>\n",
       "        <td>Algorithmique</td>\n",
       "        <td>20.0</td>\n",
       "        <td>15.0</td>\n",
       "        <td>15.0</td>\n",
       "        <td>115</td>\n",
       "        <td>4</td>\n",
       "        <td>0</td>\n",
       "        <td>1</td>\n",
       "        <td>1</td>\n",
       "        <td>115</td>\n",
       "        <td>Edgar E.</td>\n",
       "    </tr>\n",
       "</table>"
      ],
      "text/plain": [
       "[(1, 'Analyse', 20.0, 25.0, 0.0, 111, 1, 1, 1, 0, 111, 'Albert A.'),\n",
       " (2, 'Algebre', 20.0, 25.0, 0.0, 111, 2, 0, 1, 0, 111, 'Albert A.'),\n",
       " (1, 'Analyse', 20.0, 25.0, 0.0, 112, 1, 0, 1, 0, 112, 'Bertrand B.'),\n",
       " (2, 'Algebre', 20.0, 25.0, 0.0, 112, 2, 1, 1, 0, 112, 'Bertrand B.'),\n",
       " (3, 'Programmation', 15.0, 15.0, 15.0, 113, 3, 1, 1, 1, 113, 'Carine C.'),\n",
       " (4, 'Algorithmique', 20.0, 15.0, 15.0, 114, 4, 1, 1, 1, 114, 'David D.'),\n",
       " (5, 'Bases de donnes', 18.0, 18.0, 18.0, 115, 5, 1, 1, 1, 115, 'Edgar E.'),\n",
       " (4, 'Algorithmique', 20.0, 15.0, 15.0, 113, 4, 0, 0, 1, 113, 'Carine C.'),\n",
       " (5, 'Bases de donnes', 18.0, 18.0, 18.0, 113, 5, 0, 1, 1, 113, 'Carine C.'),\n",
       " (3, 'Programmation', 15.0, 15.0, 15.0, 114, 3, 0, 0, 1, 114, 'David D.'),\n",
       " (5, 'Bases de donnes', 18.0, 18.0, 18.0, 114, 5, 0, 1, 1, 114, 'David D.'),\n",
       " (3, 'Programmation', 15.0, 15.0, 15.0, 115, 3, 0, 0, 1, 115, 'Edgar E.'),\n",
       " (4, 'Algorithmique', 20.0, 15.0, 15.0, 115, 4, 0, 1, 1, 115, 'Edgar E.')]"
      ]
     },
     "execution_count": 48,
     "metadata": {},
     "output_type": "execute_result"
    }
   ],
   "source": [
    "%%sql\n",
    "\n",
    "SELECT \n",
    "*\n",
    "FROM \n",
    "UE\n",
    "JOIN Enseigne\n",
    "ON UE.NumUE = Enseigne.NumUE\n",
    "JOIN Enseignant\n",
    "ON Enseigne.NumEns = Enseignant.NumEns\n",
    ";"
   ]
  },
  {
   "cell_type": "markdown",
   "metadata": {},
   "source": [
    "## Sandbox"
   ]
  },
  {
   "cell_type": "code",
   "execution_count": 8,
   "metadata": {},
   "outputs": [
    {
     "name": "stdout",
     "output_type": "stream",
     "text": [
      "Done.\n"
     ]
    },
    {
     "data": {
      "text/html": [
       "<table>\n",
       "    <tr>\n",
       "        <th>NumEns</th>\n",
       "        <th>NumUE</th>\n",
       "        <th>SUM(HTP * NTP + HTD * NTD  + HCours * NCours)</th>\n",
       "    </tr>\n",
       "    <tr>\n",
       "        <td>111</td>\n",
       "        <td>1</td>\n",
       "        <td>45.0</td>\n",
       "    </tr>\n",
       "    <tr>\n",
       "        <td>111</td>\n",
       "        <td>2</td>\n",
       "        <td>25.0</td>\n",
       "    </tr>\n",
       "    <tr>\n",
       "        <td>112</td>\n",
       "        <td>1</td>\n",
       "        <td>25.0</td>\n",
       "    </tr>\n",
       "    <tr>\n",
       "        <td>112</td>\n",
       "        <td>2</td>\n",
       "        <td>45.0</td>\n",
       "    </tr>\n",
       "    <tr>\n",
       "        <td>113</td>\n",
       "        <td>3</td>\n",
       "        <td>45.0</td>\n",
       "    </tr>\n",
       "    <tr>\n",
       "        <td>113</td>\n",
       "        <td>4</td>\n",
       "        <td>15.0</td>\n",
       "    </tr>\n",
       "    <tr>\n",
       "        <td>113</td>\n",
       "        <td>5</td>\n",
       "        <td>36.0</td>\n",
       "    </tr>\n",
       "    <tr>\n",
       "        <td>114</td>\n",
       "        <td>3</td>\n",
       "        <td>15.0</td>\n",
       "    </tr>\n",
       "    <tr>\n",
       "        <td>114</td>\n",
       "        <td>4</td>\n",
       "        <td>50.0</td>\n",
       "    </tr>\n",
       "    <tr>\n",
       "        <td>114</td>\n",
       "        <td>5</td>\n",
       "        <td>36.0</td>\n",
       "    </tr>\n",
       "    <tr>\n",
       "        <td>115</td>\n",
       "        <td>3</td>\n",
       "        <td>15.0</td>\n",
       "    </tr>\n",
       "    <tr>\n",
       "        <td>115</td>\n",
       "        <td>4</td>\n",
       "        <td>30.0</td>\n",
       "    </tr>\n",
       "    <tr>\n",
       "        <td>115</td>\n",
       "        <td>5</td>\n",
       "        <td>54.0</td>\n",
       "    </tr>\n",
       "</table>"
      ],
      "text/plain": [
       "[(111, 1, 45.0),\n",
       " (111, 2, 25.0),\n",
       " (112, 1, 25.0),\n",
       " (112, 2, 45.0),\n",
       " (113, 3, 45.0),\n",
       " (113, 4, 15.0),\n",
       " (113, 5, 36.0),\n",
       " (114, 3, 15.0),\n",
       " (114, 4, 50.0),\n",
       " (114, 5, 36.0),\n",
       " (115, 3, 15.0),\n",
       " (115, 4, 30.0),\n",
       " (115, 5, 54.0)]"
      ]
     },
     "execution_count": 8,
     "metadata": {},
     "output_type": "execute_result"
    }
   ],
   "source": [
    "%%sql\n",
    "\n",
    "SELECT \n",
    "Enseignant.NumEns, UE.NumUE, SUM(HTP * NTP + HTD * NTD  + HCours * NCours)\n",
    "FROM \n",
    "UE\n",
    "JOIN Enseigne\n",
    "ON UE.NumUE = Enseigne.NumUE\n",
    "JOIN Enseignant\n",
    "ON Enseigne.NumEns = Enseignant.NumEns\n",
    "GROUP BY Enseignant.NumEns, UE.NumUE\n",
    ";"
   ]
  },
  {
   "cell_type": "code",
   "execution_count": 28,
   "metadata": {},
   "outputs": [
    {
     "name": "stdout",
     "output_type": "stream",
     "text": [
      "Done.\n"
     ]
    },
    {
     "data": {
      "text/html": [
       "<table>\n",
       "    <tr>\n",
       "        <th>NumEns</th>\n",
       "        <th>NumUE</th>\n",
       "        <th>HCours * NCours</th>\n",
       "    </tr>\n",
       "    <tr>\n",
       "        <td>111</td>\n",
       "        <td>1</td>\n",
       "        <td>20.0</td>\n",
       "    </tr>\n",
       "    <tr>\n",
       "        <td>111</td>\n",
       "        <td>2</td>\n",
       "        <td>0.0</td>\n",
       "    </tr>\n",
       "    <tr>\n",
       "        <td>112</td>\n",
       "        <td>1</td>\n",
       "        <td>0.0</td>\n",
       "    </tr>\n",
       "    <tr>\n",
       "        <td>112</td>\n",
       "        <td>2</td>\n",
       "        <td>20.0</td>\n",
       "    </tr>\n",
       "    <tr>\n",
       "        <td>113</td>\n",
       "        <td>3</td>\n",
       "        <td>15.0</td>\n",
       "    </tr>\n",
       "    <tr>\n",
       "        <td>113</td>\n",
       "        <td>4</td>\n",
       "        <td>0.0</td>\n",
       "    </tr>\n",
       "    <tr>\n",
       "        <td>113</td>\n",
       "        <td>5</td>\n",
       "        <td>0.0</td>\n",
       "    </tr>\n",
       "    <tr>\n",
       "        <td>114</td>\n",
       "        <td>3</td>\n",
       "        <td>0.0</td>\n",
       "    </tr>\n",
       "    <tr>\n",
       "        <td>114</td>\n",
       "        <td>4</td>\n",
       "        <td>20.0</td>\n",
       "    </tr>\n",
       "    <tr>\n",
       "        <td>114</td>\n",
       "        <td>5</td>\n",
       "        <td>0.0</td>\n",
       "    </tr>\n",
       "    <tr>\n",
       "        <td>115</td>\n",
       "        <td>3</td>\n",
       "        <td>0.0</td>\n",
       "    </tr>\n",
       "    <tr>\n",
       "        <td>115</td>\n",
       "        <td>4</td>\n",
       "        <td>0.0</td>\n",
       "    </tr>\n",
       "    <tr>\n",
       "        <td>115</td>\n",
       "        <td>5</td>\n",
       "        <td>18.0</td>\n",
       "    </tr>\n",
       "</table>"
      ],
      "text/plain": [
       "[(111, 1, 20.0),\n",
       " (111, 2, 0.0),\n",
       " (112, 1, 0.0),\n",
       " (112, 2, 20.0),\n",
       " (113, 3, 15.0),\n",
       " (113, 4, 0.0),\n",
       " (113, 5, 0.0),\n",
       " (114, 3, 0.0),\n",
       " (114, 4, 20.0),\n",
       " (114, 5, 0.0),\n",
       " (115, 3, 0.0),\n",
       " (115, 4, 0.0),\n",
       " (115, 5, 18.0)]"
      ]
     },
     "execution_count": 28,
     "metadata": {},
     "output_type": "execute_result"
    }
   ],
   "source": [
    "%%sql\n",
    "\n",
    "SELECT \n",
    "Enseignant.NumEns,  UE.NumUE, HCours * NCours\n",
    "FROM \n",
    "UE\n",
    "JOIN Enseigne\n",
    "ON UE.NumUE = Enseigne.NumUE\n",
    "JOIN Enseignant\n",
    "ON Enseigne.NumEns = Enseignant.NumEns\n",
    "GROUP BY Enseignant.NumEns, UE.NumUE\n",
    ";"
   ]
  },
  {
   "cell_type": "code",
   "execution_count": 23,
   "metadata": {},
   "outputs": [
    {
     "name": "stdout",
     "output_type": "stream",
     "text": [
      "Done.\n"
     ]
    },
    {
     "data": {
      "text/html": [
       "<table>\n",
       "    <tr>\n",
       "        <th>NumEns</th>\n",
       "    </tr>\n",
       "    <tr>\n",
       "        <td>111</td>\n",
       "    </tr>\n",
       "    <tr>\n",
       "        <td>112</td>\n",
       "    </tr>\n",
       "    <tr>\n",
       "        <td>113</td>\n",
       "    </tr>\n",
       "    <tr>\n",
       "        <td>114</td>\n",
       "    </tr>\n",
       "    <tr>\n",
       "        <td>115</td>\n",
       "    </tr>\n",
       "</table>"
      ],
      "text/plain": [
       "[(111,), (112,), (113,), (114,), (115,)]"
      ]
     },
     "execution_count": 23,
     "metadata": {},
     "output_type": "execute_result"
    }
   ],
   "source": [
    "%%sql\n",
    "\n",
    "SELECT \n",
    "DISTINCT Enseignant.NumEns\n",
    "FROM \n",
    "UE\n",
    "JOIN Enseigne\n",
    "ON UE.NumUE = Enseigne.NumUE\n",
    "JOIN Enseignant\n",
    "ON Enseigne.NumEns = Enseignant.NumEns\n",
    "WHERE NTD * HTD > 0\n",
    ";"
   ]
  },
  {
   "cell_type": "code",
   "execution_count": 22,
   "metadata": {},
   "outputs": [
    {
     "name": "stdout",
     "output_type": "stream",
     "text": [
      "Done.\n"
     ]
    },
    {
     "data": {
      "text/html": [
       "<table>\n",
       "    <tr>\n",
       "        <th>NumEns</th>\n",
       "        <th>SUM(NTD * HTD)</th>\n",
       "    </tr>\n",
       "    <tr>\n",
       "        <td>111</td>\n",
       "        <td>50.0</td>\n",
       "    </tr>\n",
       "    <tr>\n",
       "        <td>112</td>\n",
       "        <td>50.0</td>\n",
       "    </tr>\n",
       "    <tr>\n",
       "        <td>113</td>\n",
       "        <td>33.0</td>\n",
       "    </tr>\n",
       "    <tr>\n",
       "        <td>114</td>\n",
       "        <td>33.0</td>\n",
       "    </tr>\n",
       "    <tr>\n",
       "        <td>115</td>\n",
       "        <td>33.0</td>\n",
       "    </tr>\n",
       "</table>"
      ],
      "text/plain": [
       "[(111, 50.0), (112, 50.0), (113, 33.0), (114, 33.0), (115, 33.0)]"
      ]
     },
     "execution_count": 22,
     "metadata": {},
     "output_type": "execute_result"
    }
   ],
   "source": [
    "%%sql\n",
    "\n",
    "SELECT \n",
    "Enseignant.NumEns, SUM(NTD * HTD)\n",
    "FROM \n",
    "UE\n",
    "JOIN Enseigne\n",
    "ON UE.NumUE = Enseigne.NumUE\n",
    "JOIN Enseignant\n",
    "ON Enseigne.NumEns = Enseignant.NumEns\n",
    "WHERE NTD * HTD > 0\n",
    "GROUP BY Enseignant.NumEns\n",
    ";"
   ]
  },
  {
   "cell_type": "markdown",
   "metadata": {},
   "source": [
    "## Sandbox"
   ]
  },
  {
   "cell_type": "code",
   "execution_count": 29,
   "metadata": {},
   "outputs": [
    {
     "name": "stdout",
     "output_type": "stream",
     "text": [
      "Done.\n"
     ]
    },
    {
     "data": {
      "text/html": [
       "<table>\n",
       "    <tr>\n",
       "        <th>NumEns</th>\n",
       "    </tr>\n",
       "    <tr>\n",
       "        <td>111</td>\n",
       "    </tr>\n",
       "    <tr>\n",
       "        <td>112</td>\n",
       "    </tr>\n",
       "    <tr>\n",
       "        <td>113</td>\n",
       "    </tr>\n",
       "    <tr>\n",
       "        <td>114</td>\n",
       "    </tr>\n",
       "    <tr>\n",
       "        <td>115</td>\n",
       "    </tr>\n",
       "</table>"
      ],
      "text/plain": [
       "[(111,), (112,), (113,), (114,), (115,)]"
      ]
     },
     "execution_count": 29,
     "metadata": {},
     "output_type": "execute_result"
    }
   ],
   "source": [
    "%%sql\n",
    "\n",
    "SELECT \n",
    "DISTINCT Enseignant.NumEns\n",
    "FROM \n",
    "UE\n",
    "JOIN Enseigne\n",
    "ON UE.NumUE = Enseigne.NumUE\n",
    "JOIN Enseignant\n",
    "ON Enseigne.NumEns = Enseignant.NumEns\n",
    "WHERE NTD * HTD > 0\n",
    ";"
   ]
  },
  {
   "cell_type": "code",
   "execution_count": 30,
   "metadata": {},
   "outputs": [
    {
     "name": "stdout",
     "output_type": "stream",
     "text": [
      "Done.\n"
     ]
    },
    {
     "data": {
      "text/html": [
       "<table>\n",
       "    <tr>\n",
       "        <th>NumEns</th>\n",
       "        <th>SUM(NTD * HTD)</th>\n",
       "    </tr>\n",
       "    <tr>\n",
       "        <td>111</td>\n",
       "        <td>50.0</td>\n",
       "    </tr>\n",
       "    <tr>\n",
       "        <td>112</td>\n",
       "        <td>50.0</td>\n",
       "    </tr>\n",
       "    <tr>\n",
       "        <td>113</td>\n",
       "        <td>33.0</td>\n",
       "    </tr>\n",
       "    <tr>\n",
       "        <td>114</td>\n",
       "        <td>33.0</td>\n",
       "    </tr>\n",
       "    <tr>\n",
       "        <td>115</td>\n",
       "        <td>33.0</td>\n",
       "    </tr>\n",
       "</table>"
      ],
      "text/plain": [
       "[(111, 50.0), (112, 50.0), (113, 33.0), (114, 33.0), (115, 33.0)]"
      ]
     },
     "execution_count": 30,
     "metadata": {},
     "output_type": "execute_result"
    }
   ],
   "source": [
    "%%sql\n",
    "\n",
    "SELECT \n",
    "Enseignant.NumEns, SUM(NTD * HTD)\n",
    "FROM \n",
    "UE\n",
    "JOIN Enseigne\n",
    "ON UE.NumUE = Enseigne.NumUE\n",
    "JOIN Enseignant\n",
    "ON Enseigne.NumEns = Enseignant.NumEns\n",
    "WHERE NTD * HTD > 0\n",
    "GROUP BY Enseignant.NumEns\n",
    ";"
   ]
  },
  {
   "cell_type": "code",
   "execution_count": 31,
   "metadata": {},
   "outputs": [
    {
     "name": "stdout",
     "output_type": "stream",
     "text": [
      "Done.\n"
     ]
    },
    {
     "data": {
      "text/html": [
       "<table>\n",
       "    <tr>\n",
       "        <th>NumEns</th>\n",
       "        <th>HeuresTD</th>\n",
       "    </tr>\n",
       "    <tr>\n",
       "        <td>111</td>\n",
       "        <td>50.0</td>\n",
       "    </tr>\n",
       "    <tr>\n",
       "        <td>112</td>\n",
       "        <td>50.0</td>\n",
       "    </tr>\n",
       "    <tr>\n",
       "        <td>113</td>\n",
       "        <td>33.0</td>\n",
       "    </tr>\n",
       "    <tr>\n",
       "        <td>114</td>\n",
       "        <td>33.0</td>\n",
       "    </tr>\n",
       "    <tr>\n",
       "        <td>115</td>\n",
       "        <td>33.0</td>\n",
       "    </tr>\n",
       "</table>"
      ],
      "text/plain": [
       "[(111, 50.0), (112, 50.0), (113, 33.0), (114, 33.0), (115, 33.0)]"
      ]
     },
     "execution_count": 31,
     "metadata": {},
     "output_type": "execute_result"
    }
   ],
   "source": [
    "%%sql\n",
    "\n",
    "SELECT \n",
    "Enseignant.NumEns, SUM(NTD * HTD) AS HeuresTD\n",
    "FROM \n",
    "UE\n",
    "JOIN Enseigne\n",
    "ON UE.NumUE = Enseigne.NumUE\n",
    "JOIN Enseignant\n",
    "ON Enseigne.NumEns = Enseignant.NumEns\n",
    "GROUP BY Enseignant.NumEns\n",
    "HAVING HeuresTD > 0\n",
    ";"
   ]
  },
  {
   "cell_type": "code",
   "execution_count": 25,
   "metadata": {},
   "outputs": [
    {
     "name": "stdout",
     "output_type": "stream",
     "text": [
      "Done.\n"
     ]
    },
    {
     "data": {
      "text/html": [
       "<table>\n",
       "    <tr>\n",
       "        <th>NumEns</th>\n",
       "        <th>HeuresTD</th>\n",
       "    </tr>\n",
       "    <tr>\n",
       "        <td>111</td>\n",
       "        <td>50.0</td>\n",
       "    </tr>\n",
       "    <tr>\n",
       "        <td>112</td>\n",
       "        <td>50.0</td>\n",
       "    </tr>\n",
       "    <tr>\n",
       "        <td>113</td>\n",
       "        <td>33.0</td>\n",
       "    </tr>\n",
       "    <tr>\n",
       "        <td>114</td>\n",
       "        <td>33.0</td>\n",
       "    </tr>\n",
       "    <tr>\n",
       "        <td>115</td>\n",
       "        <td>33.0</td>\n",
       "    </tr>\n",
       "</table>"
      ],
      "text/plain": [
       "[(111, 50.0), (112, 50.0), (113, 33.0), (114, 33.0), (115, 33.0)]"
      ]
     },
     "execution_count": 25,
     "metadata": {},
     "output_type": "execute_result"
    }
   ],
   "source": [
    "%%sql\n",
    "\n",
    "SELECT \n",
    "Enseignant.NumEns, SUM(NTD * HTD) AS HeuresTD\n",
    "FROM \n",
    "UE\n",
    "JOIN Enseigne\n",
    "ON UE.NumUE = Enseigne.NumUE\n",
    "JOIN Enseignant\n",
    "ON Enseigne.NumEns = Enseignant.NumEns\n",
    "GROUP BY Enseignant.NumEns\n",
    "HAVING HeuresTD > 0\n",
    ";"
   ]
  }
 ],
 "metadata": {
  "kernelspec": {
   "display_name": "Python 3",
   "language": "python",
   "name": "python3"
  },
  "language_info": {
   "codemirror_mode": {
    "name": "ipython",
    "version": 3
   },
   "file_extension": ".py",
   "mimetype": "text/x-python",
   "name": "python",
   "nbconvert_exporter": "python",
   "pygments_lexer": "ipython3",
   "version": "3.6.9"
  }
 },
 "nbformat": 4,
 "nbformat_minor": 2
}
