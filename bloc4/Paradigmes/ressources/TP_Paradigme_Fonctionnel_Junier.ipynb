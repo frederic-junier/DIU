{
 "cells": [
  {
   "cell_type": "code",
   "execution_count": 4,
   "metadata": {},
   "outputs": [],
   "source": [
    "# %%\n",
    "from functools import wraps, reduce, lru_cache\n",
    "import time\n",
    "\n",
    "###############################################################################\n",
    "# TP : pratique de la programmation fonctionnelle en Python\n",
    "#\n",
    "# Cette feuille de TP a pour but de vous familiariser avec la programmation fonctionnelle.\n",
    "# Il est composé des parties suivantes :\n",
    "# 1. une mise en bouche avec des versions itératives de Fibonacci et la factorielle\n",
    "# 2. une variation sur le thème de la fonction \"forall\" \n",
    "#qui teste si tous les éléments d'une liste satisfont un prédicat\n",
    "#   * vous utiliserez à cette occasion les briques standard de la programmation fonctionnelle \n",
    "# disponible dans la bibliothèque standard de Python\n",
    "# 3. un introduction aux décorateurs, des fonctions \"qui modifient le comportement d'autres fonction\"\n",
    "# 4. la découverte des fonctionnalités spécifique des décorateurs en Python \n",
    "# qui doit vous amener à une application utile en classe avec les élèves\n",
    "###############################################################################\n",
    "\n",
    "# %%\n",
    "###############################################################################\n",
    "# INTRODUCTION : VERSION ITÉRATIVES ET RÉCURSIVES D'UN MÊME ALGORITHME\n",
    "###############################################################################\n"
   ]
  },
  {
   "cell_type": "code",
   "execution_count": 5,
   "metadata": {},
   "outputs": [],
   "source": [
    "def gen_examples(f, n=10):\n",
    "    \"\"\"Pour générer les (n + 1) premiers termes f(0), f(1), ..., f(n)\"\"\"\n",
    "    return [f(i) for i in range(0, n)]"
   ]
  },
  {
   "cell_type": "markdown",
   "metadata": {},
   "source": [
    "## Exercice 1 : différentes implémentations de la suite de `fibonacci`"
   ]
  },
  {
   "cell_type": "code",
   "execution_count": 6,
   "metadata": {},
   "outputs": [
    {
     "name": "stdout",
     "output_type": "stream",
     "text": [
      "Les premiers termes de fibonacci\n",
      "fibo_rec  = [0, 1, 1, 2, 3, 5, 8, 13, 21, 34]\n",
      "fibo_iter = [0, 1, 1, 2, 3, 5, 8, 13, 21, 34]\n"
     ]
    }
   ],
   "source": [
    "# On donne la fonction fibo_rec (suite de Fibonacci) suivante\n",
    "\n",
    "\n",
    "def fibo_rec(n):\n",
    "    \"\"\"Suite de Fibonacci, version récursive\"\"\"\n",
    "    if n <= 1:\n",
    "        return n\n",
    "    else:\n",
    "        return fibo_rec(n-1) + fibo_rec(n-2)\n",
    "\n",
    "########################################\n",
    "# EXERCICE : donner une version itérative de fibo_rec\n",
    "########################################\n",
    "\n",
    "def fibo_iter(n):\n",
    "    \"\"\"TODO Suite de Fibonacci, version itérative\"\"\"\n",
    "    u, v = 0, 1\n",
    "    for k in range(1, n + 1):\n",
    "        u, v = v, u  + v\n",
    "    return u\n",
    "\n",
    "\n",
    "print(\"Les premiers termes de fibonacci\")\n",
    "print(f\"fibo_rec  = {gen_examples(fibo_rec)}\")\n",
    "print(f\"fibo_iter = {gen_examples(fibo_iter)}\")"
   ]
  },
  {
   "cell_type": "markdown",
   "metadata": {},
   "source": [
    "## Exercice 2 : différentes implémentations de `factorielle`"
   ]
  },
  {
   "cell_type": "code",
   "execution_count": 7,
   "metadata": {},
   "outputs": [
    {
     "name": "stdout",
     "output_type": "stream",
     "text": [
      "Les premiers termes de la factorielle\n",
      "fact_iter = [1, 1, 2, 6, 24, 120, 720, 5040, 40320, 362880]\n",
      "fact_rec  = [1, 1, 2, 6, 24, 120, 720, 5040, 40320, 362880]\n"
     ]
    }
   ],
   "source": [
    "# On donne la fonction factorielle suivante :\n",
    "def fact_iter(n):\n",
    "    \"\"\"Factorielle, version itérative\"\"\"\n",
    "    r = 1\n",
    "    for i in range(1, n + 1):\n",
    "        r *= i\n",
    "    return r\n",
    "\n",
    "########################################\n",
    "# EXERCICE :  donner une version recursive de fact_iter\n",
    "########################################\n",
    "\n",
    "def fact_rec(n):\n",
    "    \"\"\"TODO factorielle, version récursive\"\"\"\n",
    "    return n * fact_rec(n - 1) if n > 1 else 1\n",
    "\n",
    "\n",
    "print(\"Les premiers termes de la factorielle\")\n",
    "print(f\"fact_iter = {gen_examples(fact_iter)}\")\n",
    "print(f\"fact_rec  = {gen_examples(fact_rec)}\")\n"
   ]
  },
  {
   "cell_type": "markdown",
   "metadata": {},
   "source": [
    "## Exercice 3 : différentes implémentations de `all`"
   ]
  },
  {
   "cell_type": "code",
   "execution_count": 8,
   "metadata": {},
   "outputs": [
    {
     "name": "stdout",
     "output_type": "stream",
     "text": [
      "forall_for(pair, ex1)=False\n",
      "forall_for(pair, ex2)=True\n",
      "forall_for(pair, ex3)=True\n"
     ]
    }
   ],
   "source": [
    "###############################################################################\n",
    "# PROGRAMMATION FONCTIONNELLE AVEC DES VARIANTES DE FORALL\n",
    "###############################################################################\n",
    "\n",
    "# On va définir la fonction suivante forall, de plusieurs façons différentes\n",
    "# La fonction forall prend en paramètres\n",
    "#   * une fonction pred (appellée prédicat)\n",
    "#   * une liste l\n",
    "# forall retourne True ssi tous les x dans l sont tels que pred(x)==True\n",
    "\n",
    "ex1 = [4, 4, 2, 0, 1]\n",
    "ex2 = []\n",
    "ex3 = [4, 4, 2, 0, 8]\n",
    "def pair(x): return x % 2 == 0\n",
    "\n",
    "########################################\n",
    "# EXERCICE :  définir forall (version boucle for)\n",
    "########################################\n",
    "\n",
    "def forall_for(pred, l):\n",
    "    \"\"\"TODO : une version de forall avec une boucle for \"\"\"\n",
    "    for x in l:\n",
    "        if not pred(x):\n",
    "            return False\n",
    "    return True\n",
    "\n",
    "print(f\"forall_for(pair, ex1)={forall_for(pair, ex1)}\")\n",
    "print(f\"forall_for(pair, ex2)={forall_for(pair, ex2)}\")\n",
    "print(f\"forall_for(pair, ex3)={forall_for(pair, ex3)}\")"
   ]
  },
  {
   "cell_type": "code",
   "execution_count": 9,
   "metadata": {},
   "outputs": [
    {
     "name": "stdout",
     "output_type": "stream",
     "text": [
      "forall_funct(pair, ex1)=False\n",
      "forall_funct(pair, ex2)=True\n",
      "forall_funct(pair, ex3)=True\n"
     ]
    }
   ],
   "source": [
    "# Pour un style plus fonctionnel, on se dote des fonctions suivantes\n",
    "\n",
    "\n",
    "def empty(l):\n",
    "    \"\"\"Retourne True ssi la liste est vide\"\"\"\n",
    "    return len(l) == 0\n",
    "\n",
    "\n",
    "def head(l):\n",
    "    \"\"\"Retourne la tête de la liste, son 1er élément, et None si la liste est vide\"\"\"\n",
    "    if empty(l):\n",
    "        return None\n",
    "    return l[0]\n",
    "\n",
    "\n",
    "def tail(l):\n",
    "    \"\"\"Retourne la liste privée de son 1er élément, et None si la liste est vide\"\"\"\n",
    "    if empty(l):\n",
    "        return None\n",
    "    return l[1:]\n",
    "\n",
    "########################################\n",
    "# EXERCICE :  définir forall (version récursive avec les listes)\n",
    "########################################\n",
    "\n",
    "def forall_funct(pred, l):\n",
    "    \"\"\"TODO : une version résursive de forall, plus fonctionnelle,\n",
    "    utilisant UNIQUEMENT empty, head et tail sans boucle for ni affectation.\n",
    "    La fonction sera récursive\"\"\"\n",
    "    if empty(l):\n",
    "        return True\n",
    "    return pred(head(l)) and forall_funct(pred, tail(l))\n",
    "\n",
    "\n",
    "print(f\"forall_funct(pair, ex1)={forall_funct(pair, ex1)}\")\n",
    "print(f\"forall_funct(pair, ex2)={forall_funct(pair, ex2)}\")\n",
    "print(f\"forall_funct(pair, ex3)={forall_funct(pair, ex3)}\")\n"
   ]
  },
  {
   "cell_type": "code",
   "execution_count": 10,
   "metadata": {},
   "outputs": [
    {
     "name": "stdout",
     "output_type": "stream",
     "text": [
      "forall_map_all(pair, ex1)=False\n",
      "forall_map_all(pair, ex2)=True\n",
      "forall_map_all(pair, ex3)=True\n"
     ]
    }
   ],
   "source": [
    "########################################\n",
    "# EXERCICE :  définir forall (version avec map)\n",
    "########################################\n",
    "\n",
    "def forall_map_all(pred, l):\n",
    "    \"\"\"TODO : une version de forall utilisant les fonctions map \n",
    "    et all de la bibliothèque standard\n",
    "    voir https://docs.python.org/3/library/functions.html\"\"\"\n",
    "    return all(map(pred, l))\n",
    "\n",
    "\n",
    "print(f\"forall_map_all(pair, ex1)={forall_map_all(pair, ex1)}\")\n",
    "print(f\"forall_map_all(pair, ex2)={forall_map_all(pair, ex2)}\")\n",
    "print(f\"forall_map_all(pair, ex3)={forall_map_all(pair, ex3)}\")"
   ]
  },
  {
   "cell_type": "code",
   "execution_count": 11,
   "metadata": {},
   "outputs": [
    {
     "name": "stdout",
     "output_type": "stream",
     "text": [
      "forall_filter(pair, ex1)=False\n",
      "forall_filter(pair, ex2)=True\n",
      "forall_filter(pair, ex3)=True\n"
     ]
    }
   ],
   "source": [
    "########################################\n",
    "# EXERCICE :  définir forall (version avec filter)\n",
    "########################################\n",
    "\n",
    "def forall_filter(pred, l):\n",
    "    \"\"\"TODO : une version de forall utilisant les fonctions standards filter et len. \n",
    "    On pourra avoir besoin de transformer le résultat interméidiaire avec list()\"\"\"\n",
    "    return len(list(filter(pred, l))) == len(l)\n",
    "\n",
    "\n",
    "print(f\"forall_filter(pair, ex1)={forall_filter(pair, ex1)}\")\n",
    "print(f\"forall_filter(pair, ex2)={forall_filter(pair, ex2)}\")\n",
    "print(f\"forall_filter(pair, ex3)={forall_filter(pair, ex3)}\")\n"
   ]
  },
  {
   "cell_type": "code",
   "execution_count": 12,
   "metadata": {},
   "outputs": [
    {
     "name": "stdout",
     "output_type": "stream",
     "text": [
      "forall_reduce(pair, ex1)=False\n",
      "forall_reduce(pair, ex2)=True\n",
      "forall_reduce(pair, ex3)=True\n"
     ]
    }
   ],
   "source": [
    "# La fonction standard reduce du module functools (appellée aussi fold) prend trois paramètre\n",
    "#    * une fonction f  de type A * B -> A\n",
    "#    * une liste l de type [A]\n",
    "#    * une valeur initialize de type A\n",
    "# Pour l = [x1, x2, ..., xn], reduce(f, l, x0) calcule\n",
    "# f(...(f(f(x0, x1), x2)...), xn)\n",
    "# Par exemple, reduce(lambda acc, x : acc * x, range(1,6), 1) calcule\n",
    "# ((((((1*1)*2)*3)*4)*5)*6) = 6! = 120\n",
    "\n",
    "# https://docs.python.org/3/library/functools.html#functools.reduce\n",
    "\n",
    "\n",
    "########################################\n",
    "# EXERCICE :  définir forall (version avec reduce)\n",
    "########################################\n",
    "\n",
    "def forall_reduce(pred, l):\n",
    "    \"\"\"TODO : une version de forall utilisant UNIQUEMENT la fonction standard functools.reduce\n",
    "    \"\"\"\n",
    "    return reduce(lambda a, b : a and pred(b), l, True)\n",
    "\n",
    "\n",
    "print(f\"forall_reduce(pair, ex1)={forall_reduce(pair, ex1)}\")\n",
    "print(f\"forall_reduce(pair, ex2)={forall_reduce(pair, ex2)}\")\n",
    "print(f\"forall_reduce(pair, ex3)={forall_reduce(pair, ex3)}\")"
   ]
  },
  {
   "cell_type": "markdown",
   "metadata": {},
   "source": [
    "## Décorateurs en Python"
   ]
  },
  {
   "cell_type": "markdown",
   "metadata": {},
   "source": [
    "Voir l'article [https://towardsdatascience.com/closures-and-decorators-in-python-2551abbc6eb6](https://towardsdatascience.com/closures-and-decorators-in-python-2551abbc6eb6)"
   ]
  },
  {
   "cell_type": "code",
   "execution_count": 13,
   "metadata": {},
   "outputs": [
    {
     "name": "stdout",
     "output_type": "stream",
     "text": [
      "Durée 0.8373227119445801  secs\n",
      "2178309\n"
     ]
    }
   ],
   "source": [
    "###############################################################################\n",
    "# LES DÉCORATEURS EN PYTHON\n",
    "###############################################################################\n",
    "\n",
    "# Un décorateur est une fonction qui modifie le comportement d'une autre fonction.\n",
    "# Plus précisément, c'est une fonction d qui prend une fonction f (unaire) en argument, telle que d(f) est la fonction f dont le comportement est modifié. La fonction d est donc une fonction d'ordre supérieur qui prend une fonction en argument et en renvoie une.\n",
    "\n",
    "# Un exemple, le décorateur qui loggue le temps d'exécution. On ne gère que le cas où f est unaire\n",
    "\n",
    "\n",
    "def timer(f):\n",
    "    \"\"\"Calcule et affiche la durée d'exécution d'une fonction unaire\"\"\"\n",
    "    def wrapped(x):\n",
    "        start = time.time()\n",
    "        value = f(x)\n",
    "        end = time.time()\n",
    "        print(f\"Durée {end - start}  secs\")\n",
    "        return value\n",
    "    return wrapped\n",
    "\n",
    "\n",
    "# On peut se servir pour chronométrer une des fonctions précédent, par exemple fibo_rec(32) qui prend un temps sensible (~1sec sur ma machine)\n",
    "print(timer(fibo_rec)(32))\n"
   ]
  },
  {
   "cell_type": "markdown",
   "metadata": {},
   "source": [
    "## Exercice 4 : décorateurs `maybe`"
   ]
  },
  {
   "cell_type": "code",
   "execution_count": 14,
   "metadata": {},
   "outputs": [
    {
     "name": "stdout",
     "output_type": "stream",
     "text": [
      "positive_or_none(42)=42\n",
      "positive_or_none(-1)=None\n",
      "positive_or_zero(42)=42\n",
      "positive_or_zero(-1)=0\n"
     ]
    }
   ],
   "source": [
    "# %%\n",
    "########################################\n",
    "# EXERCICE : définir le décorateur maybe\n",
    "########################################\n",
    "\n",
    "def maybe(f, v):\n",
    "    \"\"\"Appelle f et si f renvoie None, \n",
    "    alors renvoie v à la place. \n",
    "    Autrement dit, maybe(f, v) fait la même chose que f sauf pour les cas où f est indéfinie\"\"\"\n",
    "    def wrapped(*args, **kwargs):\n",
    "        value = f(*args, **kwargs)\n",
    "        if value is None:\n",
    "            return v\n",
    "        return value\n",
    "    return wrapped\n",
    "\n",
    "\n",
    "def positive_or_none(n):\n",
    "    if n < 0:\n",
    "        return None\n",
    "    return n\n",
    "\n",
    "\n",
    "positive_or_zero = maybe(positive_or_none, 0)\n",
    "\n",
    "print(f\"positive_or_none(42)={positive_or_none(42)}\")\n",
    "print(f\"positive_or_none(-1)={positive_or_none(-1)}\")\n",
    "\n",
    "print(f\"positive_or_zero(42)={positive_or_zero(42)}\")\n",
    "print(f\"positive_or_zero(-1)={positive_or_zero(-1)}\")"
   ]
  },
  {
   "cell_type": "code",
   "execution_count": 15,
   "metadata": {},
   "outputs": [
    {
     "name": "stdout",
     "output_type": "stream",
     "text": [
      "positive_or_zero_lambda(42)=42\n",
      "positive_or_zero_lambda(-1)=0\n"
     ]
    }
   ],
   "source": [
    "# Même question que précédemment, mais écrire maybe UNIQUEMENT avec des lambdas et\n",
    "# un expression conditionnelle (dit aussi if ternaire)\n",
    "# https://docs.python.org/3/reference/expressions.html#conditional-expressions\n",
    "\n",
    "########################################\n",
    "# EXERCICE : définir le décorateur maybe avec des lambda fonctions uniquement\n",
    "########################################\n",
    "\n",
    "\n",
    "maybe_lambda = lambda f,v : lambda x : v  if f(x) is None else f(x)\n",
    "\n",
    "\n",
    "positive_or_zero_lambda = maybe_lambda(positive_or_none, 0)\n",
    "\n",
    "print(f\"positive_or_zero_lambda(42)={positive_or_zero_lambda(42)}\")\n",
    "print(f\"positive_or_zero_lambda(-1)={positive_or_zero_lambda(-1)}\")"
   ]
  },
  {
   "cell_type": "code",
   "execution_count": 16,
   "metadata": {},
   "outputs": [
    {
     "name": "stdout",
     "output_type": "stream",
     "text": [
      "positive_or_zero_lambda_better(42)=42\n",
      "positive_or_zero_lambda_better(-1)=0\n"
     ]
    }
   ],
   "source": [
    "########################################\n",
    "# EXERCICE (POUR ALLER PLUS LOIN)\n",
    "########################################\n",
    "\n",
    "# même chose que précédement un décorateur uniquement avec des lambdas \n",
    "#mais en faisant attention à n'appeler f QU'UNE SEULE FOIS\n",
    "\n",
    "maybe_lambda = lambda f,v : lambda x : (lambda value : v if value is None else value)(f(x))      \n",
    "\n",
    "positive_or_zero_lambda_better = maybe_lambda(positive_or_none, 0)\n",
    "\n",
    "print(\n",
    "    f\"positive_or_zero_lambda_better(42)={positive_or_zero_lambda_better(42)}\")\n",
    "print(\n",
    "    f\"positive_or_zero_lambda_better(-1)={positive_or_zero_lambda_better(-1)}\")\n",
    "# ATTENDU\n",
    "# positive_or_zero_lambda_better(42)=42\n",
    "# positive_or_zero_lambda_better(-1)=0"
   ]
  },
  {
   "cell_type": "code",
   "execution_count": 17,
   "metadata": {},
   "outputs": [
    {
     "name": "stdout",
     "output_type": "stream",
     "text": [
      "positive_or_zero_lambda_better(42)=42\n",
      "positive_or_zero_lambda_better(-1)=0\n"
     ]
    }
   ],
   "source": [
    "########################################\n",
    "# EXERCICE (POUR ALLER PLUS LOIN)\n",
    "########################################\n",
    "\n",
    "# même chose que précédement un décorateur uniquement avec des lambdas \n",
    "#mais en faisant attention à n'appeler f QU'UNE SEULE FOIS\n",
    "\n",
    "maybe_lambda = lambda f,v : lambda x : (lambda y=f(x) :  v if y is None else y)()  \n",
    "\n",
    "positive_or_zero_lambda_better = maybe_lambda(positive_or_none, 0)\n",
    "\n",
    "print(\n",
    "    f\"positive_or_zero_lambda_better(42)={positive_or_zero_lambda_better(42)}\")\n",
    "print(\n",
    "    f\"positive_or_zero_lambda_better(-1)={positive_or_zero_lambda_better(-1)}\")\n",
    "# ATTENDU\n",
    "# positive_or_zero_lambda_better(42)=42\n",
    "# positive_or_zero_lambda_better(-1)=0"
   ]
  },
  {
   "cell_type": "code",
   "execution_count": 18,
   "metadata": {},
   "outputs": [
    {
     "name": "stdout",
     "output_type": "stream",
     "text": [
      "any_positive_or_zero(42)=[42]\n",
      "any_positive_or_zero(-1)=[]\n",
      "any_positive_or_zero(1,2,3,-1)=[]\n",
      "any_positive_or_zero(1,2,3)=[1, 2, 3]\n"
     ]
    }
   ],
   "source": [
    "########################################\n",
    "# EXERCICE (POUR ALLER PLUS LOIN) : maybe n-aire\n",
    "########################################\n",
    "\n",
    "# même question qu'au début, mais dans le cas général où f est une fonction n-aire\n",
    "# utiliser pour cela https://book.pythontips.com/en/latest/args_and_kwargs.html\n",
    "\n",
    "\n",
    "def maybe_nary(f, v):\n",
    "    \"\"\"Appelle f et si f renvoie None, alors renvoie v à la place. \n",
    "    Autrement dit, maybe(f, v) fait la même chose que f sauf pour les cas où f est indéfinie\"\"\"\n",
    "    def wrapped(*args, **kwargs):\n",
    "        value = f(*args, **kwargs)\n",
    "        if value is None:\n",
    "            return v\n",
    "        return value\n",
    "    return wrapped\n",
    "\n",
    "\n",
    "def any_positive_or_none(*args):\n",
    "    \"\"\"Return None if any argument is negative and the list of its argument otherwise\"\"\"\n",
    "    for arg in args:\n",
    "        if arg < 0:\n",
    "            return None\n",
    "    return list(args)\n",
    "\n",
    "\n",
    "any_positive_or_zero = maybe_nary(any_positive_or_none, [])\n",
    "\n",
    "# renvoie [42]\n",
    "print(f\"any_positive_or_zero(42)={any_positive_or_zero(42)}\")\n",
    "# renvoie []\n",
    "print(f\"any_positive_or_zero(-1)={any_positive_or_zero(-1)}\")\n",
    "# renvoie []\n",
    "print(f\"any_positive_or_zero(1,2,3,-1)={any_positive_or_zero(1,2,3,-1)}\")\n",
    "# renvoie [1, 2, 3]\n",
    "print(f\"any_positive_or_zero(1,2,3)={any_positive_or_zero(1,2,3)}\")"
   ]
  },
  {
   "cell_type": "markdown",
   "metadata": {},
   "source": [
    "## Exercice 5 : décorateur `memoize`"
   ]
  },
  {
   "cell_type": "code",
   "execution_count": 19,
   "metadata": {},
   "outputs": [
    {
     "name": "stdout",
     "output_type": "stream",
     "text": [
      "    fonction_de_test appellée avec 42\n",
      "fonction_de_test_memo(42)=1764\n",
      "    fonction_de_test appellée avec 0\n",
      "fonction_de_test_memo(0)=0\n",
      "fonction_de_test_memo(42)=1764\n",
      "fonction_de_test_memo(0)=0\n"
     ]
    }
   ],
   "source": [
    "# %%\n",
    "########################################\n",
    "# EXERCICE : définir le décorateur memoize\n",
    "########################################\n",
    "\n",
    "\n",
    "def memoize(f):\n",
    "    \"\"\"memoize permet de mémoriser les appels de f : \n",
    "    si memoize(f) a déjà été appelée avec le même argument,\n",
    "    alors memoize(f) renvoie directement (sans rappeler relancer le calcul de f) \n",
    "    la valeur retournée précédemment par f pour cet argument. \n",
    "    On supposera f unaire et on utilisera un dictionnaire pour mémoriser les valeurs calculées\"\"\"\n",
    "    memo = dict()\n",
    "    def wraped(x):\n",
    "        if x in memo:\n",
    "            return memo[x]\n",
    "        value = memo[x] = f(x)\n",
    "        return value\n",
    "    return wraped\n",
    "\n",
    "\n",
    "def memoize2(f):\n",
    "    \"\"\"memoize permet de mémoriser les appels de f : \n",
    "    si memoize(f) a déjà été appelée avec le même argument,\n",
    "    alors memoize(f) renvoie directement (sans rappeler relancer le calcul de f) \n",
    "    la valeur retournée précédemment par f pour cet argument. \n",
    "    On supposera f unaire et on utilisera un dictionnaire pour mémoriser les valeurs calculées\"\"\"\n",
    "    memo = dict()\n",
    "    def wraped(x):\n",
    "        if x not in memo:\n",
    "            memo[x] = f(x)\n",
    "        return memo[x]\n",
    "    return wraped\n",
    "\n",
    "\n",
    "def fonction_de_test(n):\n",
    "    print(f\"    fonction_de_test appellée avec {n}\")\n",
    "    return n*n\n",
    "\n",
    "\n",
    "fonction_de_test_memo = memoize(fonction_de_test)\n",
    "print(f\"fonction_de_test_memo(42)={fonction_de_test_memo(42)}\")\n",
    "print(f\"fonction_de_test_memo(0)={fonction_de_test_memo(0)}\")\n",
    "print(f\"fonction_de_test_memo(42)={fonction_de_test_memo(42)}\")\n",
    "print(f\"fonction_de_test_memo(0)={fonction_de_test_memo(0)}\")\n",
    "# ATTENDU : On ne doit voir que 2 fois le print dans la fonction de test (et pas 4 sans memoize)\n",
    "#     fonction_de_test appellée avec 42\n",
    "# fonction_de_test_memo(42)=1764\n",
    "#     fonction_de_test appellée avec 0\n",
    "# fonction_de_test_memo(0)=0\n",
    "# fonction_de_test_memo(42)=1764\n",
    "# fonction_de_test_memo(0)=0"
   ]
  },
  {
   "cell_type": "code",
   "execution_count": 20,
   "metadata": {},
   "outputs": [
    {
     "ename": "SyntaxError",
     "evalue": "EOL while scanning string literal (<ipython-input-20-8d9d328f41b8>, line 11)",
     "output_type": "error",
     "traceback": [
      "\u001b[0;36m  File \u001b[0;32m\"<ipython-input-20-8d9d328f41b8>\"\u001b[0;36m, line \u001b[0;32m11\u001b[0m\n\u001b[0;31m    Les listes ne le sont pas, mais les tuples le sont en revanche.\"\"\"\"\u001b[0m\n\u001b[0m                                                                       \n^\u001b[0m\n\u001b[0;31mSyntaxError\u001b[0m\u001b[0;31m:\u001b[0m EOL while scanning string literal\n"
     ]
    }
   ],
   "source": [
    "########################################\n",
    "# EXERCICE  (POUR ALLER PLUS LOIN) : \n",
    "#définir le décorateur memoize qui gère le cas des fonction n-aires\n",
    "#(sans arguments de type keywords, autrement dit, on gère juste *args, pas **kwargs)\n",
    "########################################\n",
    "\n",
    "\n",
    "def memoize_nary(f):\n",
    "    \"\"\"Pour cette version, on devra convertir une \"liste\" de plusieurs paramètres (*args) en\n",
    "       une structure qui soit hashable pour pouvoir servir de clef dans le dictionnaire\n",
    "       Les listes ne le sont pas, mais les tuples le sont en revanche.\"\"\"\"\n",
    "    memo = dict()\n",
    "    def wraped(*args):\n",
    "        if args in memo:\n",
    "            return memo[args]\n",
    "        value = memo[args] = f(*args)\n",
    "        return value\n",
    "    return wraped\n",
    "\n",
    "\n",
    "def fonction_de_test_nary(*args):\n",
    "    print(f\"    fonction_de_test appellée avec {list(args)}\")\n",
    "    return [x*x for x in args]\n",
    "\n",
    "\n",
    "fonction_de_test_nary_memo = memoize_nary(fonction_de_test_nary)\n",
    "\n",
    "print(f\"fonction_de_test_nary_memo(1,2,3)={fonction_de_test_nary_memo(1,2,3)}\")\n",
    "print(f\"fonction_de_test_nary_memo(0,1,2)={fonction_de_test_nary_memo(0,1,2)}\")\n",
    "print(f\"fonction_de_test_nary_memo(1,2,3)={fonction_de_test_nary_memo(1,2,3)}\")\n",
    "print(f\"fonction_de_test_nary_memo(0,1,2)={fonction_de_test_nary_memo(0,1,2)}\")\n",
    "# ATTENDU : on ne doit voir que 2 fois le print dans la fonction de test (et pas 4 sans memoize\n",
    "#     fonction_de_test appellée avec [1, 2, 3]\n",
    "# fonction_de_test_nary_memo(1,2,3)=[1, 4, 9]\n",
    "#     fonction_de_test appellée avec [0, 1, 2]\n",
    "# fonction_de_test_nary_memo(0,1,2)=[0, 1, 4]\n",
    "# fonction_de_test_nary_memo(1,2,3)=[1, 4, 9]\n",
    "# fonction_de_test_nary_memo(0,1,2)=[0, 1, 4]"
   ]
  },
  {
   "cell_type": "markdown",
   "metadata": {},
   "source": [
    "# LES DÉCORATEURS PYTHON DANS LA BIBLIOTHÈQUE STANDARD : UNE APPLICATION POUR LA CLASSE\n",
    "\n",
    "* À ce sujet voir [https://towardsdatascience.com/closures-and-decorators-in-python-2551abbc6eb6](https://towardsdatascience.com/closures-and-decorators-in-python-2551abbc6eb6)\n",
    "* Décorateurs de la bibliothèque standard : [https://docs.python.org/3/library/functools.html](https://docs.python.org/3/library/functools.html)   ou   Python Fluent page 226  : deux sont utilisés ci-dessous `@wraps` pour enregistrer la signature de la fonction enveloppée dans la fonction enveloppante  et `@lru_cache` pour mémoizer\n"
   ]
  },
  {
   "cell_type": "code",
   "execution_count": null,
   "metadata": {},
   "outputs": [],
   "source": [
    "\n",
    "# /!\\ Cet exercice vous amène à écrire un décorateur qui peut être très utile en classe pour illustrer la récursivité. Il est issu de discussions avec des étudiants en CAPES NSI qui souhaitaient, dans le cadre de la prépration du projet à présenter pour l'oral 2 du concours, fournir une petite bibliothèque pour aider les élèves à aborder cette notion. Je pense que le décorateur suivant pourrait en faire partie. /!\\\n",
    "\n",
    "# Python propose une syntaxe ad hoc @decorator pour la manipulation des décorateurs. \n",
    "#De plus, la bibliothèque standard propose quelques outils \n",
    "#pour en faciliter la manipulation ainsi que quelques décorateurs très utiles. Voir :\n",
    "#\n",
    "# https://docs.python.org/3/glossary.html#term-decorator\n",
    "# https://docs.python.org/3/reference/compound_stmts.html#function\n",
    "# https://book.pythontips.com/en/latest/decorators.html\n",
    "# https://docs.python.org/3/library/functools.html\n",
    "\n",
    "\n",
    "# Par exemple, avec le décorateur suivant, on peut tracer les appel à la fonction récursive qui calcule le nieme terme de la suite de Fibonaccu\n",
    "\n",
    "\n",
    "def tracer(func):\n",
    "    \"\"\"Un décorateur qui trace les exécutions\"\"\"\n",
    "    # pour ne pas changer __name__ en 'wrapped' après wrapping, voir functools\n",
    "    @wraps(func)\n",
    "    def wrapped(*args, **kwargs):\n",
    "        print(f'Calling {wrapped.__name__}({args}, {kwargs})')\n",
    "        return func(*args, **kwargs)\n",
    "    return wrapped\n",
    "\n",
    "\n",
    "@tracer\n",
    "def fibo_tracee(n):\n",
    "    \"\"\"Suite de Fibonacci, version récursive avec les appels tracés\"\"\"\n",
    "    if n <= 1:\n",
    "        return n\n",
    "    else:\n",
    "        return fibo_tracee(n-1) + fibo_tracee(n-2)\n",
    "\n",
    "\n",
    "print(f\"fibo_tracee(5)={fibo_tracee(5)}\")\n",
    "# ATTENDU\n",
    "# Calling fibo_tracee((5,), {})\n",
    "# Calling fibo_tracee((4,), {})\n",
    "# Calling fibo_tracee((3,), {})\n",
    "# Calling fibo_tracee((2,), {})\n",
    "# Calling fibo_tracee((1,), {})\n",
    "# Calling fibo_tracee((0,), {})\n",
    "# Calling fibo_tracee((1,), {})\n",
    "# Calling fibo_tracee((2,), {})\n",
    "# Calling fibo_tracee((1,), {})\n",
    "# Calling fibo_tracee((0,), {})\n",
    "# Calling fibo_tracee((3,), {})\n",
    "# Calling fibo_tracee((2,), {})\n",
    "# Calling fibo_tracee((1,), {})\n",
    "# Calling fibo_tracee((0,), {})\n",
    "# Calling fibo_tracee((1,), {})\n",
    "# fibo_tracee(5)=5\n",
    "\n",
    "\n",
    "# On remarque immédiatement 2 choses :\n",
    "# * cette implémentation est sous optimale car elle produit un nombre exponentiel d'appel récursifs\n",
    "# * la profondeur des appels récursifs n'est pas visible, elle devrait l'être avec une indentation"
   ]
  },
  {
   "cell_type": "markdown",
   "metadata": {},
   "source": [
    "## Exercice : écrire le décorateur @visualise"
   ]
  },
  {
   "cell_type": "code",
   "execution_count": null,
   "metadata": {},
   "outputs": [],
   "source": [
    "########################################\n",
    "# EXERCICE : écrire le décorateur @visualise\n",
    "########################################\n",
    "\n",
    "\n",
    "def visualise(func):\n",
    "    \"\"\"Décorateur qui trace les appels comme @tracer mais en indentant à chaque appel récursif\"\"\"\n",
    "    visualise.level = 0\n",
    "    visualise.preced = float('inf')\n",
    "    # pour ne pas changer __name__ en 'wrapped' après wrapping, voir functools\n",
    "    @wraps(func)\n",
    "    def wrapped(*args, **kwargs):\n",
    "        if args[0] <= visualise.preced:            \n",
    "            visualise.level += 1            \n",
    "        else:\n",
    "            visualise.level -= abs(args[0] - visualise.preced)\n",
    "        visualise.preced = args[0]\n",
    "        print(f'{visualise.level * \"  \"} Calling {func.__name__}({args}, {kwargs})')       \n",
    "        return func(*args, **kwargs)        \n",
    "    return wrapped\n",
    "\n",
    "\n",
    "@visualise\n",
    "def fibo_indent(n):\n",
    "    \"\"\"Suite de Fibonacci, version récursive avec les appels tracés ET indentés\"\"\"\n",
    "    if n <= 1:\n",
    "        return n\n",
    "    else:\n",
    "        return fibo_indent(n-1) + fibo_indent(n-2)\n",
    "\n",
    "\n",
    "print(f\"fibo_indent(5)={fibo_indent(5)}\")\n",
    "\n",
    "# on doit obtenir quelque chose de semblable à la trace suivante\n",
    "# fibo_indent((5,), {})\n",
    "#     fibo_indent((4,), {})\n",
    "#         fibo_indent((3,), {})\n",
    "#             fibo_indent((2,), {})\n",
    "#                 fibo_indent((1,), {})\n",
    "#                 fibo_indent((0,), {})\n",
    "#             fibo_indent((1,), {})\n",
    "#         fibo_indent((2,), {})\n",
    "#             fibo_indent((1,), {})\n",
    "#             fibo_indent((0,), {})\n",
    "#     fibo_indent((3,), {})\n",
    "#         fibo_indent((2,), {})\n",
    "#             fibo_indent((1,), {})\n",
    "#             fibo_indent((0,), {})\n",
    "#         fibo_indent((1,), {})\n",
    "# fibo_indent(5)=5\n"
   ]
  },
  {
   "cell_type": "code",
   "execution_count": null,
   "metadata": {},
   "outputs": [],
   "source": [
    "@memoize\n",
    "@visualise\n",
    "def fibo_viz_memo(n):\n",
    "    \"\"\"Suite de Fibonacci, version récursive avec les appels tracés, indentés et memoization\"\"\"\n",
    "    if n <= 1:\n",
    "        return n\n",
    "    else:\n",
    "        return fibo_viz_memo(n-1) + fibo_viz_memo(n-2)\n",
    "\n",
    "\n",
    "print(f\"fibo_viz_memo(5)={fibo_viz_memo(5)}\")"
   ]
  },
  {
   "cell_type": "code",
   "execution_count": null,
   "metadata": {},
   "outputs": [],
   "source": [
    "@lru_cache(maxsize=32)\n",
    "@visualise\n",
    "def fibo_viz_memo(n):\n",
    "    \"\"\"Suite de Fibonacci, version récursive avec les appels tracés, indentés et memoization\"\"\"\n",
    "    if n <= 1:\n",
    "        return n\n",
    "    else:\n",
    "        return fibo_viz_memo(n-1) + fibo_viz_memo(n-2)\n",
    "\n",
    "\n",
    "print(f\"fibo_viz_memo(32)={fibo_viz_memo(32)} , {fibo_viz_memo.cache_info()} \")"
   ]
  },
  {
   "cell_type": "code",
   "execution_count": null,
   "metadata": {},
   "outputs": [],
   "source": [
    "@lru_cache(maxsize=2)\n",
    "@visualise\n",
    "def fibo_viz_memo(n):\n",
    "    \"\"\"Suite de Fibonacci, version récursive avec les appels tracés, indentés et memoization\"\"\"\n",
    "    if n <= 1:\n",
    "        return n\n",
    "    else:\n",
    "        return fibo_viz_memo(n-1) + fibo_viz_memo(n-2)\n",
    "\n",
    "\n",
    "print(f\"fibo_viz_memo(8)={fibo_viz_memo(8)} , {fibo_viz_memo.cache_info()} \")"
   ]
  },
  {
   "cell_type": "code",
   "execution_count": null,
   "metadata": {},
   "outputs": [],
   "source": [
    "# Une autre version de visualise\n",
    "\n",
    "def visualise(func):\n",
    "    \"\"\"Décorateur qui trace les appels comme @tracer mais en indentant à chaque appel récursif\"\"\"\n",
    "    visualise.level = 0\n",
    "    visualise.preced = float('inf')\n",
    "    # pour ne pas changer __name__ en 'wrapped' après wrapping, voir functools\n",
    "    @wraps(func)\n",
    "    def wrapped(*args, **kwargs):       \n",
    "        print(f'{visualise.level * \"  \"} Calling {func.__name__}({args}, {kwargs})')     \n",
    "        visualise.level += 1\n",
    "        res = func(*args, **kwargs)  \n",
    "        visualise.level -= 1\n",
    "        return res\n",
    "    return wrapped\n",
    "\n",
    "\n",
    "@visualise\n",
    "def fibo_indent(n):\n",
    "    \"\"\"Suite de Fibonacci, version récursive avec les appels tracés ET indentés\"\"\"\n",
    "    if n <= 1:\n",
    "        return n\n",
    "    else:\n",
    "        return fibo_indent(n-1) + fibo_indent(n-2)\n",
    "\n",
    "\n",
    "print(f\"fibo_indent(5)={fibo_indent(5)}\")\n",
    "\n",
    "# on doit obtenir quelque chose de semblable à la trace suivante\n",
    "# fibo_indent((5,), {})\n",
    "#     fibo_indent((4,), {})\n",
    "#         fibo_indent((3,), {})\n",
    "#             fibo_indent((2,), {})\n",
    "#                 fibo_indent((1,), {})\n",
    "#                 fibo_indent((0,), {})\n",
    "#             fibo_indent((1,), {})\n",
    "#         fibo_indent((2,), {})\n",
    "#             fibo_indent((1,), {})\n",
    "#             fibo_indent((0,), {})\n",
    "#     fibo_indent((3,), {})\n",
    "#         fibo_indent((2,), {})\n",
    "#             fibo_indent((1,), {})\n",
    "#             fibo_indent((0,), {})\n",
    "#         fibo_indent((1,), {})\n",
    "# fibo_indent(5)=5\n"
   ]
  },
  {
   "cell_type": "code",
   "execution_count": null,
   "metadata": {},
   "outputs": [],
   "source": [
    "# Encore une autre version de viusalise\n",
    "########################################\n",
    "# EXERCICE : écrire le décorateur @visualise\n",
    "########################################\n",
    "\n",
    "\n",
    "def visualise(func):\n",
    "    \"\"\"Décorateur qui trace les appels comme @tracer mais en indentant à chaque appel récursif\"\"\"\n",
    "    visualise_level = 1\n",
    "    # pour ne pas changer __name__ en 'wrapped' après wrapping, voir functools\n",
    "    @wraps(func)\n",
    "    def wrapped(*args, **kwargs):\n",
    "        nonlocal visualise_level        \n",
    "        print(f'{(visualise_level - 1) * \"  |\"}  ┌ Appel de {func.__name__}({args}, {kwargs})')  \n",
    "        visualise_level += 1\n",
    "        result = func(*args, **kwargs)\n",
    "        visualise_level -= 1\n",
    "        print(f'{(visualise_level - 1) * \"  |\"}  └ Résultat de {func.__name__}({args}, {kwargs}), {result}')\n",
    "        return result        \n",
    "    return wrapped\n",
    "\n",
    "\n",
    "@visualise\n",
    "def fibo_indent(n):\n",
    "    \"\"\"Suite de Fibonacci, version récursive avec les appels tracés ET indentés\"\"\"\n",
    "    if n <= 1:\n",
    "        return n\n",
    "    else:\n",
    "        return fibo_indent(n-1) + fibo_indent(n-2)\n",
    "\n",
    "\n",
    "print(f\"fibo_indent(8)={fibo_indent(8)}\")\n",
    "\n",
    "# on doit obtenir quelque chose de semblable à la trace suivante\n",
    "# fibo_indent((5,), {})\n",
    "#     fibo_indent((4,), {})\n",
    "#         fibo_indent((3,), {})\n",
    "#             fibo_indent((2,), {})\n",
    "#                 fibo_indent((1,), {})\n",
    "#                 fibo_indent((0,), {})\n",
    "#             fibo_indent((1,), {})\n",
    "#         fibo_indent((2,), {})\n",
    "#             fibo_indent((1,), {})\n",
    "#             fibo_indent((0,), {})\n",
    "#     fibo_indent((3,), {})\n",
    "#         fibo_indent((2,), {})\n",
    "#             fibo_indent((1,), {})\n",
    "#             fibo_indent((0,), {})\n",
    "#         fibo_indent((1,), {})\n",
    "# fibo_indent(5)=5"
   ]
  },
  {
   "cell_type": "code",
   "execution_count": null,
   "metadata": {},
   "outputs": [],
   "source": [
    "@memoize\n",
    "@visualise\n",
    "def fibo_viz_memo(n):\n",
    "    \"\"\"Suite de Fibonacci, version récursive avec les appels tracés, indentés et memoization\"\"\"\n",
    "    if n <= 1:\n",
    "        return n\n",
    "    else:\n",
    "        return fibo_viz_memo(n-1) + fibo_viz_memo(n-2)\n",
    "\n",
    "\n",
    "print(f\"fibo_viz_memo(8)={fibo_viz_memo(8)}\")"
   ]
  }
 ],
 "metadata": {
  "kernelspec": {
   "display_name": "Python 3",
   "language": "python",
   "name": "python3"
  },
  "language_info": {
   "codemirror_mode": {
    "name": "ipython",
    "version": 3
   },
   "file_extension": ".py",
   "mimetype": "text/x-python",
   "name": "python",
   "nbconvert_exporter": "python",
   "pygments_lexer": "ipython3",
   "version": "3.6.9"
  }
 },
 "nbformat": 4,
 "nbformat_minor": 2
}
