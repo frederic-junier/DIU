{
 "cells": [
  {
   "cell_type": "markdown",
   "metadata": {},
   "source": [
    "Une implémentation \"pythoniste\" des listes doublement chaînées\n",
    "================================================================\n",
    "\n",
    "Dans ce TP, on va reprendre l'implémentation des listes doublement chainées dans une version plus \"pythoniste\" qui reprend les conventions et le fonctionnement des collections et objets Python de la bibliothèque standard.\n",
    "\n",
    "\n",
    "\n",
    "**Exercice** : compléter le fichier [`linked_list.py`](linked_list.py) et tester l'implémentation avec les tests  `pytest` fournis dans [`linked_list_test.py`](linked_list_test.py).\n",
    "\n",
    "Le reste du document est une explication du fonctionnement de la classe. Les tests comportent des exemples qui faciliteront la compréhension\n",
    "\n",
    "\n",
    "**Remarque additionnelle** \n",
    "\n",
    "> En effet ce type d'implémentation est très homogène avec les collections standard. Je compléterai en vous incitant à réfléchir sur ce que vous feriez en classe, en fonction des compétences que vous voulez cibler. Pour ce type d'implémentation \"pythoneuse\", il ne faut pas oublier qu'une certaine maîtrise ou recul des élèves sera nécessaire sur : les classes et l'héritage, les interfaces et classes abstraites, le principe de surcharge, les itérateurs, le type Collection (et Reversible) etc. Beaucoup de ces choses ne sont pas au programme de NSI (même Term). La classe Liste du TP de base n'a pas besoin de tout ça (juste du principe de classe) et est donc d'un autre degré d’accessibilité pour un élève. Dépendamment de ce que vous voulez leur faire faire et le placement dans l'année par rapport au reste du programme, vous pouvez inclure plus ou moins de notions \"pythonesques\" dans vos propres classes.\n",
    "\n",
    "Opérations supportées\n",
    "---------------------\n",
    "\n",
    "Plus concrètement, on veut faire en sorte que cette implémentation des listes chainées supporte les opérations suivantes, chacune correspondant à une méthode 'magique' qui est utilisée par l'interpréteur Python.\n",
    "\n",
    "### Constructeur\n",
    "\n",
    "Le constructeur peut prendre un objet itérable en paramètre pour initialiser la liste avec les éléments du paramètre, voir la la méthode `__init__` :\n",
    "\n",
    "```python\n",
    "a_list = DoublyLinkedList([0, 1, 2])\n",
    "a_list = DoublyLinkedList((0, 1, 2))\n",
    "```\n",
    "\n",
    "### Longueur\n",
    "\n",
    "On peut utiliser la fonction `len` (et convertir la liste en booléen), voir la méthode `__len__`, l'implémentation par défaut de `__bool__` étant de tester si `__len__` retourne 0 :\n",
    "\n",
    "```python\n",
    "len(a_list) # renvoie la longueur de la liste\n",
    "if a_list:  # teste si la liste est vide\n",
    "    ....\n",
    "```\n",
    "\n",
    "### Appartenance\n",
    "\n",
    "On peut utiliser le test `in` pour savoir si un élément est dans la liste, Voir la méthode `__contains__`.\n",
    "\n",
    "```python\n",
    "0 in DoublyLinkedList([0, 1, 2]) # renvoie True\n",
    "3 in DoublyLinkedList([0, 1, 2]) # renvoie False\n",
    "3 not in DoublyLinkedList([0, 1, 2]) # renvoie True\n",
    "```\n",
    "\n",
    "### Protocole d'itération\n",
    "\n",
    "C'est le plus important, la classe doit fournir **un itérateur**  sur ses éléments. Ce _design pattern_ est utilisé en Python par toutes   les collections standards et simplifie l'écriture des programme, voir la méthode `__iter__` :\n",
    "\n",
    "```python\n",
    "a_list = DoublyLinkedList([0, 1, 2])\n",
    "\n",
    "a_table = list(a_list)\n",
    "for item in a_list:\n",
    "  print(item) # affiche 0, puis 1, puis 2\n",
    "\n",
    "a_new_list = [x*x for x in a_list] # l'équivalent de `map` pour votre structure\n",
    "```\n",
    "\n",
    "### Itération à l'envers\n",
    "\n",
    "Comme la liste est doublement chainée, on fournira aussi un itérateur qui parcoure la liste à l'envers, voir la méthode `__reversed__`\n",
    "\n",
    "```python\n",
    "for item in reversed(a_list):\n",
    "  print(itm) # affiche 0, puis 1, puis 2\n",
    "```\n",
    "  \n",
    "### Représentation en chaîne de caractères\n",
    "\n",
    "La liste pourra être convertie en chaîne de caractères, voir la méthode `__repr__`\n",
    "\n",
    "```python\n",
    "  a_list = DoublyLinkedList([0, 1, 2])\n",
    "  str(a_list)\n",
    "  print(a_list)\n",
    "```\n",
    "\n",
    "\n",
    "### Egalité\n",
    "\n",
    "Le test d'égalité entre deux listes vérifiera que les listes ont les mêmes éléments dans le même ordre, voir la méthode `__eq__` :\n",
    "\n",
    "```python\n",
    "  DoublyLinkedList([0, 1, 2]) == DoublyLinkedList([0, 1, 2]) # True\n",
    "```\n",
    "\n",
    "\n",
    "Interface standard Python\n",
    "-------------------------\n",
    "\n",
    "Les _Abstract Collection Class_ (ABC) de Python proposent une hiérarchie de type abstraits avec les méthodes (magiques) attendues correspondant aux opération supportées par les types.\n",
    "En un sens, le but du TP est de **faire une implémentation de la structure de liste chainée qui s'y conforme**, ici on implémentera les interfaces `Collection` et `Reversible` voir la documentation, <https://docs.python.org/3/library/collections.abc.html>\n",
    "\n",
    "Le plus \"standard\" dans les librairies Python pour les types de données de collection est de fournir un itérateur : on objet qui va permettre de parcourir les éléments de la collection sans la modifier. Un itérateur est un objet avec l'interface minimale suivante :\n",
    "\n",
    "* une méthode `__init__`\n",
    "* une méthode `__iter__` qui renvoie lui même\n",
    "* une méthode `__next__` qui renvoie un élément de la collection et passe au suivant pour le prochain appel. Si on a atteint le dernier élément, alors `__next__` lève une exception particulière avec par exemple `raise StopIteration()`\n",
    "\n",
    "Une alternative à l'utilisation d'une classe pour les itérateurs est d'utiliser l'instruction `yield`.\n"
   ]
  },
  {
   "cell_type": "code",
   "execution_count": 96,
   "metadata": {},
   "outputs": [],
   "source": [
    "\"\"\"A module for doubly linked lists.\"\"\"\n",
    "from collections.abc import Collection, Reversible, Iterable\n",
    "\n",
    "class Node(object):\n",
    "    \"\"\"A node type for doubly linked lists\"\"\"\n",
    "\n",
    "    def __init__(self, a_value, prev_node=None, next_node=None):\n",
    "        self.value = a_value\n",
    "        self.prev = prev_node\n",
    "        self.next = next_node\n",
    "\n",
    "class DoublyLinkedList(Collection, Reversible):\n",
    "    \"\"\"A collection type for doubly linked lists\"\"\"\n",
    "\n",
    "    def __init__(self, iterable=()):\n",
    "        if not isinstance(iterable, Iterable):\n",
    "            raise TypeError(\"Parameter 'iterable' is not Iterable\")\n",
    "        self.start = None\n",
    "        self.end = None\n",
    "        self.length = 0\n",
    "        for value in iterable:\n",
    "            self.push(value)\n",
    "            self.length += 1\n",
    "\n",
    "\n",
    "    def __len__(self):\n",
    "        return self.length\n",
    "\n",
    "    def push(self, a_value):\n",
    "        \"\"\"Push (append) an element to the right end of the list\"\"\"\n",
    "        new = Node(a_value, prev_node=self.end, next_node=None)\n",
    "        if self.end is not None:\n",
    "            self.end.next = new\n",
    "            self.end = new\n",
    "        else:  #cas particulier d'une liste vide\n",
    "            self.start = self.end = new\n",
    "        self.length += 1\n",
    "        return self\n",
    "\n",
    "    def pop(self):\n",
    "        \"\"\"Remove the element from the right end of the list, if any\"\"\"\n",
    "        if self.end is  None:\n",
    "            raise IndexError(\"List is already empty\")\n",
    "        out = self.end\n",
    "        if self.length == 1:\n",
    "            self.start = self.end =  None\n",
    "        else:\n",
    "            self.end.prev.next = None        \n",
    "            self.end = self.end.prev\n",
    "        self.length -= 1\n",
    "        return out.value \n",
    "    \n",
    "    def clear(self):\n",
    "        \"\"\"Empty the list\"\"\"\n",
    "        while self.start is not None:\n",
    "            out = self.start\n",
    "            self.start = self.start.next\n",
    "            del out\n",
    "        self.end = None\n",
    "        self.length = 0\n",
    "            \n",
    "\n",
    "    def __iter__(self):\n",
    "        return DoublyLinkedListIterator(self.start)\n",
    "\n",
    "    def __reversed__(self):\n",
    "        # Ici, faire votre propre classe d'itérateur pour parcourir à l'envers\n",
    "        return DoublyLinkedListReverseIterator(self.end)\n",
    "\n",
    "    def __contains__(self, a_value):\n",
    "        pointeur = self.start\n",
    "        while pointeur is not None and pointeur.value != a_value:\n",
    "            pointeur = pointeur.next\n",
    "        return pointeur is not None\n",
    "\n",
    "    def __repr__(self):\n",
    "        # S'appuie sur le protocole d'itération pour afficher les éléments\n",
    "        class_name = type(self).__name__\n",
    "        return f'{class_name}{tuple(self)}'\n",
    "    \n",
    "    #def __str__(self):\n",
    "        # S'appuie sur le protocole d'itération pour afficher les éléments\n",
    "      #return '[' + ','.join(str(e) for e in self) + ']'\n",
    "\n",
    "    def __eq__(self, other):\n",
    "        # S'appuie sur le protocole d'itération et l'égalité sur le type list de Python\n",
    "        if not isinstance(other, type(self)):\n",
    "            return NotImplemented\n",
    "        return list(self) == list(other)\n",
    "\n",
    "\n",
    "class DoublyLinkedListIterator(object):\n",
    "    \"\"\"An iterator for doubly linked lists\"\"\"\n",
    "    def __init__(self, the_start):\n",
    "        self.curseur = the_start\n",
    "\n",
    "    def __next__(self):\n",
    "        if self.curseur is not None:\n",
    "            value = self.curseur.value\n",
    "            self.curseur = self.curseur.next\n",
    "            return value\n",
    "        raise StopIteration\n",
    "\n",
    "    def __iter__(self):\n",
    "        return self\n",
    "    \n",
    "class DoublyLinkedListReverseIterator(object):\n",
    "    \"\"\"An iterator for doubly linked lists\"\"\"\n",
    "    def __init__(self, the_end):\n",
    "        self.curseur = the_end\n",
    "\n",
    "    def __next__(self):\n",
    "        if self.curseur is not None:\n",
    "            value = self.curseur.value\n",
    "            self.curseur = self.curseur.prev\n",
    "            return value\n",
    "        raise StopIteration\n",
    "\n",
    "    def __iter__(self):\n",
    "        return self"
   ]
  },
  {
   "cell_type": "code",
   "execution_count": 78,
   "metadata": {},
   "outputs": [],
   "source": [
    "a_list = DoublyLinkedList([0, 1, 2])"
   ]
  },
  {
   "cell_type": "code",
   "execution_count": 79,
   "metadata": {},
   "outputs": [
    {
     "data": {
      "text/plain": [
       "True"
      ]
     },
     "execution_count": 79,
     "metadata": {},
     "output_type": "execute_result"
    }
   ],
   "source": [
    "1 in a_list"
   ]
  },
  {
   "cell_type": "code",
   "execution_count": 80,
   "metadata": {},
   "outputs": [
    {
     "data": {
      "text/plain": [
       "False"
      ]
     },
     "execution_count": 80,
     "metadata": {},
     "output_type": "execute_result"
    }
   ],
   "source": [
    "3 in a_list"
   ]
  },
  {
   "cell_type": "code",
   "execution_count": 81,
   "metadata": {},
   "outputs": [
    {
     "data": {
      "text/plain": [
       "6"
      ]
     },
     "execution_count": 81,
     "metadata": {},
     "output_type": "execute_result"
    }
   ],
   "source": [
    "len(a_list)"
   ]
  },
  {
   "cell_type": "code",
   "execution_count": 82,
   "metadata": {},
   "outputs": [
    {
     "name": "stdout",
     "output_type": "stream",
     "text": [
      "0\n",
      "1\n",
      "2\n"
     ]
    }
   ],
   "source": [
    "for e in a_list:\n",
    "    print(e)"
   ]
  },
  {
   "cell_type": "code",
   "execution_count": 83,
   "metadata": {},
   "outputs": [
    {
     "data": {
      "text/plain": [
       "DoublyLinkedList(0, 1, 2)"
      ]
     },
     "execution_count": 83,
     "metadata": {},
     "output_type": "execute_result"
    }
   ],
   "source": [
    "a_list"
   ]
  },
  {
   "cell_type": "code",
   "execution_count": 84,
   "metadata": {},
   "outputs": [
    {
     "name": "stdout",
     "output_type": "stream",
     "text": [
      "[0,1,2]\n"
     ]
    }
   ],
   "source": [
    "print(a_list)"
   ]
  },
  {
   "cell_type": "code",
   "execution_count": 85,
   "metadata": {},
   "outputs": [
    {
     "name": "stdout",
     "output_type": "stream",
     "text": [
      "2\n",
      "1\n",
      "0\n"
     ]
    }
   ],
   "source": [
    "for e in reversed(a_list):\n",
    "    print(e)"
   ]
  },
  {
   "cell_type": "code",
   "execution_count": 86,
   "metadata": {},
   "outputs": [
    {
     "data": {
      "text/plain": [
       "'DoublyLinkedList(0, 1, 2)'"
      ]
     },
     "execution_count": 86,
     "metadata": {},
     "output_type": "execute_result"
    }
   ],
   "source": [
    "repr(a_list)"
   ]
  },
  {
   "cell_type": "code",
   "execution_count": 87,
   "metadata": {},
   "outputs": [
    {
     "data": {
      "text/plain": [
       "'[0,1,2]'"
      ]
     },
     "execution_count": 87,
     "metadata": {},
     "output_type": "execute_result"
    }
   ],
   "source": [
    "str(a_list)"
   ]
  },
  {
   "cell_type": "code",
   "execution_count": 88,
   "metadata": {},
   "outputs": [],
   "source": [
    "a_list.clear()"
   ]
  },
  {
   "cell_type": "code",
   "execution_count": 89,
   "metadata": {},
   "outputs": [
    {
     "data": {
      "text/plain": [
       "DoublyLinkedList()"
      ]
     },
     "execution_count": 89,
     "metadata": {},
     "output_type": "execute_result"
    }
   ],
   "source": [
    "a_list"
   ]
  },
  {
   "cell_type": "code",
   "execution_count": 90,
   "metadata": {},
   "outputs": [
    {
     "data": {
      "text/plain": [
       "True"
      ]
     },
     "execution_count": 90,
     "metadata": {},
     "output_type": "execute_result"
    }
   ],
   "source": [
    "isinstance(a_list, Collection)"
   ]
  },
  {
   "cell_type": "code",
   "execution_count": 91,
   "metadata": {},
   "outputs": [
    {
     "data": {
      "text/plain": [
       "True"
      ]
     },
     "execution_count": 91,
     "metadata": {},
     "output_type": "execute_result"
    }
   ],
   "source": [
    "isinstance(a_list, Reversible)"
   ]
  },
  {
   "cell_type": "code",
   "execution_count": 92,
   "metadata": {},
   "outputs": [
    {
     "data": {
      "text/plain": [
       "DoublyLinkedList(0,)"
      ]
     },
     "execution_count": 92,
     "metadata": {},
     "output_type": "execute_result"
    }
   ],
   "source": [
    "a_list.push(0)"
   ]
  },
  {
   "cell_type": "code",
   "execution_count": 93,
   "metadata": {},
   "outputs": [
    {
     "data": {
      "text/plain": [
       "DoublyLinkedList(0,)"
      ]
     },
     "execution_count": 93,
     "metadata": {},
     "output_type": "execute_result"
    }
   ],
   "source": [
    "a_list"
   ]
  },
  {
   "cell_type": "code",
   "execution_count": 94,
   "metadata": {},
   "outputs": [
    {
     "data": {
      "text/plain": [
       "DoublyLinkedList(0, 1, 2)"
      ]
     },
     "execution_count": 94,
     "metadata": {},
     "output_type": "execute_result"
    }
   ],
   "source": [
    "a_list.push(1).push(2)"
   ]
  },
  {
   "cell_type": "code",
   "execution_count": 95,
   "metadata": {},
   "outputs": [
    {
     "data": {
      "text/plain": [
       "<__main__.Node at 0x7fb14f12a400>"
      ]
     },
     "execution_count": 95,
     "metadata": {},
     "output_type": "execute_result"
    }
   ],
   "source": [
    "a_list.pop()"
   ]
  },
  {
   "cell_type": "markdown",
   "metadata": {},
   "source": [
    "```\n",
    "fjunier@fjunier:~/Git/DIU-Junier/bloc4/2_structures_de_donnees/sandbox/TP_listes_pythoneuse$ pytest-3\n",
    "=========================================================================================== test session starts ============================================================================================\n",
    "platform linux -- Python 3.6.9, pytest-3.3.2, py-1.5.2, pluggy-0.6.0\n",
    "rootdir: /home/fjunier/Git/DIU-Junier/bloc4/2_structures_de_donnees/sandbox/TP_listes_pythoneuse, inifile:\n",
    "plugins: Faker-4.1.0\n",
    "collected 21 items                                                                                                                                                                                         \n",
    "\n",
    "linked_list_test.py .....................                                                                                                                                                            [100%]\n",
    "\n",
    "======================================================================================== 21 passed in 0.10 seconds =========================================================================================\n",
    "```"
   ]
  }
 ],
 "metadata": {
  "kernelspec": {
   "display_name": "Python 3",
   "language": "python",
   "name": "python3"
  },
  "language_info": {
   "codemirror_mode": {
    "name": "ipython",
    "version": 3
   },
   "file_extension": ".py",
   "mimetype": "text/x-python",
   "name": "python",
   "nbconvert_exporter": "python",
   "pygments_lexer": "ipython3",
   "version": "3.6.9"
  }
 },
 "nbformat": 4,
 "nbformat_minor": 2
}
