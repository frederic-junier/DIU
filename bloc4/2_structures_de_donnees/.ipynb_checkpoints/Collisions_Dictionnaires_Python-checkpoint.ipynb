{
 "cells": [
  {
   "cell_type": "markdown",
   "metadata": {},
   "source": [
    "Romuald Thion :\n",
    "\n",
    "a commenté le message de romuald.thion : MESSAGE DE SERVICE @all le sujet de TP sur les algo de jointure à été complété avec un exemple de contenu du dictionnaire de join_hash\n",
    "\n",
    "Après investigation, suite à remarques de @fjunier les dictionnaires python font bien un \"re-check\" en cas de collisions, donc pas la peine d'en remettre un coup \"à la main\" pour join_hash\n"
   ]
  },
  {
   "cell_type": "markdown",
   "metadata": {},
   "source": [
    "## Code de Romuald Thion"
   ]
  },
  {
   "cell_type": "code",
   "execution_count": 4,
   "metadata": {},
   "outputs": [
    {
     "name": "stdout",
     "output_type": "stream",
     "text": [
      "**** Dummmy(0)'s id = 140223504694352 ****\n",
      "**** Dummmy(1)'s id = 140223504694744 ****\n",
      "**** Adds Dummmy(0) ****\n",
      "Calling __hash__([(140223504694352, 0)])\n",
      "--\n",
      "Calling __hash__([(140223504694352, 0)])\n",
      "True\n",
      "--\n",
      "Calling __hash__([(140223504694352, 0)])\n",
      "A\n",
      "--\n",
      "Calling __hash__([(140223504694744, 1)])\n",
      "Calling __eq__([(140223504694352, 0), (140223504694744, 1)])\n",
      "False\n",
      "**** Adds Dummmy(1) with same hash****\n",
      "Calling __hash__([(140223504694744, 1)])\n",
      "Calling __eq__([(140223504694352, 0), (140223504694744, 1)])\n",
      "--\n",
      "Calling __hash__([(140223504694352, 0)])\n",
      "True\n",
      "--\n",
      "Calling __hash__([(140223504694352, 0)])\n",
      "A\n",
      "--\n",
      "Calling __hash__([(140223504694744, 1)])\n",
      "Calling __eq__([(140223504694352, 0), (140223504694744, 1)])\n",
      "True\n",
      "--\n",
      "Calling __hash__([(140223504694744, 1)])\n",
      "Calling __eq__([(140223504694352, 0), (140223504694744, 1)])\n",
      "B\n"
     ]
    }
   ],
   "source": [
    "\"\"\"Minimal working example to check if Python dicts recheck equality on hash collision\"\"\"\n",
    "\n",
    "from functools import wraps\n",
    "\n",
    "# pylint: disable=no-member\n",
    "\n",
    "def traced(func):\n",
    "    \"\"\"Un décorateur qui trace et compte les exécutions\"\"\"\n",
    "    @wraps(func)\n",
    "    def wrapped(*args):\n",
    "        print(f'Calling {func.__name__}({[(id(x), x.val) for x in args] })')\n",
    "        wrapped.invocations += 1\n",
    "        return func(*args)\n",
    "    wrapped.invocations = 0\n",
    "    return wrapped\n",
    "\n",
    "class Dummy:\n",
    "    \"\"\"A dummy class with a custom hash fct that collides\"\"\"\n",
    "    def __init__(self, val):\n",
    "        self.val = val\n",
    "\n",
    "    @traced\n",
    "    def __hash__(self):\n",
    "        return 42\n",
    "\n",
    "    @traced\n",
    "    def __eq__(self, other):\n",
    "        if not isinstance(other, type(self)):\n",
    "            return NotImplemented\n",
    "        return self.val == other.val\n",
    "\n",
    "if __name__ == '__main__':\n",
    "    dummy_0 = Dummy(0)\n",
    "    print(f\"**** Dummmy(0)'s id = {id(dummy_0)} ****\")\n",
    "    dummy_1 = Dummy(1)\n",
    "    print(f\"**** Dummmy(1)'s id = {id(dummy_1)} ****\")\n",
    "    a_dict = {}\n",
    "\n",
    "    print(\"**** Adds Dummmy(0) ****\")\n",
    "    a_dict[dummy_0] = \"A\"\n",
    "    print('--')\n",
    "    print(dummy_0 in a_dict)\n",
    "    print('--')\n",
    "    print(a_dict[dummy_0])\n",
    "    print('--')\n",
    "    print(dummy_1 in a_dict)\n",
    "\n",
    "    print(\"**** Adds Dummmy(1) with same hash****\")\n",
    "    a_dict[dummy_1] = \"B\"\n",
    "    print('--')\n",
    "    print(dummy_0 in a_dict)\n",
    "    print('--')\n",
    "    print(a_dict[dummy_0])\n",
    "    print('--')\n",
    "    print(dummy_1 in a_dict)\n",
    "    print('--')\n",
    "    print(a_dict[dummy_1])\n",
    "\n"
   ]
  },
  {
   "cell_type": "markdown",
   "metadata": {},
   "source": [
    "On voit bien la gestion des collisions au niveau de l'appel à `__eq__` lorsque la valeur de hash est la même"
   ]
  }
 ],
 "metadata": {
  "kernelspec": {
   "display_name": "Python 3",
   "language": "python",
   "name": "python3"
  },
  "language_info": {
   "codemirror_mode": {
    "name": "ipython",
    "version": 3
   },
   "file_extension": ".py",
   "mimetype": "text/x-python",
   "name": "python",
   "nbconvert_exporter": "python",
   "pygments_lexer": "ipython3",
   "version": "3.6.9"
  }
 },
 "nbformat": 4,
 "nbformat_minor": 2
}
